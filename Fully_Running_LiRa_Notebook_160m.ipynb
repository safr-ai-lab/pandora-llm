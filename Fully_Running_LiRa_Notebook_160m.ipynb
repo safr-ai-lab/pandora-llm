{
 "cells": [
  {
   "cell_type": "markdown",
   "id": "a1e6f034",
   "metadata": {
    "id": "5VBpNEP7981S",
    "papermill": {
     "duration": 0.008535,
     "end_time": "2023-04-28T20:10:07.111120",
     "exception": false,
     "start_time": "2023-04-28T20:10:07.102585",
     "status": "completed"
    },
    "tags": []
   },
   "source": [
    "# LiRa Shadow Models 160M\n",
    "\n",
    "@Jeffrey the only changes I made was memoized roc plotting (so you don't have to run inference per threshold) and saving/loading models in sequence to fit the larger models reasonably. I'm not sure why there is such a difference in your 70M model, although Marvin has said before that the 70M one was just very sus and outlier-like in general, so maybe that's it?"
   ]
  },
  {
   "cell_type": "code",
   "execution_count": 34,
   "id": "f6ea6824",
   "metadata": {
    "execution": {
     "iopub.execute_input": "2023-04-28T20:10:07.127039Z",
     "iopub.status.busy": "2023-04-28T20:10:07.126440Z",
     "iopub.status.idle": "2023-04-28T20:10:10.584783Z",
     "shell.execute_reply": "2023-04-28T20:10:10.583917Z"
    },
    "id": "6WhPvtzMd2PK",
    "papermill": {
     "duration": 3.468571,
     "end_time": "2023-04-28T20:10:10.586880",
     "exception": false,
     "start_time": "2023-04-28T20:10:07.118309",
     "status": "completed"
    },
    "tags": []
   },
   "outputs": [],
   "source": [
    "import torch\n",
    "from torch.utils.data import DataLoader, Dataset, random_split\n",
    "from datasets import load_dataset\n",
    "from transformers import GPTNeoXForCausalLM, AutoTokenizer\n",
    "from transformers.optimization import AdamW\n",
    "from transformers import Trainer, TrainingArguments\n",
    "import pickle\n",
    "from sklearn.metrics import roc_curve, auc\n",
    "import numpy as np\n",
    "import matplotlib.pyplot as plt\n",
    "%matplotlib inline\n",
    "\n",
    "device = \"cuda\" if torch.cuda.is_available() else \"cpu\"\n",
    "\n",
    "## Memory statistics. I had to be careful with cuda memory \n",
    "def mem_stats():\n",
    "    t = torch.cuda.get_device_properties(0).total_memory / 1024**3\n",
    "    r = torch.cuda.memory_reserved(0) / 1024**3\n",
    "    a = torch.cuda.memory_allocated(0) / 1024**3\n",
    "    print(f\"Total Memory: {t:.2f} GB\\n\"\n",
    "          f\"Reserved Memory: {r:.2f} GB ({(100*(r/t)):.2f}%)\\n\"\n",
    "          f\"Remaining Memory: {t-r:.2f} GB ({(100*(t-r)/t):.2f}%)\\n\"\n",
    "          f\"---------------------------------\\n\"\n",
    "          f\"Allocated Memory: {a:.2f} GB ({(100*(a/t)):.2f}%)\\n\"\n",
    "          f\"Percent of Reserved Allocated: {(100*(a+1e-9)/(r+1e-9)):.2f}%\\n\")"
   ]
  },
  {
   "cell_type": "code",
   "execution_count": 2,
   "id": "1defb3de",
   "metadata": {
    "execution": {
     "iopub.execute_input": "2023-04-28T20:10:10.603598Z",
     "iopub.status.busy": "2023-04-28T20:10:10.602891Z",
     "iopub.status.idle": "2023-04-28T20:10:11.478753Z",
     "shell.execute_reply": "2023-04-28T20:10:11.477876Z"
    },
    "id": "qOrSRrDWd3iX",
    "papermill": {
     "duration": 0.885493,
     "end_time": "2023-04-28T20:10:11.480563",
     "exception": false,
     "start_time": "2023-04-28T20:10:10.595070",
     "status": "completed"
    },
    "tags": []
   },
   "outputs": [
    {
     "name": "stderr",
     "output_type": "stream",
     "text": [
      "Found cached dataset amazon_us_reviews (/home/ec2-user/.cache/huggingface/datasets/amazon_us_reviews/Baby_v1_00/0.1.0/17b2481be59723469538adeb8fd0a68b0ba363bbbdd71090e72c325ee6c7e563)\n"
     ]
    },
    {
     "data": {
      "application/vnd.jupyter.widget-view+json": {
       "model_id": "86bfffcd375843bab8a75509738f3454",
       "version_major": 2,
       "version_minor": 0
      },
      "text/plain": [
       "  0%|          | 0/1 [00:00<?, ?it/s]"
      ]
     },
     "metadata": {},
     "output_type": "display_data"
    }
   ],
   "source": [
    "from datasets import load_dataset\n",
    "\n",
    "dataset = load_dataset(\"amazon_us_reviews\", \"Baby_v1_00\") # Baby reviews a bit more distinctive than CPU"
   ]
  },
  {
   "cell_type": "code",
   "execution_count": 3,
   "id": "224a92a1",
   "metadata": {
    "execution": {
     "iopub.execute_input": "2023-04-28T20:10:11.497501Z",
     "iopub.status.busy": "2023-04-28T20:10:11.496918Z",
     "iopub.status.idle": "2023-04-28T20:10:11.501915Z",
     "shell.execute_reply": "2023-04-28T20:10:11.501081Z"
    },
    "id": "9uqcOzOEQCOS",
    "papermill": {
     "duration": 0.014987,
     "end_time": "2023-04-28T20:10:11.503709",
     "exception": false,
     "start_time": "2023-04-28T20:10:11.488722",
     "status": "completed"
    },
    "tags": []
   },
   "outputs": [],
   "source": [
    "# Settings\n",
    "small_string_filter = 20 # filters small strings \n",
    "dataset_division_constant = 250\n",
    "early_stop_patience = 1 # >= 1 (if val loss increases, runs early_stop_patience more epochs, then stops)\n",
    "\n",
    "# Parameters\n",
    "N = 12 # num_models (more doesn't necessarily help that much; I tried 16)\n",
    "epochs = 12 # epochs to train (unless validation loss rises)\n",
    "bs = 1\n",
    "learn = 5e-5\n",
    "mod_size = \"160m\""
   ]
  },
  {
   "cell_type": "code",
   "execution_count": 4,
   "id": "8c13ca55",
   "metadata": {
    "colab": {
     "base_uri": "https://localhost:8080/"
    },
    "execution": {
     "iopub.execute_input": "2023-04-28T20:10:11.523688Z",
     "iopub.status.busy": "2023-04-28T20:10:11.523086Z",
     "iopub.status.idle": "2023-04-28T20:10:13.963377Z",
     "shell.execute_reply": "2023-04-28T20:10:13.962473Z"
    },
    "id": "0lUDo61Q8_Ae",
    "outputId": "16920236-c3db-4184-d526-5d91ed802231",
    "papermill": {
     "duration": 2.454454,
     "end_time": "2023-04-28T20:10:13.965580",
     "exception": false,
     "start_time": "2023-04-28T20:10:11.511126",
     "status": "completed"
    },
    "tags": []
   },
   "outputs": [
    {
     "name": "stdout",
     "output_type": "stream",
     "text": [
      "Dataset Len: 7011\n",
      "Dataset Len: 6694\n",
      "Dataset Len: 6130\n"
     ]
    }
   ],
   "source": [
    "# Deduping and getting rid of extremely short strings \n",
    "global_dataset = dataset[\"train\"]['review_body'][:len(dataset[\"train\"])//dataset_division_constant]\n",
    "print(f\"Dataset Len: {len(global_dataset)}\")\n",
    "global_dataset = list(set(entry for entry in global_dataset))\n",
    "print(f\"Dataset Len: {len(global_dataset)}\")\n",
    "global_dataset = list(set(entry for entry in global_dataset if len(entry) > small_string_filter))\n",
    "print(f\"Dataset Len: {len(global_dataset)}\")"
   ]
  },
  {
   "cell_type": "code",
   "execution_count": 5,
   "id": "ab7a57bb",
   "metadata": {
    "execution": {
     "iopub.execute_input": "2023-04-28T20:10:13.982974Z",
     "iopub.status.busy": "2023-04-28T20:10:13.982354Z",
     "iopub.status.idle": "2023-04-28T20:10:16.258597Z",
     "shell.execute_reply": "2023-04-28T20:10:16.257634Z"
    },
    "id": "aXdZ7NQ2Eow7",
    "papermill": {
     "duration": 2.286841,
     "end_time": "2023-04-28T20:10:16.260632",
     "exception": false,
     "start_time": "2023-04-28T20:10:13.973791",
     "status": "completed"
    },
    "tags": []
   },
   "outputs": [],
   "source": [
    "validation = dataset[\"train\"]['review_body'][len(dataset[\"train\"])//dataset_division_constant: 2*len(dataset[\"train\"])//dataset_division_constant]\n",
    "validation = list(set(entry for entry in validation if len(entry) > small_string_filter))"
   ]
  },
  {
   "cell_type": "code",
   "execution_count": 6,
   "id": "e7f453c0",
   "metadata": {
    "colab": {
     "base_uri": "https://localhost:8080/"
    },
    "execution": {
     "iopub.execute_input": "2023-04-28T20:10:16.278317Z",
     "iopub.status.busy": "2023-04-28T20:10:16.277763Z",
     "iopub.status.idle": "2023-04-28T20:10:16.282804Z",
     "shell.execute_reply": "2023-04-28T20:10:16.282032Z"
    },
    "id": "HxAYSZqHE297",
    "outputId": "3d0aad77-275f-45fa-d4c6-25c0698aa9cb",
    "papermill": {
     "duration": 0.015486,
     "end_time": "2023-04-28T20:10:16.284553",
     "exception": false,
     "start_time": "2023-04-28T20:10:16.269067",
     "status": "completed"
    },
    "tags": []
   },
   "outputs": [
    {
     "name": "stdout",
     "output_type": "stream",
     "text": [
      "3112\n"
     ]
    }
   ],
   "source": [
    "validation = validation[:len(validation) // 2]\n",
    "print(len(validation))"
   ]
  },
  {
   "cell_type": "markdown",
   "id": "81d4bfa9",
   "metadata": {
    "id": "GOXUsaL2i4nf",
    "papermill": {
     "duration": 0.007489,
     "end_time": "2023-04-28T20:10:16.300440",
     "exception": false,
     "start_time": "2023-04-28T20:10:16.292951",
     "status": "completed"
    },
    "tags": []
   },
   "source": [
    "# Data Creation"
   ]
  },
  {
   "cell_type": "code",
   "execution_count": 7,
   "id": "8d3cbdf2",
   "metadata": {
    "execution": {
     "iopub.execute_input": "2023-04-28T20:10:16.341561Z",
     "iopub.status.busy": "2023-04-28T20:10:16.340704Z",
     "iopub.status.idle": "2023-04-28T20:10:16.461767Z",
     "shell.execute_reply": "2023-04-28T20:10:16.460882Z"
    },
    "id": "5H1ORZ0gi5Kq",
    "papermill": {
     "duration": 0.155786,
     "end_time": "2023-04-28T20:10:16.463815",
     "exception": false,
     "start_time": "2023-04-28T20:10:16.308029",
     "status": "completed"
    },
    "tags": []
   },
   "outputs": [],
   "source": [
    "# Train until train loss = val loss\n",
    "tokenizer = AutoTokenizer.from_pretrained(f\"EleutherAI/pythia-{mod_size}-deduped\")"
   ]
  },
  {
   "cell_type": "code",
   "execution_count": 8,
   "id": "aa25ced9",
   "metadata": {
    "execution": {
     "iopub.execute_input": "2023-04-28T20:10:16.481663Z",
     "iopub.status.busy": "2023-04-28T20:10:16.481077Z",
     "iopub.status.idle": "2023-04-28T20:10:16.487297Z",
     "shell.execute_reply": "2023-04-28T20:10:16.486274Z"
    },
    "id": "orOsY6fB7Q7C",
    "papermill": {
     "duration": 0.016999,
     "end_time": "2023-04-28T20:10:16.489313",
     "exception": false,
     "start_time": "2023-04-28T20:10:16.472314",
     "status": "completed"
    },
    "tags": []
   },
   "outputs": [],
   "source": [
    "def collate_fn(batch):\n",
    "    global model\n",
    "    tokens = [tokenizer.encode(example, return_tensors=\"pt\", truncation=True,max_length=model.config.max_position_embeddings) for example in batch]\n",
    "    max_length = max([t.size(1) for t in tokens])\n",
    "    tokens_padded = [torch.cat([t, t.new_zeros(t.size(0), max_length - t.size(1))], dim=1) for t in tokens]\n",
    "    tokens_padded = torch.cat(tokens_padded, dim=0)\n",
    "    return {\n",
    "        \"input_ids\":tokens_padded,\n",
    "        \"labels\":tokens_padded,\n",
    "        \"attention_mask\": (tokens_padded > 0).clone().detach().to(dtype=torch.int)\n",
    "    }"
   ]
  },
  {
   "cell_type": "code",
   "execution_count": 9,
   "id": "c8e31515",
   "metadata": {
    "execution": {
     "iopub.execute_input": "2023-04-28T20:10:16.506392Z",
     "iopub.status.busy": "2023-04-28T20:10:16.505832Z",
     "iopub.status.idle": "2023-04-28T20:10:16.510962Z",
     "shell.execute_reply": "2023-04-28T20:10:16.510156Z"
    },
    "id": "Oui0brvN7eQw",
    "papermill": {
     "duration": 0.015678,
     "end_time": "2023-04-28T20:10:16.512893",
     "exception": false,
     "start_time": "2023-04-28T20:10:16.497215",
     "status": "completed"
    },
    "tags": []
   },
   "outputs": [],
   "source": [
    "def arr_split(chunks, N):\n",
    "    if N % 2 != 0:\n",
    "        print(\"Need even N!\")\n",
    "        return []\n",
    "    lists = [[] for i in range(N)]\n",
    "\n",
    "    for i in range(N):\n",
    "        for j in range(i, int(i + N/2)):\n",
    "            lists[i] += chunks[j % N]\n",
    "\n",
    "    return lists"
   ]
  },
  {
   "cell_type": "code",
   "execution_count": 10,
   "id": "583c0fc4",
   "metadata": {
    "execution": {
     "iopub.execute_input": "2023-04-28T20:10:16.529799Z",
     "iopub.status.busy": "2023-04-28T20:10:16.529319Z",
     "iopub.status.idle": "2023-04-28T20:10:16.533820Z",
     "shell.execute_reply": "2023-04-28T20:10:16.532830Z"
    },
    "id": "nQUOLEnGFNPj",
    "papermill": {
     "duration": 0.015206,
     "end_time": "2023-04-28T20:10:16.535752",
     "exception": false,
     "start_time": "2023-04-28T20:10:16.520546",
     "status": "completed"
    },
    "tags": []
   },
   "outputs": [],
   "source": [
    "def orthogonal_chunk(i):\n",
    "    return int(N/2 + i) % N"
   ]
  },
  {
   "cell_type": "code",
   "execution_count": 11,
   "id": "a93da771",
   "metadata": {
    "execution": {
     "iopub.execute_input": "2023-04-28T20:10:16.553363Z",
     "iopub.status.busy": "2023-04-28T20:10:16.552800Z",
     "iopub.status.idle": "2023-04-28T20:10:16.557888Z",
     "shell.execute_reply": "2023-04-28T20:10:16.557008Z"
    },
    "id": "XrXeSgco-2J3",
    "papermill": {
     "duration": 0.016084,
     "end_time": "2023-04-28T20:10:16.559887",
     "exception": false,
     "start_time": "2023-04-28T20:10:16.543803",
     "status": "completed"
    },
    "tags": []
   },
   "outputs": [],
   "source": [
    "data_chunks = [global_dataset[i * len(global_dataset)//N : (i+1) * len(global_dataset) // N] for i in range(N)]"
   ]
  },
  {
   "cell_type": "code",
   "execution_count": 12,
   "id": "9e96ed40",
   "metadata": {
    "execution": {
     "iopub.execute_input": "2023-04-28T20:10:16.576695Z",
     "iopub.status.busy": "2023-04-28T20:10:16.576250Z",
     "iopub.status.idle": "2023-04-28T20:10:16.580763Z",
     "shell.execute_reply": "2023-04-28T20:10:16.579835Z"
    },
    "id": "HASzjlsp_Jjp",
    "papermill": {
     "duration": 0.014995,
     "end_time": "2023-04-28T20:10:16.582710",
     "exception": false,
     "start_time": "2023-04-28T20:10:16.567715",
     "status": "completed"
    },
    "tags": []
   },
   "outputs": [],
   "source": [
    "data_arr = arr_split(data_chunks, N)"
   ]
  },
  {
   "cell_type": "code",
   "execution_count": 13,
   "id": "c73b347b",
   "metadata": {
    "colab": {
     "base_uri": "https://localhost:8080/"
    },
    "execution": {
     "iopub.execute_input": "2023-04-28T20:10:16.600065Z",
     "iopub.status.busy": "2023-04-28T20:10:16.599578Z",
     "iopub.status.idle": "2023-04-28T20:10:16.605890Z",
     "shell.execute_reply": "2023-04-28T20:10:16.604774Z"
    },
    "id": "HwokL-tVP6ZH",
    "outputId": "1f54eb9c-5efb-45cb-ffc3-2407d44ef898",
    "papermill": {
     "duration": 0.017458,
     "end_time": "2023-04-28T20:10:16.607991",
     "exception": false,
     "start_time": "2023-04-28T20:10:16.590533",
     "status": "completed"
    },
    "tags": []
   },
   "outputs": [
    {
     "data": {
      "text/plain": [
       "3065"
      ]
     },
     "execution_count": 13,
     "metadata": {},
     "output_type": "execute_result"
    }
   ],
   "source": [
    "len(data_arr[0])"
   ]
  },
  {
   "cell_type": "markdown",
   "id": "8eaccbc7",
   "metadata": {
    "id": "s4IIn7qJBeoO",
    "papermill": {
     "duration": 0.007458,
     "end_time": "2023-04-28T20:10:16.623502",
     "exception": false,
     "start_time": "2023-04-28T20:10:16.616044",
     "status": "completed"
    },
    "tags": []
   },
   "source": [
    "# Fine Tune Method"
   ]
  },
  {
   "cell_type": "code",
   "execution_count": 14,
   "id": "cb485fc7",
   "metadata": {
    "execution": {
     "iopub.execute_input": "2023-04-28T20:10:16.640551Z",
     "iopub.status.busy": "2023-04-28T20:10:16.639909Z",
     "iopub.status.idle": "2023-04-28T20:10:16.646643Z",
     "shell.execute_reply": "2023-04-28T20:10:16.645664Z"
    },
    "id": "UVx3Kx0fBfrr",
    "papermill": {
     "duration": 0.017202,
     "end_time": "2023-04-28T20:10:16.648497",
     "exception": false,
     "start_time": "2023-04-28T20:10:16.631295",
     "status": "completed"
    },
    "tags": []
   },
   "outputs": [],
   "source": [
    "def train(model, train_dataset, val_dataset, collate_fn, batch_size, epochs):\n",
    "    model = model.to(device)\n",
    "    model.config.use_cache = False\n",
    "    training_args = TrainingArguments(output_dir=\"fine-tuning\",\n",
    "                                    do_train=True,\n",
    "                                    do_eval=True,\n",
    "                                    num_train_epochs=epochs,\n",
    "                                    per_device_train_batch_size=batch_size,\n",
    "                                    per_device_eval_batch_size=batch_size,\n",
    "                                    evaluation_strategy=\"epoch\",\n",
    "                                    logging_strategy=\"epoch\",\n",
    "                                    save_strategy=\"epoch\",\n",
    "                                    gradient_accumulation_steps=1,\n",
    "                                    gradient_checkpointing=False,\n",
    "                                    load_best_model_at_end = True,\n",
    "                                    optim=\"adafactor\",\n",
    "                                    )\n",
    "    trainer = Trainer(model=model,\n",
    "                    args=training_args,\n",
    "                    train_dataset=train_dataset,\n",
    "                    eval_dataset=val_dataset,\n",
    "                    tokenizer=tokenizer,\n",
    "                    data_collator=collate_fn,\n",
    "                    callbacks=[EarlyStoppingCallback(early_stop_patience, 0.0)] # if val loss improve for >1 iterations, end. \n",
    "                  )\n",
    "    trainer.train()\n",
    "    return model"
   ]
  },
  {
   "cell_type": "markdown",
   "id": "3acdc505",
   "metadata": {
    "id": "e3K75PIVRMAY",
    "papermill": {
     "duration": 0.007109,
     "end_time": "2023-04-28T20:10:16.663157",
     "exception": false,
     "start_time": "2023-04-28T20:10:16.656048",
     "status": "completed"
    },
    "tags": []
   },
   "source": [
    "# Base Model (to be attacked)"
   ]
  },
  {
   "cell_type": "code",
   "execution_count": 15,
   "id": "2e8267ea",
   "metadata": {
    "colab": {
     "base_uri": "https://localhost:8080/",
     "height": 628
    },
    "execution": {
     "iopub.execute_input": "2023-04-28T20:10:16.679426Z",
     "iopub.status.busy": "2023-04-28T20:10:16.678816Z",
     "iopub.status.idle": "2023-04-28T20:10:16.684354Z",
     "shell.execute_reply": "2023-04-28T20:10:16.683385Z"
    },
    "id": "SvL8yXllRNmh",
    "outputId": "3e3a8849-b923-4807-b68d-ee235fdac4f1",
    "papermill": {
     "duration": 0.015973,
     "end_time": "2023-04-28T20:10:16.686422",
     "exception": false,
     "start_time": "2023-04-28T20:10:16.670449",
     "status": "completed"
    },
    "tags": []
   },
   "outputs": [
    {
     "name": "stdout",
     "output_type": "stream",
     "text": [
      "cuda\n"
     ]
    }
   ],
   "source": [
    "# Fine tune a model on the first 6 chunks of data\n",
    "\n",
    "from transformers import EarlyStoppingCallback\n",
    "device = \"cuda\" if torch.cuda.is_available() else \"cpu\"\n",
    "print(device)\n",
    "model = GPTNeoXForCausalLM.from_pretrained(f\"EleutherAI/pythia-{mod_size}-deduped\").to(device)\n",
    "train(model, data_arr[0], data_arr[orthogonal_chunk(0)], collate_fn, bs, epochs)\n",
    "model.save_pretrained(\"lira_large/pythia-160m\", from_pt=True) \n",
    "del model\n",
    "torch.cuda.empty_cache()"
   ]
  },
  {
   "cell_type": "markdown",
   "id": "a39e13f4",
   "metadata": {
    "id": "Rx0EBC_yLgpx",
    "papermill": {
     "duration": 0.007764,
     "end_time": "2023-04-28T20:10:16.702519",
     "exception": false,
     "start_time": "2023-04-28T20:10:16.694755",
     "status": "completed"
    },
    "tags": []
   },
   "source": [
    "# Shadow Models"
   ]
  },
  {
   "cell_type": "code",
   "execution_count": 16,
   "id": "46f8db55",
   "metadata": {
    "colab": {
     "base_uri": "https://localhost:8080/",
     "height": 1000
    },
    "execution": {
     "iopub.execute_input": "2023-04-28T20:10:16.719944Z",
     "iopub.status.busy": "2023-04-28T20:10:16.719323Z",
     "iopub.status.idle": "2023-04-28T20:10:16.723648Z",
     "shell.execute_reply": "2023-04-28T20:10:16.722849Z"
    },
    "id": "_mAxiv2AOJSM",
    "outputId": "4227525d-7cf8-49dc-a1ba-9faecaa802c4",
    "papermill": {
     "duration": 0.015097,
     "end_time": "2023-04-28T20:10:16.725477",
     "exception": false,
     "start_time": "2023-04-28T20:10:16.710380",
     "status": "completed"
    },
    "tags": []
   },
   "outputs": [],
   "source": [
    "for i in range(N):\n",
    "    print(f\"Model #{i}\")\n",
    "    model = GPTNeoXForCausalLM.from_pretrained(f\"EleutherAI/pythia-{mod_size}-deduped\").to(device)\n",
    "    mem_stats()\n",
    "    model = train(model, data_arr[i], data_arr[orthogonal_chunk(i)], collate_fn, bs, epochs)\n",
    "    model.save_pretrained(f\"lira_large/pythia-160m-shadow-{i}\", from_pt=True) \n",
    "    del model\n",
    "    torch.cuda.empty_cache()\n",
    "    mem_stats()"
   ]
  },
  {
   "cell_type": "markdown",
   "id": "38822a80",
   "metadata": {
    "id": "47itxUQQLui9",
    "papermill": {
     "duration": 0.007299,
     "end_time": "2023-04-28T20:10:16.740209",
     "exception": false,
     "start_time": "2023-04-28T20:10:16.732910",
     "status": "completed"
    },
    "tags": []
   },
   "source": [
    "# Evaluation"
   ]
  },
  {
   "cell_type": "code",
   "execution_count": 17,
   "id": "413d7a50",
   "metadata": {
    "execution": {
     "iopub.execute_input": "2023-04-28T20:10:16.756299Z",
     "iopub.status.busy": "2023-04-28T20:10:16.755745Z",
     "iopub.status.idle": "2023-04-28T20:10:16.761640Z",
     "shell.execute_reply": "2023-04-28T20:10:16.760774Z"
    },
    "id": "seLPnaKMbYfE",
    "papermill": {
     "duration": 0.015773,
     "end_time": "2023-04-28T20:10:16.763417",
     "exception": false,
     "start_time": "2023-04-28T20:10:16.747644",
     "status": "completed"
    },
    "tags": []
   },
   "outputs": [],
   "source": [
    "def get_in_models(chunk_no, N):\n",
    "    \"\"\"\n",
    "    Returns a list of models that should be used for inference for a given chunk\n",
    "    \"\"\"\n",
    "    ins = []\n",
    "    outs = []\n",
    "    for i in range(N):\n",
    "        lower = i\n",
    "        upper = int(i+N/2)\n",
    "        innit = False\n",
    "        for j in range(lower, upper):\n",
    "            if chunk_no == j % N:\n",
    "                innit = True\n",
    "        if innit:\n",
    "            ins.append(i)\n",
    "        else:\n",
    "            outs.append(i)\n",
    "    return (ins, outs)"
   ]
  },
  {
   "cell_type": "code",
   "execution_count": 18,
   "id": "e25e8f5c",
   "metadata": {
    "execution": {
     "iopub.execute_input": "2023-04-28T20:10:16.779726Z",
     "iopub.status.busy": "2023-04-28T20:10:16.779200Z",
     "iopub.status.idle": "2023-04-28T20:10:16.785521Z",
     "shell.execute_reply": "2023-04-28T20:10:16.784653Z"
    },
    "id": "7TWjqlziLu6W",
    "papermill": {
     "duration": 0.016331,
     "end_time": "2023-04-28T20:10:16.787297",
     "exception": false,
     "start_time": "2023-04-28T20:10:16.770966",
     "status": "completed"
    },
    "tags": []
   },
   "outputs": [],
   "source": [
    "from torch.nn import CrossEntropyLoss\n",
    "import math\n",
    "\n",
    "def compute_ce_loss(model, tokenizer, string):\n",
    "    input_ids = tokenizer.encode(string, return_tensors=\"pt\").to(device)\n",
    "\n",
    "    with torch.no_grad():\n",
    "        outputs = model(input_ids)\n",
    "        logits = outputs.logits\n",
    "\n",
    "    loss_fn = CrossEntropyLoss()\n",
    "    input_len = input_ids.shape[-1] - 1\n",
    "    input_ids_without_first_token = input_ids[:, 1:]\n",
    "    logits_without_last_token = logits[:, :-1, :]\n",
    "    loss = loss_fn(logits_without_last_token.view(-1, logits.size(-1)), input_ids_without_first_token.view(-1))\n",
    "    return loss\n",
    "\n",
    "def compute_confidence(ce_loss):\n",
    "    conf = math.exp(-1 * ce_loss)\n",
    "    return math.log(conf / (1-conf))"
   ]
  },
  {
   "cell_type": "code",
   "execution_count": 20,
   "id": "cefa2493",
   "metadata": {
    "execution": {
     "iopub.execute_input": "2023-04-28T20:10:16.825527Z",
     "iopub.status.busy": "2023-04-28T20:10:16.825015Z",
     "iopub.status.idle": "2023-04-28T20:10:16.830549Z",
     "shell.execute_reply": "2023-04-28T20:10:16.829770Z"
    },
    "id": "hLNLHa-6jhk9",
    "papermill": {
     "duration": 0.015355,
     "end_time": "2023-04-28T20:10:16.832268",
     "exception": false,
     "start_time": "2023-04-28T20:10:16.816913",
     "status": "completed"
    },
    "tags": []
   },
   "outputs": [],
   "source": [
    "import random\n",
    "import scipy.stats as stats\n",
    "\n",
    "def conf_nums(paths, ins, exs, tokenizer):\n",
    "    confs = []\n",
    "    for i, path in enumerate(paths):\n",
    "        model = GPTNeoXForCausalLM.from_pretrained(path).to(device)\n",
    "        if i in ins:\n",
    "            for ex in exs:\n",
    "                ce_loss = compute_ce_loss(model, tokenizer, ex)\n",
    "                confs.append(compute_confidence(ce_loss))\n",
    "        del model\n",
    "        torch.cuda.empty_cache()\n",
    "    return (np.mean(confs), np.std(confs))"
   ]
  },
  {
   "cell_type": "code",
   "execution_count": 21,
   "id": "6855db0a",
   "metadata": {
    "execution": {
     "iopub.execute_input": "2023-04-28T20:10:16.848930Z",
     "iopub.status.busy": "2023-04-28T20:10:16.848333Z",
     "iopub.status.idle": "2023-04-28T20:20:49.791566Z",
     "shell.execute_reply": "2023-04-28T20:20:49.790712Z"
    },
    "papermill": {
     "duration": 632.961874,
     "end_time": "2023-04-28T20:20:49.801924",
     "exception": false,
     "start_time": "2023-04-28T20:10:16.840050",
     "status": "completed"
    },
    "tags": []
   },
   "outputs": [],
   "source": [
    "# We're considering a \"chunk\" as a discrete entity\n",
    "\n",
    "results = []\n",
    "for i, chunk in enumerate(data_chunks):\n",
    "    print(f\"Processing Chunk {i}...\")\n",
    "    ins, outs = get_in_models(i, N)\n",
    "    # Get Random Samples\n",
    "    exs = random.sample(chunk, 25)\n",
    "\n",
    "    # Get IN Mu/Stdev\n",
    "    mu_in, std_in = conf_nums([f\"./lira_large/pythia-160m-shadow-{i}\" for i in range(N)], ins, exs, tokenizer)\n",
    "\n",
    "    # Get OUT Mu/Stdev\n",
    "    mu_out, std_out = conf_nums([f\"./lira_large/pythia-160m-shadow-{i}\" for i in range(N)], outs, exs, tokenizer)\n",
    "\n",
    "    # Get TARGET Mu\n",
    "    mu_target, std_target = conf_nums([f\"./lira_large/pythia-160m\"], [0], exs, tokenizer)\n",
    "\n",
    "    likelihood_in = stats.norm.pdf(mu_target, mu_in, std_in)\n",
    "    likelihood_out = stats.norm.pdf(mu_target, mu_out, std_out)\n",
    "    lira = likelihood_in / likelihood_out\n",
    "    in_true_model = i >= 0 and i < N/2\n",
    "    results.append((likelihood_in,likelihood_out,lira,in_true_model))\n",
    "    print(f\"Likelihood In: {likelihood_in}\\n\"\n",
    "          f\"Likelihood Out: {likelihood_out}\\n\"\n",
    "          f\"LiRa: {lira}\\n\"\n",
    "          f\"In True Mode: {in_true_model}\\n\")\n",
    "    \n",
    "with open(\"./lira_large/lira.pickle\",\"wb\") as f:\n",
    "    pickle.dump(results,f)"
   ]
  },
  {
   "cell_type": "code",
   "execution_count": 81,
   "id": "303e3d80",
   "metadata": {
    "scrolled": false
   },
   "outputs": [
    {
     "data": {
      "image/png": "[encoded data removed]",
      "text/plain": [
       "<Figure size 640x480 with 1 Axes>"
      ]
     },
     "metadata": {},
     "output_type": "display_data"
    }
   ],
   "source": [
    "with open(\"./lira_large/lira.pickle\",\"rb\") as f:\n",
    "    results = pickle.load(f)\n",
    "# Generate ROC curve \n",
    "fpr, tpr, thresholds = roc_curve([int(result[3]) for result in results], [result[2] for result in results])\n",
    "roc_auc = auc(fpr, tpr)\n",
    "plt.figure()\n",
    "plt.loglog(fpr, tpr, color='darkorange', label='ROC curve (area = %0.2f)' % roc_auc)\n",
    "plt.plot([0, 1], [0, 1], color='navy', linestyle='--')\n",
    "plt.title(f\"Pythia-{mod_size} Shadow Models LiRa ROC\")\n",
    "plt.legend(loc=\"lower right\")\n",
    "plt.xlabel('False Positive Rate')\n",
    "plt.ylabel('True Positive Rate')\n",
    "plt.show()"
   ]
  }
 ],
 "metadata": {
  "accelerator": "GPU",
  "colab": {
   "provenance": []
  },
  "gpuClass": "standard",
  "kernelspec": {
   "display_name": "unlearning",
   "language": "python",
   "name": "unlearning"
  },
  "language_info": {
   "codemirror_mode": {
    "name": "ipython",
    "version": 3
   },
   "file_extension": ".py",
   "mimetype": "text/x-python",
   "name": "python",
   "nbconvert_exporter": "python",
   "pygments_lexer": "ipython3",
   "version": "3.10.10"
  },
  "papermill": {
   "default_parameters": {},
   "duration": 646.776342,
   "end_time": "2023-04-28T20:20:52.788380",
   "environment_variables": {},
   "exception": null,
   "input_path": "Fully_Running_LiRa_Notebook_Large2.ipynb",
   "output_path": "Fully_Running_LiRa_Notebook_Large3.ipynb",
   "parameters": {},
   "start_time": "2023-04-28T20:10:06.012038",
   "version": "2.4.0"
  },
  "widgets": {
   "application/vnd.jupyter.widget-state+json": {
    "state": {
     "1e883a4d685742a0945b47c76a33a34d": {
      "model_module": "@jupyter-widgets/base",
      "model_module_version": "2.0.0",
      "model_name": "LayoutModel",
      "state": {
       "_model_module": "@jupyter-widgets/base",
       "_model_module_version": "2.0.0",
       "_model_name": "LayoutModel",
       "_view_count": null,
       "_view_module": "@jupyter-widgets/base",
       "_view_module_version": "2.0.0",
       "_view_name": "LayoutView",
       "align_content": null,
       "align_items": null,
       "align_self": null,
       "border_bottom": null,
       "border_left": null,
       "border_right": null,
       "border_top": null,
       "bottom": null,
       "display": null,
       "flex": null,
       "flex_flow": null,
       "grid_area": null,
       "grid_auto_columns": null,
       "grid_auto_flow": null,
       "grid_auto_rows": null,
       "grid_column": null,
       "grid_gap": null,
       "grid_row": null,
       "grid_template_areas": null,
       "grid_template_columns": null,
       "grid_template_rows": null,
       "height": null,
       "justify_content": null,
       "justify_items": null,
       "left": null,
       "margin": null,
       "max_height": null,
       "max_width": null,
       "min_height": null,
       "min_width": null,
       "object_fit": null,
       "object_position": null,
       "order": null,
       "overflow": null,
       "padding": null,
       "right": null,
       "top": null,
       "visibility": null,
       "width": null
      }
     },
     "2b5a5dcbce764985b668dda4590d9124": {
      "model_module": "@jupyter-widgets/controls",
      "model_module_version": "2.0.0",
      "model_name": "FloatProgressModel",
      "state": {
       "_dom_classes": [],
       "_model_module": "@jupyter-widgets/controls",
       "_model_module_version": "2.0.0",
       "_model_name": "FloatProgressModel",
       "_view_count": null,
       "_view_module": "@jupyter-widgets/controls",
       "_view_module_version": "2.0.0",
       "_view_name": "ProgressView",
       "bar_style": "success",
       "description": "",
       "description_allow_html": false,
       "layout": "IPY_MODEL_a83a834583e24040b2e47d086e9b53a0",
       "max": 1,
       "min": 0,
       "orientation": "horizontal",
       "style": "IPY_MODEL_cedc8002112c453984727b270de9f2c7",
       "tabbable": null,
       "tooltip": null,
       "value": 1
      }
     },
     "35980bbbcedd4b49a9b5c5ebe30487c7": {
      "model_module": "@jupyter-widgets/controls",
      "model_module_version": "2.0.0",
      "model_name": "HTMLModel",
      "state": {
       "_dom_classes": [],
       "_model_module": "@jupyter-widgets/controls",
       "_model_module_version": "2.0.0",
       "_model_name": "HTMLModel",
       "_view_count": null,
       "_view_module": "@jupyter-widgets/controls",
       "_view_module_version": "2.0.0",
       "_view_name": "HTMLView",
       "description": "",
       "description_allow_html": false,
       "layout": "IPY_MODEL_1e883a4d685742a0945b47c76a33a34d",
       "placeholder": "​",
       "style": "IPY_MODEL_d04b42e7f0b44cc29d02e3577aa902fb",
       "tabbable": null,
       "tooltip": null,
       "value": " 1/1 [00:00&lt;00:00, 14.58it/s]"
      }
     },
     "419573548c8e410d841f23149aa840a9": {
      "model_module": "@jupyter-widgets/controls",
      "model_module_version": "2.0.0",
      "model_name": "HBoxModel",
      "state": {
       "_dom_classes": [],
       "_model_module": "@jupyter-widgets/controls",
       "_model_module_version": "2.0.0",
       "_model_name": "HBoxModel",
       "_view_count": null,
       "_view_module": "@jupyter-widgets/controls",
       "_view_module_version": "2.0.0",
       "_view_name": "HBoxView",
       "box_style": "",
       "children": [
        "IPY_MODEL_6b8d270f5fe94689a2b1b38f487a4a64",
        "IPY_MODEL_2b5a5dcbce764985b668dda4590d9124",
        "IPY_MODEL_35980bbbcedd4b49a9b5c5ebe30487c7"
       ],
       "layout": "IPY_MODEL_b8ba65f302ac48d8817b91ac8c3accab",
       "tabbable": null,
       "tooltip": null
      }
     },
     "6b8d270f5fe94689a2b1b38f487a4a64": {
      "model_module": "@jupyter-widgets/controls",
      "model_module_version": "2.0.0",
      "model_name": "HTMLModel",
      "state": {
       "_dom_classes": [],
       "_model_module": "@jupyter-widgets/controls",
       "_model_module_version": "2.0.0",
       "_model_name": "HTMLModel",
       "_view_count": null,
       "_view_module": "@jupyter-widgets/controls",
       "_view_module_version": "2.0.0",
       "_view_name": "HTMLView",
       "description": "",
       "description_allow_html": false,
       "layout": "IPY_MODEL_eda477cf12384d1bac4d637a80c09bf6",
       "placeholder": "​",
       "style": "IPY_MODEL_7db6feebfebd4091b0a1b34b7d6b7a5b",
       "tabbable": null,
       "tooltip": null,
       "value": "100%"
      }
     },
     "7db6feebfebd4091b0a1b34b7d6b7a5b": {
      "model_module": "@jupyter-widgets/controls",
      "model_module_version": "2.0.0",
      "model_name": "HTMLStyleModel",
      "state": {
       "_model_module": "@jupyter-widgets/controls",
       "_model_module_version": "2.0.0",
       "_model_name": "HTMLStyleModel",
       "_view_count": null,
       "_view_module": "@jupyter-widgets/base",
       "_view_module_version": "2.0.0",
       "_view_name": "StyleView",
       "background": null,
       "description_width": "",
       "font_size": null,
       "text_color": null
      }
     },
     "a83a834583e24040b2e47d086e9b53a0": {
      "model_module": "@jupyter-widgets/base",
      "model_module_version": "2.0.0",
      "model_name": "LayoutModel",
      "state": {
       "_model_module": "@jupyter-widgets/base",
       "_model_module_version": "2.0.0",
       "_model_name": "LayoutModel",
       "_view_count": null,
       "_view_module": "@jupyter-widgets/base",
       "_view_module_version": "2.0.0",
       "_view_name": "LayoutView",
       "align_content": null,
       "align_items": null,
       "align_self": null,
       "border_bottom": null,
       "border_left": null,
       "border_right": null,
       "border_top": null,
       "bottom": null,
       "display": null,
       "flex": null,
       "flex_flow": null,
       "grid_area": null,
       "grid_auto_columns": null,
       "grid_auto_flow": null,
       "grid_auto_rows": null,
       "grid_column": null,
       "grid_gap": null,
       "grid_row": null,
       "grid_template_areas": null,
       "grid_template_columns": null,
       "grid_template_rows": null,
       "height": null,
       "justify_content": null,
       "justify_items": null,
       "left": null,
       "margin": null,
       "max_height": null,
       "max_width": null,
       "min_height": null,
       "min_width": null,
       "object_fit": null,
       "object_position": null,
       "order": null,
       "overflow": null,
       "padding": null,
       "right": null,
       "top": null,
       "visibility": null,
       "width": null
      }
     },
     "b8ba65f302ac48d8817b91ac8c3accab": {
      "model_module": "@jupyter-widgets/base",
      "model_module_version": "2.0.0",
      "model_name": "LayoutModel",
      "state": {
       "_model_module": "@jupyter-widgets/base",
       "_model_module_version": "2.0.0",
       "_model_name": "LayoutModel",
       "_view_count": null,
       "_view_module": "@jupyter-widgets/base",
       "_view_module_version": "2.0.0",
       "_view_name": "LayoutView",
       "align_content": null,
       "align_items": null,
       "align_self": null,
       "border_bottom": null,
       "border_left": null,
       "border_right": null,
       "border_top": null,
       "bottom": null,
       "display": null,
       "flex": null,
       "flex_flow": null,
       "grid_area": null,
       "grid_auto_columns": null,
       "grid_auto_flow": null,
       "grid_auto_rows": null,
       "grid_column": null,
       "grid_gap": null,
       "grid_row": null,
       "grid_template_areas": null,
       "grid_template_columns": null,
       "grid_template_rows": null,
       "height": null,
       "justify_content": null,
       "justify_items": null,
       "left": null,
       "margin": null,
       "max_height": null,
       "max_width": null,
       "min_height": null,
       "min_width": null,
       "object_fit": null,
       "object_position": null,
       "order": null,
       "overflow": null,
       "padding": null,
       "right": null,
       "top": null,
       "visibility": null,
       "width": null
      }
     },
     "cedc8002112c453984727b270de9f2c7": {
      "model_module": "@jupyter-widgets/controls",
      "model_module_version": "2.0.0",
      "model_name": "ProgressStyleModel",
      "state": {
       "_model_module": "@jupyter-widgets/controls",
       "_model_module_version": "2.0.0",
       "_model_name": "ProgressStyleModel",
       "_view_count": null,
       "_view_module": "@jupyter-widgets/base",
       "_view_module_version": "2.0.0",
       "_view_name": "StyleView",
       "bar_color": null,
       "description_width": ""
      }
     },
     "d04b42e7f0b44cc29d02e3577aa902fb": {
      "model_module": "@jupyter-widgets/controls",
      "model_module_version": "2.0.0",
      "model_name": "HTMLStyleModel",
      "state": {
       "_model_module": "@jupyter-widgets/controls",
       "_model_module_version": "2.0.0",
       "_model_name": "HTMLStyleModel",
       "_view_count": null,
       "_view_module": "@jupyter-widgets/base",
       "_view_module_version": "2.0.0",
       "_view_name": "StyleView",
       "background": null,
       "description_width": "",
       "font_size": null,
       "text_color": null
      }
     },
     "eda477cf12384d1bac4d637a80c09bf6": {
      "model_module": "@jupyter-widgets/base",
      "model_module_version": "2.0.0",
      "model_name": "LayoutModel",
      "state": {
       "_model_module": "@jupyter-widgets/base",
       "_model_module_version": "2.0.0",
       "_model_name": "LayoutModel",
       "_view_count": null,
       "_view_module": "@jupyter-widgets/base",
       "_view_module_version": "2.0.0",
       "_view_name": "LayoutView",
       "align_content": null,
       "align_items": null,
       "align_self": null,
       "border_bottom": null,
       "border_left": null,
       "border_right": null,
       "border_top": null,
       "bottom": null,
       "display": null,
       "flex": null,
       "flex_flow": null,
       "grid_area": null,
       "grid_auto_columns": null,
       "grid_auto_flow": null,
       "grid_auto_rows": null,
       "grid_column": null,
       "grid_gap": null,
       "grid_row": null,
       "grid_template_areas": null,
       "grid_template_columns": null,
       "grid_template_rows": null,
       "height": null,
       "justify_content": null,
       "justify_items": null,
       "left": null,
       "margin": null,
       "max_height": null,
       "max_width": null,
       "min_height": null,
       "min_width": null,
       "object_fit": null,
       "object_position": null,
       "order": null,
       "overflow": null,
       "padding": null,
       "right": null,
       "top": null,
       "visibility": null,
       "width": null
      }
     }
    },
    "version_major": 2,
    "version_minor": 0
   }
  }
 },
 "nbformat": 4,
 "nbformat_minor": 5
}
