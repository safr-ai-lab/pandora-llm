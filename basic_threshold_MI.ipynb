{
 "cells": [
  {
   "cell_type": "code",
   "execution_count": 1,
   "id": "25b4292f",
   "metadata": {},
   "outputs": [
    {
     "name": "stdout",
     "output_type": "stream",
     "text": [
      "Collecting datasets\n",
      "  Downloading datasets-2.11.0-py3-none-any.whl (468 kB)\n",
      "\u001b[2K     \u001b[90m━━━━━━━━━━━━━━━━━━━━━━━━━━━━━━━━━━━━━━━\u001b[0m \u001b[32m468.7/468.7 kB\u001b[0m \u001b[31m2.9 MB/s\u001b[0m eta \u001b[36m0:00:00\u001b[0m00:01\u001b[0m\n",
      "\u001b[?25hCollecting xxhash\n",
      "  Downloading xxhash-3.2.0-cp310-cp310-manylinux_2_17_x86_64.manylinux2014_x86_64.whl (212 kB)\n",
      "\u001b[2K     \u001b[90m━━━━━━━━━━━━━━━━━━━━━━━━━━━━━━━━━━━━━━\u001b[0m \u001b[32m212.5/212.5 kB\u001b[0m \u001b[31m25.4 MB/s\u001b[0m eta \u001b[36m0:00:00\u001b[0m\n",
      "\u001b[?25hRequirement already satisfied: tqdm>=4.62.1 in /opt/conda/envs/pytorch/lib/python3.10/site-packages (from datasets) (4.65.0)\n",
      "Requirement already satisfied: dill<0.3.7,>=0.3.0 in /opt/conda/envs/pytorch/lib/python3.10/site-packages (from datasets) (0.3.6)\n",
      "Requirement already satisfied: multiprocess in /opt/conda/envs/pytorch/lib/python3.10/site-packages (from datasets) (0.70.14)\n",
      "Collecting responses<0.19\n",
      "  Downloading responses-0.18.0-py3-none-any.whl (38 kB)\n",
      "Requirement already satisfied: pyarrow>=8.0.0 in /opt/conda/envs/pytorch/lib/python3.10/site-packages (from datasets) (11.0.0)\n",
      "Requirement already satisfied: numpy>=1.17 in /opt/conda/envs/pytorch/lib/python3.10/site-packages (from datasets) (1.23.5)\n",
      "Requirement already satisfied: fsspec[http]>=2021.11.1 in /opt/conda/envs/pytorch/lib/python3.10/site-packages (from datasets) (2023.3.0)\n",
      "Requirement already satisfied: packaging in /opt/conda/envs/pytorch/lib/python3.10/site-packages (from datasets) (21.3)\n",
      "Collecting huggingface-hub<1.0.0,>=0.11.0\n",
      "  Downloading huggingface_hub-0.13.4-py3-none-any.whl (200 kB)\n",
      "\u001b[2K     \u001b[90m━━━━━━━━━━━━━━━━━━━━━━━━━━━━━━━━━━━━━━━\u001b[0m \u001b[32m200.1/200.1 kB\u001b[0m \u001b[31m4.6 MB/s\u001b[0m eta \u001b[36m0:00:00\u001b[0ma \u001b[36m0:00:01\u001b[0m\n",
      "\u001b[?25hCollecting aiohttp\n",
      "  Downloading aiohttp-3.8.4-cp310-cp310-manylinux_2_17_x86_64.manylinux2014_x86_64.whl (1.0 MB)\n",
      "\u001b[2K     \u001b[90m━━━━━━━━━━━━━━━━━━━━━━━━━━━━━━━━━━━━━━━━\u001b[0m \u001b[32m1.0/1.0 MB\u001b[0m \u001b[31m8.1 MB/s\u001b[0m eta \u001b[36m0:00:00\u001b[0m:00:01\u001b[0m\n",
      "\u001b[?25hRequirement already satisfied: pyyaml>=5.1 in /opt/conda/envs/pytorch/lib/python3.10/site-packages (from datasets) (5.4.1)\n",
      "Requirement already satisfied: pandas in /opt/conda/envs/pytorch/lib/python3.10/site-packages (from datasets) (1.5.3)\n",
      "Requirement already satisfied: requests>=2.19.0 in /opt/conda/envs/pytorch/lib/python3.10/site-packages (from datasets) (2.28.2)\n",
      "Requirement already satisfied: charset-normalizer<4.0,>=2.0 in /opt/conda/envs/pytorch/lib/python3.10/site-packages (from aiohttp->datasets) (3.1.0)\n",
      "Collecting frozenlist>=1.1.1\n",
      "  Downloading frozenlist-1.3.3-cp310-cp310-manylinux_2_5_x86_64.manylinux1_x86_64.manylinux_2_17_x86_64.manylinux2014_x86_64.whl (149 kB)\n",
      "\u001b[2K     \u001b[90m━━━━━━━━━━━━━━━━━━━━━━━━━━━━━━━━━━━━━━━\u001b[0m \u001b[32m149.6/149.6 kB\u001b[0m \u001b[31m3.9 MB/s\u001b[0m eta \u001b[36m0:00:00\u001b[0ma \u001b[36m0:00:01\u001b[0m\n",
      "\u001b[?25hCollecting yarl<2.0,>=1.0\n",
      "  Downloading yarl-1.8.2-cp310-cp310-manylinux_2_17_x86_64.manylinux2014_x86_64.whl (264 kB)\n",
      "\u001b[2K     \u001b[90m━━━━━━━━━━━━━━━━━━━━━━━━━━━━━━━━━━━━━━━\u001b[0m \u001b[32m264.0/264.0 kB\u001b[0m \u001b[31m1.9 MB/s\u001b[0m eta \u001b[36m0:00:00\u001b[0ma \u001b[36m0:00:01\u001b[0m\n",
      "\u001b[?25hCollecting multidict<7.0,>=4.5\n",
      "  Downloading multidict-6.0.4-cp310-cp310-manylinux_2_17_x86_64.manylinux2014_x86_64.whl (114 kB)\n",
      "\u001b[2K     \u001b[90m━━━━━━━━━━━━━━━━━━━━━━━━━━━━━━━━━━━━━━\u001b[0m \u001b[32m114.5/114.5 kB\u001b[0m \u001b[31m17.6 MB/s\u001b[0m eta \u001b[36m0:00:00\u001b[0m\n",
      "\u001b[?25hCollecting aiosignal>=1.1.2\n",
      "  Downloading aiosignal-1.3.1-py3-none-any.whl (7.6 kB)\n",
      "Requirement already satisfied: attrs>=17.3.0 in /opt/conda/envs/pytorch/lib/python3.10/site-packages (from aiohttp->datasets) (22.2.0)\n",
      "Collecting async-timeout<5.0,>=4.0.0a3\n",
      "  Downloading async_timeout-4.0.2-py3-none-any.whl (5.8 kB)\n",
      "Requirement already satisfied: typing-extensions>=3.7.4.3 in /opt/conda/envs/pytorch/lib/python3.10/site-packages (from huggingface-hub<1.0.0,>=0.11.0->datasets) (4.5.0)\n",
      "Requirement already satisfied: filelock in /opt/conda/envs/pytorch/lib/python3.10/site-packages (from huggingface-hub<1.0.0,>=0.11.0->datasets) (3.10.7)\n",
      "Requirement already satisfied: pyparsing!=3.0.5,>=2.0.2 in /opt/conda/envs/pytorch/lib/python3.10/site-packages (from packaging->datasets) (3.0.9)\n",
      "Requirement already satisfied: certifi>=2017.4.17 in /opt/conda/envs/pytorch/lib/python3.10/site-packages (from requests>=2.19.0->datasets) (2022.12.7)\n",
      "Requirement already satisfied: urllib3<1.27,>=1.21.1 in /opt/conda/envs/pytorch/lib/python3.10/site-packages (from requests>=2.19.0->datasets) (1.26.15)\n",
      "Requirement already satisfied: idna<4,>=2.5 in /opt/conda/envs/pytorch/lib/python3.10/site-packages (from requests>=2.19.0->datasets) (3.4)\n",
      "Requirement already satisfied: python-dateutil>=2.8.1 in /opt/conda/envs/pytorch/lib/python3.10/site-packages (from pandas->datasets) (2.8.2)\n",
      "Requirement already satisfied: pytz>=2020.1 in /opt/conda/envs/pytorch/lib/python3.10/site-packages (from pandas->datasets) (2023.3)\n",
      "Requirement already satisfied: six>=1.5 in /opt/conda/envs/pytorch/lib/python3.10/site-packages (from python-dateutil>=2.8.1->pandas->datasets) (1.16.0)\n",
      "Installing collected packages: xxhash, multidict, frozenlist, async-timeout, yarl, responses, huggingface-hub, aiosignal, aiohttp, datasets\n",
      "Successfully installed aiohttp-3.8.4 aiosignal-1.3.1 async-timeout-4.0.2 datasets-2.11.0 frozenlist-1.3.3 huggingface-hub-0.13.4 multidict-6.0.4 responses-0.18.0 xxhash-3.2.0 yarl-1.8.2\n",
      "Collecting zstandard\n",
      "  Downloading zstandard-0.20.0-cp310-cp310-manylinux_2_17_x86_64.manylinux2014_x86_64.whl (2.6 MB)\n",
      "\u001b[2K     \u001b[90m━━━━━━━━━━━━━━━━━━━━━━━━━━━━━━━━━━━━━━━━\u001b[0m \u001b[32m2.6/2.6 MB\u001b[0m \u001b[31m12.8 MB/s\u001b[0m eta \u001b[36m0:00:00\u001b[0m00:01\u001b[0m00:01\u001b[0m\n",
      "\u001b[?25hInstalling collected packages: zstandard\n",
      "Successfully installed zstandard-0.20.0\n",
      "Collecting transformers\n",
      "  Downloading transformers-4.28.1-py3-none-any.whl (7.0 MB)\n",
      "\u001b[2K     \u001b[90m━━━━━━━━━━━━━━━━━━━━━━━━━━━━━━━━━━━━━━━━\u001b[0m \u001b[32m7.0/7.0 MB\u001b[0m \u001b[31m20.2 MB/s\u001b[0m eta \u001b[36m0:00:00\u001b[0m00:01\u001b[0m00:01\u001b[0m\n",
      "\u001b[?25hRequirement already satisfied: tqdm>=4.27 in /opt/conda/envs/pytorch/lib/python3.10/site-packages (from transformers) (4.65.0)\n",
      "Collecting tokenizers!=0.11.3,<0.14,>=0.11.1\n",
      "  Downloading tokenizers-0.13.3-cp310-cp310-manylinux_2_17_x86_64.manylinux2014_x86_64.whl (7.8 MB)\n",
      "\u001b[2K     \u001b[90m━━━━━━━━━━━━━━━━━━━━━━━━━━━━━━━━━━━━━━━━\u001b[0m \u001b[32m7.8/7.8 MB\u001b[0m \u001b[31m15.8 MB/s\u001b[0m eta \u001b[36m0:00:00\u001b[0m:00:01\u001b[0m00:01\u001b[0m\n",
      "\u001b[?25hRequirement already satisfied: pyyaml>=5.1 in /opt/conda/envs/pytorch/lib/python3.10/site-packages (from transformers) (5.4.1)\n",
      "Requirement already satisfied: packaging>=20.0 in /opt/conda/envs/pytorch/lib/python3.10/site-packages (from transformers) (21.3)\n",
      "Requirement already satisfied: filelock in /opt/conda/envs/pytorch/lib/python3.10/site-packages (from transformers) (3.10.7)\n",
      "Collecting regex!=2019.12.17\n",
      "  Downloading regex-2023.3.23-cp310-cp310-manylinux_2_17_x86_64.manylinux2014_x86_64.whl (769 kB)\n",
      "\u001b[2K     \u001b[90m━━━━━━━━━━━━━━━━━━━━━━━━━━━━━━━━━━━━━━━\u001b[0m \u001b[32m769.6/769.6 kB\u001b[0m \u001b[31m7.6 MB/s\u001b[0m eta \u001b[36m0:00:00\u001b[0m00:01\u001b[0m\n",
      "\u001b[?25hRequirement already satisfied: requests in /opt/conda/envs/pytorch/lib/python3.10/site-packages (from transformers) (2.28.2)\n",
      "Requirement already satisfied: numpy>=1.17 in /opt/conda/envs/pytorch/lib/python3.10/site-packages (from transformers) (1.23.5)\n",
      "Requirement already satisfied: huggingface-hub<1.0,>=0.11.0 in /opt/conda/envs/pytorch/lib/python3.10/site-packages (from transformers) (0.13.4)\n",
      "Requirement already satisfied: typing-extensions>=3.7.4.3 in /opt/conda/envs/pytorch/lib/python3.10/site-packages (from huggingface-hub<1.0,>=0.11.0->transformers) (4.5.0)\n",
      "Requirement already satisfied: pyparsing!=3.0.5,>=2.0.2 in /opt/conda/envs/pytorch/lib/python3.10/site-packages (from packaging>=20.0->transformers) (3.0.9)\n",
      "Requirement already satisfied: idna<4,>=2.5 in /opt/conda/envs/pytorch/lib/python3.10/site-packages (from requests->transformers) (3.4)\n",
      "Requirement already satisfied: urllib3<1.27,>=1.21.1 in /opt/conda/envs/pytorch/lib/python3.10/site-packages (from requests->transformers) (1.26.15)\n",
      "Requirement already satisfied: certifi>=2017.4.17 in /opt/conda/envs/pytorch/lib/python3.10/site-packages (from requests->transformers) (2022.12.7)\n",
      "Requirement already satisfied: charset-normalizer<4,>=2 in /opt/conda/envs/pytorch/lib/python3.10/site-packages (from requests->transformers) (3.1.0)\n",
      "Installing collected packages: tokenizers, regex, transformers\n",
      "Successfully installed regex-2023.3.23 tokenizers-0.13.3 transformers-4.28.1\n"
     ]
    }
   ],
   "source": [
    "import torch\n",
    "from torch.utils.data import DataLoader\n",
    "import json\n",
    "!pip install datasets\n",
    "!pip install zstandard\n",
    "!pip install transformers\n",
    "from datasets import load_dataset\n",
    "from transformers import GPTNeoXForCausalLM, AutoTokenizer\n",
    "from transformers.optimization import AdamW"
   ]
  },
  {
   "cell_type": "code",
   "execution_count": 4,
   "id": "17115c2e",
   "metadata": {},
   "outputs": [],
   "source": [
    "## Memory statistics. I had to be careful with cuda memory \n",
    "def mem_stats():\n",
    "    t = torch.cuda.get_device_properties(0).total_memory\n",
    "    r = torch.cuda.memory_reserved(0)\n",
    "    a = torch.cuda.memory_allocated(0)\n",
    "    print(\"total memory: \", t, \"reserve mem: \", r, \"total-reserved:\", t-r, \"allocated:\", a,\"\\n (total-reserved)/total:\", (t-r)/t,\"(reserved-allocated)/reserved:\", (r-a)/r)\n",
    "    return "
   ]
  },
  {
   "cell_type": "code",
   "execution_count": 5,
   "id": "a8e76099",
   "metadata": {},
   "outputs": [
    {
     "name": "stdout",
     "output_type": "stream",
     "text": [
      "total memory:  16935419904 reserve mem:  2946498560 total-reserved: 13988921344 allocated: 2929983488 \n",
      " (total-reserved)/total: 0.8260156183488511 (reserved-allocated)/reserved: 0.005604982206405694\n"
     ]
    }
   ],
   "source": [
    "## Model and tokenizer\n",
    "model = GPTNeoXForCausalLM.from_pretrained(\n",
    "  \"EleutherAI/pythia-1.4B-deduped\",\n",
    "  revision=\"step143000\",\n",
    "  cache_dir=\"./pythia-1.4B-deduped/step143000\",\n",
    ")\n",
    "\n",
    "tokenizer = AutoTokenizer.from_pretrained(\n",
    "  \"EleutherAI/pythia-1.4B-deduped\",\n",
    "  revision=\"step143000\",\n",
    "  cache_dir=\"./pythia-1.4B-deduped/step143000\",\n",
    ")\n",
    "\n",
    "model_name = \"EleutherAI/pythia-1.4B-deduped\"\n",
    "model_revision = \"step143000\"\n",
    "model_cache_dir = \"./pythia-1.4B-deduped/step143000\"\n",
    "\n",
    "device = \"cuda\" if torch.cuda.is_available() else \"cpu\"\n",
    "\n",
    "model.half()\n",
    "model.eval()\n",
    "model.to(device)\n",
    "mem_stats()"
   ]
  },
  {
   "cell_type": "code",
   "execution_count": 6,
   "id": "496dcb62",
   "metadata": {},
   "outputs": [],
   "source": [
    "## Collate functions for loading dataset\n",
    "def collate_fn(batch):\n",
    "    tokens = [tokenizer.encode(example[\"text\"], return_tensors=\"pt\", truncation=True) for example in batch]\n",
    "    max_length = max([t.size(1) for t in tokens])\n",
    "    tokens_padded = [torch.cat([t, t.new_zeros(t.size(0), max_length - t.size(1))], dim=1) for t in tokens]\n",
    "    tokens_padded = torch.cat(tokens_padded, dim=0)\n",
    "    return tokens_padded\n",
    "\n",
    "def collate_already_encoded(batch):\n",
    "    tokens = batch\n",
    "    max_length = max([len(t['tokens']) for t in tokens])\n",
    "    tokens_padded = torch.zeros((len(tokens),max_length),dtype=torch.int)\n",
    "    for i in range(len(tokens)):\n",
    "        tokens_padded[i,:] = torch.Tensor(tokens[i]['tokens'])\n",
    "    return tokens_padded\n"
   ]
  },
  {
   "cell_type": "code",
   "execution_count": 7,
   "id": "eccffcd5",
   "metadata": {},
   "outputs": [
    {
     "data": {
      "application/vnd.jupyter.widget-view+json": {
       "model_id": "6f5b48ed3c0f4eb0b7d51a3a7186fbd3",
       "version_major": 2,
       "version_minor": 0
      },
      "text/plain": [
       "Downloading readme:   0%|          | 0.00/468 [00:00<?, ?B/s]"
      ]
     },
     "metadata": {},
     "output_type": "display_data"
    },
    {
     "name": "stdout",
     "output_type": "stream",
     "text": [
      "Downloading and preparing dataset None/None to /home/ubuntu/.cache/huggingface/datasets/EleutherAI___parquet/EleutherAI--pile-deduped-pythia-random-sampled-ef6db9ddd170a4bc/0.0.0/2a3b91fbd88a2c90d1dbbb32b460cf621d31bd5b05b934492fdef7d8d6f236ec...\n"
     ]
    },
    {
     "data": {
      "application/vnd.jupyter.widget-view+json": {
       "model_id": "e55cabffd7d54e58b9b08c28edeef74b",
       "version_major": 2,
       "version_minor": 0
      },
      "text/plain": [
       "Downloading data files:   0%|          | 0/1 [00:00<?, ?it/s]"
      ]
     },
     "metadata": {},
     "output_type": "display_data"
    },
    {
     "data": {
      "application/vnd.jupyter.widget-view+json": {
       "model_id": "b9156e85c00c49619db8b1db2b27d857",
       "version_major": 2,
       "version_minor": 0
      },
      "text/plain": [
       "Downloading data:   0%|          | 0.00/5.97G [00:00<?, ?B/s]"
      ]
     },
     "metadata": {},
     "output_type": "display_data"
    },
    {
     "data": {
      "application/vnd.jupyter.widget-view+json": {
       "model_id": "bffc51ffc9ad47c9a66782956d3448c0",
       "version_major": 2,
       "version_minor": 0
      },
      "text/plain": [
       "Downloading data:   0%|          | 0.00/5.96G [00:00<?, ?B/s]"
      ]
     },
     "metadata": {},
     "output_type": "display_data"
    },
    {
     "data": {
      "application/vnd.jupyter.widget-view+json": {
       "model_id": "2938e5ac37194c34bc7e12a83555507e",
       "version_major": 2,
       "version_minor": 0
      },
      "text/plain": [
       "Downloading data:   0%|          | 0.00/5.96G [00:00<?, ?B/s]"
      ]
     },
     "metadata": {},
     "output_type": "display_data"
    },
    {
     "data": {
      "application/vnd.jupyter.widget-view+json": {
       "model_id": "454720fb12ca4693ad32057635510d69",
       "version_major": 2,
       "version_minor": 0
      },
      "text/plain": [
       "Extracting data files:   0%|          | 0/1 [00:00<?, ?it/s]"
      ]
     },
     "metadata": {},
     "output_type": "display_data"
    },
    {
     "data": {
      "application/vnd.jupyter.widget-view+json": {
       "model_id": "",
       "version_major": 2,
       "version_minor": 0
      },
      "text/plain": [
       "Generating train split:   0%|          | 0/5000000 [00:00<?, ? examples/s]"
      ]
     },
     "metadata": {},
     "output_type": "display_data"
    },
    {
     "name": "stdout",
     "output_type": "stream",
     "text": [
      "Dataset parquet downloaded and prepared to /home/ubuntu/.cache/huggingface/datasets/EleutherAI___parquet/EleutherAI--pile-deduped-pythia-random-sampled-ef6db9ddd170a4bc/0.0.0/2a3b91fbd88a2c90d1dbbb32b460cf621d31bd5b05b934492fdef7d8d6f236ec. Subsequent calls will reuse this data.\n"
     ]
    },
    {
     "name": "stderr",
     "output_type": "stream",
     "text": [
      "No config specified, defaulting to: the_pile_val/all\n"
     ]
    },
    {
     "name": "stdout",
     "output_type": "stream",
     "text": [
      "Downloading and preparing dataset the_pile_val/all to /home/ubuntu/.cache/huggingface/datasets/the_pile_val/all/0.0.0/33c9237089c5fb09f83b2ab7ac73d703de97fc4d122e4b82a7777d85b0919e30...\n"
     ]
    },
    {
     "data": {
      "application/vnd.jupyter.widget-view+json": {
       "model_id": "98d06313e848440cad2210c3b77d5cab",
       "version_major": 2,
       "version_minor": 0
      },
      "text/plain": [
       "Downloading data files:   0%|          | 0/1 [00:00<?, ?it/s]"
      ]
     },
     "metadata": {},
     "output_type": "display_data"
    },
    {
     "data": {
      "application/vnd.jupyter.widget-view+json": {
       "model_id": "1acba85d082b450b94a3d0203d17ef9d",
       "version_major": 2,
       "version_minor": 0
      },
      "text/plain": [
       "Downloading data:   0%|          | 0.00/471M [00:00<?, ?B/s]"
      ]
     },
     "metadata": {},
     "output_type": "display_data"
    },
    {
     "data": {
      "application/vnd.jupyter.widget-view+json": {
       "model_id": "",
       "version_major": 2,
       "version_minor": 0
      },
      "text/plain": [
       "Generating validation split: 0 examples [00:00, ? examples/s]"
      ]
     },
     "metadata": {},
     "output_type": "display_data"
    },
    {
     "name": "stdout",
     "output_type": "stream",
     "text": [
      "Dataset the_pile_val downloaded and prepared to /home/ubuntu/.cache/huggingface/datasets/the_pile_val/all/0.0.0/33c9237089c5fb09f83b2ab7ac73d703de97fc4d122e4b82a7777d85b0919e30. Subsequent calls will reuse this data.\n",
      "total memory:  16935419904 reserve mem:  2946498560 total-reserved: 13988921344 allocated: 2929983488 \n",
      " (total-reserved)/total: 0.8260156183488511 (reserved-allocated)/reserved: 0.005604982206405694\n"
     ]
    }
   ],
   "source": [
    "## Training and validation datasets\n",
    "training_dataset = load_dataset(\"EleutherAI/pile-deduped-pythia-random-sampled\", split=\"train\")\n",
    "validation_dataset = load_dataset(\"the_pile_val.py\", split=\"validation\") \n",
    "mem_stats()"
   ]
  },
  {
   "cell_type": "code",
   "execution_count": 8,
   "id": "4074e754",
   "metadata": {},
   "outputs": [
    {
     "name": "stdout",
     "output_type": "stream",
     "text": [
      "total memory:  16935419904 reserve mem:  2946498560 total-reserved: 13988921344 allocated: 2929983488 \n",
      " (total-reserved)/total: 0.8260156183488511 (reserved-allocated)/reserved: 0.005604982206405694\n"
     ]
    }
   ],
   "source": [
    "## Dataloader \n",
    "bs = 8\n",
    "training_dataloader = DataLoader(training_dataset, batch_size = bs, collate_fn=collate_already_encoded, shuffle = True)\n",
    "validation_dataloader = DataLoader(validation_dataset, batch_size = bs, collate_fn=collate_fn, shuffle = True)\n",
    "mem_stats()"
   ]
  },
  {
   "cell_type": "code",
   "execution_count": 16,
   "id": "0dda115c",
   "metadata": {},
   "outputs": [],
   "source": [
    "nbatches = 200 ## Number of batches to gather data on. Number of data points is ns * nbatches\n",
    "samplelength = 20 ## How long are the sequences we take from the training and validation sets."
   ]
  },
  {
   "cell_type": "code",
   "execution_count": 17,
   "id": "78322c6a",
   "metadata": {},
   "outputs": [
    {
     "name": "stdout",
     "output_type": "stream",
     "text": [
      "Training batch no.  0\n",
      "Memory after training\n",
      "total memory:  16935419904 reserve mem:  2967470080 total-reserved: 13967949824 allocated: 2938504192 \n",
      " (total-reserved)/total: 0.8247772953477753 (reserved-allocated)/reserved: 0.00976113902385159\n",
      "\n",
      "Training batch no.  20\n",
      "Memory after training\n",
      "total memory:  16935419904 reserve mem:  2967470080 total-reserved: 13967949824 allocated: 2938504192 \n",
      " (total-reserved)/total: 0.8247772953477753 (reserved-allocated)/reserved: 0.00976113902385159\n",
      "\n",
      "Training batch no.  40\n",
      "Memory after training\n",
      "total memory:  16935419904 reserve mem:  2967470080 total-reserved: 13967949824 allocated: 2938504192 \n",
      " (total-reserved)/total: 0.8247772953477753 (reserved-allocated)/reserved: 0.00976113902385159\n",
      "\n",
      "Training batch no.  60\n",
      "Memory after training\n",
      "total memory:  16935419904 reserve mem:  2967470080 total-reserved: 13967949824 allocated: 2938504192 \n",
      " (total-reserved)/total: 0.8247772953477753 (reserved-allocated)/reserved: 0.00976113902385159\n",
      "\n",
      "Training batch no.  80\n",
      "Memory after training\n",
      "total memory:  16935419904 reserve mem:  2967470080 total-reserved: 13967949824 allocated: 2938504192 \n",
      " (total-reserved)/total: 0.8247772953477753 (reserved-allocated)/reserved: 0.00976113902385159\n",
      "\n",
      "Training batch no.  100\n",
      "Memory after training\n",
      "total memory:  16935419904 reserve mem:  2967470080 total-reserved: 13967949824 allocated: 2938504192 \n",
      " (total-reserved)/total: 0.8247772953477753 (reserved-allocated)/reserved: 0.00976113902385159\n",
      "\n",
      "Training batch no.  120\n",
      "Memory after training\n",
      "total memory:  16935419904 reserve mem:  2967470080 total-reserved: 13967949824 allocated: 2938504192 \n",
      " (total-reserved)/total: 0.8247772953477753 (reserved-allocated)/reserved: 0.00976113902385159\n",
      "\n",
      "Training batch no.  140\n",
      "Memory after training\n",
      "total memory:  16935419904 reserve mem:  2967470080 total-reserved: 13967949824 allocated: 2938504192 \n",
      " (total-reserved)/total: 0.8247772953477753 (reserved-allocated)/reserved: 0.00976113902385159\n",
      "\n",
      "Training batch no.  160\n",
      "Memory after training\n",
      "total memory:  16935419904 reserve mem:  2967470080 total-reserved: 13967949824 allocated: 2938504192 \n",
      " (total-reserved)/total: 0.8247772953477753 (reserved-allocated)/reserved: 0.00976113902385159\n",
      "\n",
      "Training batch no.  180\n",
      "Memory after training\n",
      "total memory:  16935419904 reserve mem:  2967470080 total-reserved: 13967949824 allocated: 2938504192 \n",
      " (total-reserved)/total: 0.8247772953477753 (reserved-allocated)/reserved: 0.00976113902385159\n",
      "\n"
     ]
    }
   ],
   "source": [
    "## Training dataset information\n",
    "training_sum_perplexity = torch.zeros((nbatches, bs))\n",
    "for batchno, training_x in enumerate(training_dataloader):\n",
    "    if batchno >= nbatches:\n",
    "        break\n",
    "    with torch.no_grad():       \n",
    "        ## Get predictions on training data                       \n",
    "        training_x = training_x[:,:samplelength].to(device).detach()\n",
    "        mask  = (training_x>0).detach()                                     \n",
    "\n",
    "        model.train(False)\n",
    "        logits_training = model(input_ids=training_x, attention_mask = mask)\n",
    "\n",
    "        ## Find sum of log likelihood of each sequence\n",
    "        for batch in range(bs):\n",
    "            seq_logits = torch.zeros((len(training_x[0])))\n",
    "            \n",
    "            ## Find sum of log likelihood of each sequence\n",
    "            for idx, w in enumerate(training_x[batch,]):\n",
    "                if training_x[batch,idx] == 0:\n",
    "                    break\n",
    "                seq_logits[idx] = logits_training.logits[batch,idx,w]\n",
    "            \n",
    "            ## Case for when we reach the end of the sequence\n",
    "            if training_x[batch,idx] != 0:\n",
    "                idx += 1\n",
    "\n",
    "            ## Compute perplexity\n",
    "            training_sum_perplexity[batchno, batch]= torch.sum(seq_logits[:idx]-torch.log(1+torch.exp(seq_logits[:idx])))/idx\n",
    "\n",
    "            ## Clean up \n",
    "            del seq_logits\n",
    "            torch.cuda.empty_cache()\n",
    "            torch.cuda.synchronize()\n",
    "\n",
    "        ## Cleaning up\n",
    "        del training_x, mask, logits_training\n",
    "        torch.cuda.empty_cache()\n",
    "        torch.cuda.synchronize()\n",
    "    if batchno % 20 == 0:\n",
    "        print(\"Training batch no. \", batchno)  \n",
    "        print(\"Memory after training\")\n",
    "        mem_stats()\n",
    "        print()"
   ]
  },
  {
   "cell_type": "code",
   "execution_count": 18,
   "id": "52dd3461",
   "metadata": {},
   "outputs": [
    {
     "name": "stdout",
     "output_type": "stream",
     "text": [
      "Training batch no.  0\n",
      "Memory after training\n",
      "total memory:  16935419904 reserve mem:  2967470080 total-reserved: 13967949824 allocated: 2938504704 \n",
      " (total-reserved)/total: 0.8247772953477753 (reserved-allocated)/reserved: 0.00976096648630742\n",
      "\n",
      "Training batch no.  20\n",
      "Memory after training\n",
      "total memory:  16935419904 reserve mem:  2967470080 total-reserved: 13967949824 allocated: 2938504704 \n",
      " (total-reserved)/total: 0.8247772953477753 (reserved-allocated)/reserved: 0.00976096648630742\n",
      "\n",
      "Training batch no.  40\n",
      "Memory after training\n",
      "total memory:  16935419904 reserve mem:  2967470080 total-reserved: 13967949824 allocated: 2938504704 \n",
      " (total-reserved)/total: 0.8247772953477753 (reserved-allocated)/reserved: 0.00976096648630742\n",
      "\n",
      "Training batch no.  60\n",
      "Memory after training\n",
      "total memory:  16935419904 reserve mem:  2967470080 total-reserved: 13967949824 allocated: 2938504704 \n",
      " (total-reserved)/total: 0.8247772953477753 (reserved-allocated)/reserved: 0.00976096648630742\n",
      "\n",
      "Training batch no.  80\n",
      "Memory after training\n",
      "total memory:  16935419904 reserve mem:  2967470080 total-reserved: 13967949824 allocated: 2938504704 \n",
      " (total-reserved)/total: 0.8247772953477753 (reserved-allocated)/reserved: 0.00976096648630742\n",
      "\n",
      "Training batch no.  100\n",
      "Memory after training\n",
      "total memory:  16935419904 reserve mem:  2967470080 total-reserved: 13967949824 allocated: 2938504704 \n",
      " (total-reserved)/total: 0.8247772953477753 (reserved-allocated)/reserved: 0.00976096648630742\n",
      "\n",
      "Training batch no.  120\n",
      "Memory after training\n",
      "total memory:  16935419904 reserve mem:  2967470080 total-reserved: 13967949824 allocated: 2938504704 \n",
      " (total-reserved)/total: 0.8247772953477753 (reserved-allocated)/reserved: 0.00976096648630742\n",
      "\n",
      "Training batch no.  140\n",
      "Memory after training\n",
      "total memory:  16935419904 reserve mem:  2967470080 total-reserved: 13967949824 allocated: 2938504704 \n",
      " (total-reserved)/total: 0.8247772953477753 (reserved-allocated)/reserved: 0.00976096648630742\n",
      "\n",
      "Training batch no.  160\n",
      "Memory after training\n",
      "total memory:  16935419904 reserve mem:  2967470080 total-reserved: 13967949824 allocated: 2938504704 \n",
      " (total-reserved)/total: 0.8247772953477753 (reserved-allocated)/reserved: 0.00976096648630742\n",
      "\n",
      "Training batch no.  180\n",
      "Memory after training\n",
      "total memory:  16935419904 reserve mem:  2967470080 total-reserved: 13967949824 allocated: 2938504704 \n",
      " (total-reserved)/total: 0.8247772953477753 (reserved-allocated)/reserved: 0.00976096648630742\n",
      "\n"
     ]
    }
   ],
   "source": [
    "validation_sum_perplexity = torch.zeros((nbatches, bs))\n",
    "for batchno, validation_x in enumerate(validation_dataloader):\n",
    "    if batchno >= nbatches:\n",
    "        break\n",
    "    with torch.no_grad():               \n",
    "        ## Get predictions on validation data                 \n",
    "        validation_x = validation_x[:,:samplelength].to(device).detach()\n",
    "        mask  = (validation_x>0).detach()                                     \n",
    "\n",
    "        model.train(False)\n",
    "        logits_validation = model(input_ids=validation_x, attention_mask = mask)\n",
    "\n",
    "        ## Find sum of log likelihood of each sequence\n",
    "        for batch in range(bs):\n",
    "            seq_logits = torch.zeros((len(validation_x[0])))\n",
    "\n",
    "            ## Find logits of each word in the sequence\n",
    "            for idx, w in enumerate(validation_x[batch,]):\n",
    "                if validation_x[batch,idx] == 0:\n",
    "                    break\n",
    "                seq_logits[idx] = logits_validation.logits[batch,idx,w]\n",
    "            if validation_x[batch,idx] != 0:\n",
    "                idx += 1\n",
    "            validation_sum_perplexity[batchno, batch]= torch.sum(seq_logits[:idx]-torch.log(1+torch.exp(seq_logits[:idx])))/idx\n",
    "\n",
    "            ## Clean up \n",
    "            del seq_logits\n",
    "            torch.cuda.empty_cache()\n",
    "            torch.cuda.synchronize()\n",
    "\n",
    "\n",
    "        ## Cleaning up\n",
    "        del validation_x, mask, logits_validation\n",
    "        torch.cuda.empty_cache()\n",
    "        torch.cuda.synchronize()\n",
    "    if batchno % 20 == 0:\n",
    "        print(\"Training batch no. \", batchno)  \n",
    "        print(\"Memory after training\")\n",
    "        mem_stats()\n",
    "        print()"
   ]
  },
  {
   "cell_type": "code",
   "execution_count": 19,
   "id": "35754426",
   "metadata": {},
   "outputs": [
    {
     "data": {
      "image/png": "[encoded data removed]",
      "text/plain": [
       "<Figure size 640x480 with 1 Axes>"
      ]
     },
     "metadata": {},
     "output_type": "display_data"
    }
   ],
   "source": [
    "import matplotlib.pyplot as plt\n",
    "import numpy as np\n",
    "\n",
    "# generate two sets of random values\n",
    "with torch.no_grad():\n",
    "    valuestraining   = torch.flatten(training_sum_perplexity) \n",
    "    valuesvalidation = torch.flatten(validation_sum_perplexity)\n",
    "\n",
    "# create a figure and axis object\n",
    "fig, ax = plt.subplots()\n",
    "\n",
    "# plot a histogram of the first set of values with 20 bins\n",
    "ax.hist(valuestraining, bins=20, alpha=0.5, label='training')\n",
    "\n",
    "# plot a histogram of the second set of values with 20 bins\n",
    "ax.hist(valuesvalidation, bins=20, alpha=0.5, label='validation')\n",
    "\n",
    "# add a legend to the plot\n",
    "ax.legend(loc='upper right')\n",
    "\n",
    "# add labels and a title to the plot\n",
    "ax.set_xlabel('Value')\n",
    "ax.set_ylabel('Frequency')\n",
    "ax.set_title('Histogram of Two Classes of Values')\n",
    "\n",
    "# show the plot\n",
    "plt.show()"
   ]
  },
  {
   "cell_type": "code",
   "execution_count": 20,
   "id": "88bc2a87",
   "metadata": {},
   "outputs": [
    {
     "name": "stdout",
     "output_type": "stream",
     "text": [
      "tensor(-1.1260) tensor(0.)\n"
     ]
    },
    {
     "data": {
      "image/png": "[encoded data removed]",
      "text/plain": [
       "<Figure size 640x480 with 1 Axes>"
      ]
     },
     "metadata": {},
     "output_type": "display_data"
    }
   ],
   "source": [
    "from sklearn.metrics import roc_curve, auc\n",
    "\n",
    "## Scale all values to be between 0 and 1\n",
    "st = min(valuestraining.min(),valuesvalidation.min())\n",
    "end = max(valuestraining.max(),valuesvalidation.max())\n",
    "print(st,end)\n",
    "\n",
    "y_scores =  torch.cat((valuestraining, valuesvalidation))\n",
    "y_scores = y_scores-min(y_scores)\n",
    "y_scores = y_scores/max(y_scores)\n",
    "y_true   = [1 for _ in range(len(valuestraining))] + [0 for _ in range(len(valuesvalidation))]\n",
    "\n",
    "fpr, tpr, thresholds = roc_curve(y_true, y_scores)\n",
    "\n",
    "# Calculate the area under the ROC curve (AUC)\n",
    "roc_auc = auc(fpr, tpr)\n",
    "\n",
    "# Plot the ROC curve\n",
    "plt.plot(fpr, tpr, color='darkorange', label='ROC curve (area = %0.2f)' % roc_auc)\n",
    "plt.plot([0, 1], [0, 1], color='navy', linestyle='--')\n",
    "plt.xlim([0.0, 1.0])\n",
    "plt.ylim([0.0, 1.05])\n",
    "plt.xlabel('False Positive Rate')\n",
    "plt.ylabel('True Positive Rate')\n",
    "plt.title('Receiver Operating Characteristic (ROC) Curve')\n",
    "plt.legend(loc=\"lower right\")\n",
    "plt.savefig(\"test.png\")"
   ]
  },
  {
   "cell_type": "code",
   "execution_count": null,
   "id": "22b0ed87",
   "metadata": {},
   "outputs": [],
   "source": []
  }
 ],
 "metadata": {
  "kernelspec": {
   "display_name": "Python 3 (ipykernel)",
   "language": "python",
   "name": "python3"
  },
  "language_info": {
   "codemirror_mode": {
    "name": "ipython",
    "version": 3
   },
   "file_extension": ".py",
   "mimetype": "text/x-python",
   "name": "python",
   "nbconvert_exporter": "python",
   "pygments_lexer": "ipython3",
   "version": "3.10.10"
  }
 },
 "nbformat": 4,
 "nbformat_minor": 5
}
