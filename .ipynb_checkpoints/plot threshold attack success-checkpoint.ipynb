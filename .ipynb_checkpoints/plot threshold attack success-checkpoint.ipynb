{
 "cells": [
  {
   "cell_type": "code",
   "execution_count": 15,
   "id": "ff675c5a",
   "metadata": {},
   "outputs": [],
   "source": [
    "import torch\n",
    "import matplotlib.pyplot as plt"
   ]
  },
  {
   "cell_type": "code",
   "execution_count": 19,
   "id": "c528fb78",
   "metadata": {},
   "outputs": [],
   "source": [
    "train410, val410 = torch.load(\"pythia-410M-deduped (Training, Validation) data: bs=8, nbatches=500, length=25).pt\")\n",
    "train1B, val1B   = torch.load(\"pythia-1B-deduped (Training, Validation) data: bs=8, nbatches=500, length=25).pt\")\n",
    "train1B4, val1B4 = torch.load(\"pythia-1B4-deduped (Training, Validation) data: bs=8, nbatches=500, length=25).pt\")\n",
    "train2B8, val2B8 = torch.load(\"pythia-2B8-deduped (Training, Validation) data: bs=8, nbatches=500, length=25).pt\")\n",
    "train6B9, val6B9 = torch.load(\"pythia-6B9-deduped (Training, Validation) data: bs=8, nbatches=500, length=25).pt\")"
   ]
  },
  {
   "cell_type": "code",
   "execution_count": 18,
   "id": "532fe9aa",
   "metadata": {},
   "outputs": [],
   "source": [
    "def compute_threshold(c, training, validation):\n",
    "    trainlength = len(training[training>=c])\n",
    "    vallength   = len(validation[validation>= c ])\n",
    "    return trainlength/(vallength+trainlength)"
   ]
  },
  {
   "cell_type": "code",
   "execution_count": 16,
   "id": "7916de9a",
   "metadata": {},
   "outputs": [],
   "source": [
    "def plot_fract_in_training_wrt_model_size(threshold):\n",
    "    model_sizes = [410, 1000, 1400, 2800, 6000] # in millions\n",
    "\n",
    "    # Example performance metric values for each model size\n",
    "    # Replace with your own values\n",
    "    performance = [compute_threshold(threshold, train410, val410), \n",
    "                   compute_threshold(threshold, train1B, val1B), \n",
    "                   compute_threshold(threshold, train1B4, val1B4), \n",
    "                   compute_threshold(threshold, train2B8, val2B8), \n",
    "                   compute_threshold(threshold, train6B9, val6B9)]\n",
    "\n",
    "    plt.plot(model_sizes, performance, marker='o')\n",
    "\n",
    "    plt.title(\"Performance vs Model Size\")\n",
    "    plt.xlabel(\"Model Size (Millions of Parameters)\")\n",
    "    plt.ylabel(\"Performance Metric\")\n",
    "\n",
    "    plt.show()"
   ]
  },
  {
   "cell_type": "code",
   "execution_count": null,
   "id": "2666e98f",
   "metadata": {},
   "outputs": [],
   "source": [
    "plot_frac_in_training_wrt_model_size()"
   ]
  }
 ],
 "metadata": {
  "kernelspec": {
   "display_name": "Python 3 (ipykernel)",
   "language": "python",
   "name": "python3"
  },
  "language_info": {
   "codemirror_mode": {
    "name": "ipython",
    "version": 3
   },
   "file_extension": ".py",
   "mimetype": "text/x-python",
   "name": "python",
   "nbconvert_exporter": "python",
   "pygments_lexer": "ipython3",
   "version": "3.8.8"
  }
 },
 "nbformat": 4,
 "nbformat_minor": 5
}
