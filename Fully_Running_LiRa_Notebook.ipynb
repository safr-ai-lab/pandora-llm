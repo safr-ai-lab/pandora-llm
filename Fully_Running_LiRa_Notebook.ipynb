{
  "nbformat": 4,
  "nbformat_minor": 0,
  "metadata": {
    "colab": {
      "provenance": []
    },
    "kernelspec": {
      "name": "python3",
      "display_name": "Python 3"
    },
    "language_info": {
      "name": "python"
    },
    "accelerator": "GPU",
    "gpuClass": "standard"
  },
  "cells": [
    {
      "cell_type": "markdown",
      "source": [
        "# Things To Know\n",
        "\n",
        "Hey Jason - This contains everything to know here:\n",
        "- I am using the “baby” dataset from Amazon reviews because it’s a bit more expressive than the digital one. Shouldn’t be a worry though; it just takes a few more minutes to download and I split it into more pieces. \n",
        "- There’s a cell with “settings” and “parameters” in the notebook. I’d acquaint yourself with that—those control tunable knobs. \n",
        "\n",
        "I’ve run the notebook on smallest settings so far, leading to these extremely good results: FPRs and TPRs when thresholding from np.logspace(-3, 1.2, 22) with 16 chunks are:\n",
        "[1.0, 1.0, 1.0, 1.0, 1.0, 1.0, 1.0, 1.0, 1.0, 1.0, 1.0, 1.0, 1.0, 1.0, 1.0, 1.0, 1.0, 1.0, 1.0, 0.75, 0.625, 0.25]\n",
        "[1.0, 1.0, 1.0, 1.0, 1.0, 1.0, 1.0, 1.0, 1.0, 1.0, 0.75, 0.625, 0.125, 0.125, 0.0, 0.0, 0.0, 0.0, 0.0, 0.0, 0.0, 0.0]\n",
        "\n",
        "12 vs 16 chunks isn’t a big difference, so I’d just do 12. To do evaluation chunk-wise, I just sample 25 random strings and calculate the test statistic. As it is, the notebook will run in ~20-30 minutes (70M Pythia Model; very small training amounts). Ideally we want to: 1) have more examples in fine-tuning (right now I divide the dataset into 2500 pieces so fine-tuning on 600 or so examples, should probably increase by an order of magnitude), and 2) have bigger models. \n",
        "\n",
        "If you e.g. run a 12 chunk model with ~10x the data and 160M model, I’d predict needing around 3-5 hours of Colab runtime. You can save time by keeping things in the GPU as much as possible instead of shuttling a model in and out during fine-tune/evaluation. \n",
        "\n"
      ],
      "metadata": {
        "id": "5VBpNEP7981S"
      }
    },
    {
      "cell_type": "code",
      "source": [
        "!pip install datasets\n",
        "!pip install transformers"
      ],
      "metadata": {
        "id": "WHuHJcsGetIp"
      },
      "execution_count": null,
      "outputs": []
    },
    {
      "cell_type": "code",
      "execution_count": 2,
      "metadata": {
        "id": "6WhPvtzMd2PK"
      },
      "outputs": [],
      "source": [
        "import torch\n",
        "from torch.utils.data import DataLoader, Dataset, random_split\n",
        "from datasets import load_dataset\n",
        "from transformers import GPTNeoXForCausalLM, AutoTokenizer\n",
        "from transformers.optimization import AdamW\n",
        "from transformers import Trainer, TrainingArguments\n",
        "\n",
        "## Memory statistics. I had to be careful with cuda memory \n",
        "def mem_stats():\n",
        "    t = torch.cuda.get_device_properties(0).total_memory / 1024**3\n",
        "    r = torch.cuda.memory_reserved(0) / 1024**3\n",
        "    a = torch.cuda.memory_allocated(0) / 1024**3\n",
        "    print(f\"Total Memory: {t:.2f} GB\\n\"\n",
        "          f\"Reserved Memory: {r:.2f} GB ({(100*(r/t)):.2f}%)\\n\"\n",
        "          f\"Remaining Memory: {t-r:.2f} GB ({(100*(t-r)/t):.2f}%)\\n\"\n",
        "          f\"---------------------------------\\n\"\n",
        "          f\"Allocated Memory: {a:.2f} GB ({(100*(a/t)):.2f}%)\\n\"\n",
        "          f\"Percent of Reserved Allocated: {(100*(a+1e-9)/(r+1e-9)):.2f}%\\n\")"
      ]
    },
    {
      "cell_type": "code",
      "source": [
        "from datasets import load_dataset\n",
        "\n",
        "dataset = load_dataset(\"amazon_us_reviews\", \"Baby_v1_00\") # Baby reviews a bit more distinctive than CPU"
      ],
      "metadata": {
        "id": "qOrSRrDWd3iX"
      },
      "execution_count": null,
      "outputs": []
    },
    {
      "cell_type": "code",
      "source": [
        "# Settings\n",
        "small_string_filter = 20 # filters small strings \n",
        "dataset_division_constant = 2500 # probably should make 5-10x larger\n",
        "early_stop_patience = 1 # >= 1 (if val loss increases, runs early_stop_patience more epochs, then stops)\n",
        "\n",
        "# Parameters\n",
        "N = 12 # num_models (more doesn't necessarily help that much; I tried 16)\n",
        "epochs = 12 # epochs to train (unless validation loss rises)\n",
        "bs = 2\n",
        "learn = 5e-5\n",
        "mod_size = \"70m\""
      ],
      "metadata": {
        "id": "9uqcOzOEQCOS"
      },
      "execution_count": 38,
      "outputs": []
    },
    {
      "cell_type": "code",
      "source": [
        "# Deduping and getting rid of extremely short strings \n",
        "global_dataset = dataset[\"train\"]['review_body'][:len(dataset[\"train\"])//dataset_division_constant]\n",
        "print(f\"Dataset Len: {len(global_dataset)}\")\n",
        "global_dataset = list(set(entry for entry in global_dataset))\n",
        "print(f\"Dataset Len: {len(global_dataset)}\")\n",
        "global_dataset = list(set(entry for entry in global_dataset if len(entry) > small_string_filter))\n",
        "print(f\"Dataset Len: {len(global_dataset)}\")"
      ],
      "metadata": {
        "colab": {
          "base_uri": "https://localhost:8080/"
        },
        "id": "0lUDo61Q8_Ae",
        "outputId": "16920236-c3db-4184-d526-5d91ed802231"
      },
      "execution_count": 39,
      "outputs": [
        {
          "output_type": "stream",
          "name": "stdout",
          "text": [
            "Dataset Len: 701\n",
            "Dataset Len: 689\n",
            "Dataset Len: 604\n"
          ]
        }
      ]
    },
    {
      "cell_type": "code",
      "source": [
        "validation = dataset[\"train\"]['review_body'][len(dataset[\"train\"])//dataset_division_constant: 2*len(dataset[\"train\"])//dataset_division_constant]\n",
        "validation = list(set(entry for entry in validation if len(entry) > small_string_filter))"
      ],
      "metadata": {
        "id": "aXdZ7NQ2Eow7"
      },
      "execution_count": 40,
      "outputs": []
    },
    {
      "cell_type": "code",
      "source": [
        "validation = validation[:len(validation) // 2]\n",
        "print(len(validation))"
      ],
      "metadata": {
        "colab": {
          "base_uri": "https://localhost:8080/"
        },
        "id": "HxAYSZqHE297",
        "outputId": "3d0aad77-275f-45fa-d4c6-25c0698aa9cb"
      },
      "execution_count": 41,
      "outputs": [
        {
          "output_type": "stream",
          "name": "stdout",
          "text": [
            "305\n"
          ]
        }
      ]
    },
    {
      "cell_type": "markdown",
      "source": [
        "# Data Creation"
      ],
      "metadata": {
        "id": "GOXUsaL2i4nf"
      }
    },
    {
      "cell_type": "code",
      "source": [
        "# Train until train loss = val loss\n",
        "tokenizer = AutoTokenizer.from_pretrained(f\"EleutherAI/pythia-{mod_size}-deduped\")"
      ],
      "metadata": {
        "id": "5H1ORZ0gi5Kq"
      },
      "execution_count": 44,
      "outputs": []
    },
    {
      "cell_type": "code",
      "source": [
        "def collate_fn(batch):\n",
        "    global model\n",
        "    tokens = [tokenizer.encode(example, return_tensors=\"pt\", truncation=True,max_length=model.config.max_position_embeddings) for example in batch]\n",
        "    max_length = max([t.size(1) for t in tokens])\n",
        "    tokens_padded = [torch.cat([t, t.new_zeros(t.size(0), max_length - t.size(1))], dim=1) for t in tokens]\n",
        "    tokens_padded = torch.cat(tokens_padded, dim=0)\n",
        "    return {\n",
        "        \"input_ids\":tokens_padded,\n",
        "        \"labels\":tokens_padded,\n",
        "        \"attention_mask\": (tokens_padded > 0).clone().detach().to(dtype=torch.int)\n",
        "    }"
      ],
      "metadata": {
        "id": "orOsY6fB7Q7C"
      },
      "execution_count": 45,
      "outputs": []
    },
    {
      "cell_type": "code",
      "source": [
        "def arr_split(chunks, N):\n",
        "  if N % 2 != 0:\n",
        "    print(\"Need even N!\")\n",
        "    return []\n",
        "  lists = [[] for i in range(N)]\n",
        "  \n",
        "  for i in range(N):\n",
        "    for j in range(i, int(i + N/2)):\n",
        "      lists[i] += chunks[j % N]\n",
        "  \n",
        "  return lists"
      ],
      "metadata": {
        "id": "Oui0brvN7eQw"
      },
      "execution_count": 46,
      "outputs": []
    },
    {
      "cell_type": "code",
      "source": [
        "def orthogonal_chunk(i):\n",
        "  return int(N/2 + i) % N"
      ],
      "metadata": {
        "id": "nQUOLEnGFNPj"
      },
      "execution_count": 47,
      "outputs": []
    },
    {
      "cell_type": "code",
      "source": [
        "data_chunks = [global_dataset[i * len(global_dataset)//N : (i+1) * len(global_dataset) // N] for i in range(N)]"
      ],
      "metadata": {
        "id": "XrXeSgco-2J3"
      },
      "execution_count": 48,
      "outputs": []
    },
    {
      "cell_type": "code",
      "source": [
        "data_arr = arr_split(data_chunks, N)"
      ],
      "metadata": {
        "id": "HASzjlsp_Jjp"
      },
      "execution_count": 49,
      "outputs": []
    },
    {
      "cell_type": "code",
      "source": [
        "len(data_arr[0])"
      ],
      "metadata": {
        "colab": {
          "base_uri": "https://localhost:8080/"
        },
        "id": "HwokL-tVP6ZH",
        "outputId": "1f54eb9c-5efb-45cb-ffc3-2407d44ef898"
      },
      "execution_count": 50,
      "outputs": [
        {
          "output_type": "execute_result",
          "data": {
            "text/plain": [
              "302"
            ]
          },
          "metadata": {},
          "execution_count": 50
        }
      ]
    },
    {
      "cell_type": "markdown",
      "source": [
        "# Fine Tune Method"
      ],
      "metadata": {
        "id": "s4IIn7qJBeoO"
      }
    },
    {
      "cell_type": "code",
      "source": [
        "def train(model, train_dataset, val_dataset, collate_fn, batch_size, epochs):\n",
        "  model = model.to(device)\n",
        "  model.config.use_cache = False\n",
        "  training_args = TrainingArguments(output_dir=\"fine-tuning\",\n",
        "                                    do_train=True,\n",
        "                                    do_eval=True,\n",
        "                                    num_train_epochs=epochs,\n",
        "                                    per_device_train_batch_size=batch_size,\n",
        "                                    per_device_eval_batch_size=batch_size,\n",
        "                                    evaluation_strategy=\"epoch\",\n",
        "                                    logging_strategy=\"epoch\",\n",
        "                                    save_strategy=\"epoch\",\n",
        "                                    gradient_accumulation_steps=1,\n",
        "                                    gradient_checkpointing=False,\n",
        "                                    load_best_model_at_end = True,\n",
        "                                    optim=\"adafactor\",\n",
        "                                    )\n",
        "  trainer = Trainer(model=model,\n",
        "                    args=training_args,\n",
        "                    train_dataset=train_dataset,\n",
        "                    eval_dataset=val_dataset,\n",
        "                    tokenizer=tokenizer,\n",
        "                    data_collator=collate_fn,\n",
        "                    callbacks=[EarlyStoppingCallback(early_stop_patience, 0.0)] # if val loss improve for >1 iterations, end. \n",
        "                  )\n",
        "  trainer.train()\n",
        "  return model"
      ],
      "metadata": {
        "id": "UVx3Kx0fBfrr"
      },
      "execution_count": 51,
      "outputs": []
    },
    {
      "cell_type": "markdown",
      "source": [
        "# Base Model (to be attacked)"
      ],
      "metadata": {
        "id": "e3K75PIVRMAY"
      }
    },
    {
      "cell_type": "code",
      "source": [
        "# Fine tune a model on the first 6 chunks of data\n",
        "\n",
        "from transformers import EarlyStoppingCallback\n",
        "device = \"cuda\" if torch.cuda.is_available() else \"cpu\"\n",
        "print(device)\n",
        "model = GPTNeoXForCausalLM.from_pretrained(f\"EleutherAI/pythia-{mod_size}-deduped\").to(device)\n",
        "train(model, data_arr[0], data_arr[orthogonal_chunk(0)], collate_fn, bs, epochs)"
      ],
      "metadata": {
        "colab": {
          "base_uri": "https://localhost:8080/",
          "height": 628
        },
        "id": "SvL8yXllRNmh",
        "outputId": "3e3a8849-b923-4807-b68d-ee235fdac4f1"
      },
      "execution_count": 52,
      "outputs": [
        {
          "output_type": "stream",
          "name": "stdout",
          "text": [
            "cuda\n"
          ]
        },
        {
          "output_type": "display_data",
          "data": {
            "text/plain": [
              "<IPython.core.display.HTML object>"
            ],
            "text/html": [
              "\n",
              "    <div>\n",
              "      \n",
              "      <progress value='604' max='1812' style='width:300px; height:20px; vertical-align: middle;'></progress>\n",
              "      [ 604/1812 00:48 < 01:37, 12.38 it/s, Epoch 4/12]\n",
              "    </div>\n",
              "    <table border=\"1\" class=\"dataframe\">\n",
              "  <thead>\n",
              " <tr style=\"text-align: left;\">\n",
              "      <th>Epoch</th>\n",
              "      <th>Training Loss</th>\n",
              "      <th>Validation Loss</th>\n",
              "    </tr>\n",
              "  </thead>\n",
              "  <tbody>\n",
              "    <tr>\n",
              "      <td>1</td>\n",
              "      <td>19.450600</td>\n",
              "      <td>5.399675</td>\n",
              "    </tr>\n",
              "    <tr>\n",
              "      <td>2</td>\n",
              "      <td>3.835500</td>\n",
              "      <td>4.213555</td>\n",
              "    </tr>\n",
              "    <tr>\n",
              "      <td>3</td>\n",
              "      <td>2.790000</td>\n",
              "      <td>3.913327</td>\n",
              "    </tr>\n",
              "    <tr>\n",
              "      <td>4</td>\n",
              "      <td>2.244000</td>\n",
              "      <td>4.147004</td>\n",
              "    </tr>\n",
              "  </tbody>\n",
              "</table><p>"
            ]
          },
          "metadata": {}
        },
        {
          "output_type": "execute_result",
          "data": {
            "text/plain": [
              "GPTNeoXForCausalLM(\n",
              "  (gpt_neox): GPTNeoXModel(\n",
              "    (embed_in): Embedding(50304, 512)\n",
              "    (layers): ModuleList(\n",
              "      (0-5): 6 x GPTNeoXLayer(\n",
              "        (input_layernorm): LayerNorm((512,), eps=1e-05, elementwise_affine=True)\n",
              "        (post_attention_layernorm): LayerNorm((512,), eps=1e-05, elementwise_affine=True)\n",
              "        (attention): GPTNeoXAttention(\n",
              "          (rotary_emb): RotaryEmbedding()\n",
              "          (query_key_value): Linear(in_features=512, out_features=1536, bias=True)\n",
              "          (dense): Linear(in_features=512, out_features=512, bias=True)\n",
              "        )\n",
              "        (mlp): GPTNeoXMLP(\n",
              "          (dense_h_to_4h): Linear(in_features=512, out_features=2048, bias=True)\n",
              "          (dense_4h_to_h): Linear(in_features=2048, out_features=512, bias=True)\n",
              "          (act): GELUActivation()\n",
              "        )\n",
              "      )\n",
              "    )\n",
              "    (final_layer_norm): LayerNorm((512,), eps=1e-05, elementwise_affine=True)\n",
              "  )\n",
              "  (embed_out): Linear(in_features=512, out_features=50304, bias=False)\n",
              ")"
            ]
          },
          "metadata": {},
          "execution_count": 52
        }
      ]
    },
    {
      "cell_type": "markdown",
      "source": [
        "# Shadow Models"
      ],
      "metadata": {
        "id": "Rx0EBC_yLgpx"
      }
    },
    {
      "cell_type": "code",
      "source": [
        "models = [GPTNeoXForCausalLM.from_pretrained(f\"EleutherAI/pythia-{mod_size}-deduped\").to(device) for i in range(N)]\n",
        "mem_stats()"
      ],
      "metadata": {
        "colab": {
          "base_uri": "https://localhost:8080/"
        },
        "id": "Cb_9bPMFLhHn",
        "outputId": "69bdf05c-a1b1-4066-c9ec-386c45415f07"
      },
      "execution_count": 53,
      "outputs": [
        {
          "output_type": "stream",
          "name": "stdout",
          "text": [
            "Total Memory: 14.75 GB\n",
            "Reserved Memory: 8.78 GB (59.53%)\n",
            "Remaining Memory: 5.97 GB (40.47%)\n",
            "---------------------------------\n",
            "Allocated Memory: 8.65 GB (58.66%)\n",
            "Percent of Reserved Allocated: 98.53%\n",
            "\n"
          ]
        }
      ]
    },
    {
      "cell_type": "code",
      "source": [
        "for i, m in enumerate(models):\n",
        "  print(f\"Model #{i}\")\n",
        "  # m.to(device)\n",
        "  m = train(m, data_arr[i], data_arr[orthogonal_chunk(i)], collate_fn, bs, epochs)\n",
        "  # m.to('cpu')\n",
        "  torch.cuda.empty_cache()"
      ],
      "metadata": {
        "colab": {
          "base_uri": "https://localhost:8080/",
          "height": 1000
        },
        "id": "_mAxiv2AOJSM",
        "outputId": "4227525d-7cf8-49dc-a1ba-9faecaa802c4"
      },
      "execution_count": 54,
      "outputs": [
        {
          "output_type": "stream",
          "name": "stdout",
          "text": [
            "Model #0\n"
          ]
        },
        {
          "output_type": "display_data",
          "data": {
            "text/plain": [
              "<IPython.core.display.HTML object>"
            ],
            "text/html": [
              "\n",
              "    <div>\n",
              "      \n",
              "      <progress value='604' max='1812' style='width:300px; height:20px; vertical-align: middle;'></progress>\n",
              "      [ 604/1812 00:48 < 01:37, 12.38 it/s, Epoch 4/12]\n",
              "    </div>\n",
              "    <table border=\"1\" class=\"dataframe\">\n",
              "  <thead>\n",
              " <tr style=\"text-align: left;\">\n",
              "      <th>Epoch</th>\n",
              "      <th>Training Loss</th>\n",
              "      <th>Validation Loss</th>\n",
              "    </tr>\n",
              "  </thead>\n",
              "  <tbody>\n",
              "    <tr>\n",
              "      <td>1</td>\n",
              "      <td>19.450600</td>\n",
              "      <td>5.399675</td>\n",
              "    </tr>\n",
              "    <tr>\n",
              "      <td>2</td>\n",
              "      <td>3.835500</td>\n",
              "      <td>4.213555</td>\n",
              "    </tr>\n",
              "    <tr>\n",
              "      <td>3</td>\n",
              "      <td>2.790000</td>\n",
              "      <td>3.913327</td>\n",
              "    </tr>\n",
              "    <tr>\n",
              "      <td>4</td>\n",
              "      <td>2.244000</td>\n",
              "      <td>4.147004</td>\n",
              "    </tr>\n",
              "  </tbody>\n",
              "</table><p>"
            ]
          },
          "metadata": {}
        },
        {
          "output_type": "stream",
          "name": "stdout",
          "text": [
            "Model #1\n"
          ]
        },
        {
          "output_type": "display_data",
          "data": {
            "text/plain": [
              "<IPython.core.display.HTML object>"
            ],
            "text/html": [
              "\n",
              "    <div>\n",
              "      \n",
              "      <progress value='755' max='1812' style='width:300px; height:20px; vertical-align: middle;'></progress>\n",
              "      [ 755/1812 01:01 < 01:25, 12.31 it/s, Epoch 5/12]\n",
              "    </div>\n",
              "    <table border=\"1\" class=\"dataframe\">\n",
              "  <thead>\n",
              " <tr style=\"text-align: left;\">\n",
              "      <th>Epoch</th>\n",
              "      <th>Training Loss</th>\n",
              "      <th>Validation Loss</th>\n",
              "    </tr>\n",
              "  </thead>\n",
              "  <tbody>\n",
              "    <tr>\n",
              "      <td>1</td>\n",
              "      <td>20.095700</td>\n",
              "      <td>5.201274</td>\n",
              "    </tr>\n",
              "    <tr>\n",
              "      <td>2</td>\n",
              "      <td>4.070100</td>\n",
              "      <td>4.179569</td>\n",
              "    </tr>\n",
              "    <tr>\n",
              "      <td>3</td>\n",
              "      <td>2.845900</td>\n",
              "      <td>4.100634</td>\n",
              "    </tr>\n",
              "    <tr>\n",
              "      <td>4</td>\n",
              "      <td>2.235800</td>\n",
              "      <td>4.027329</td>\n",
              "    </tr>\n",
              "    <tr>\n",
              "      <td>5</td>\n",
              "      <td>1.626500</td>\n",
              "      <td>4.775106</td>\n",
              "    </tr>\n",
              "  </tbody>\n",
              "</table><p>"
            ]
          },
          "metadata": {}
        },
        {
          "output_type": "stream",
          "name": "stdout",
          "text": [
            "Model #2\n"
          ]
        },
        {
          "output_type": "display_data",
          "data": {
            "text/plain": [
              "<IPython.core.display.HTML object>"
            ],
            "text/html": [
              "\n",
              "    <div>\n",
              "      \n",
              "      <progress value='604' max='1812' style='width:300px; height:20px; vertical-align: middle;'></progress>\n",
              "      [ 604/1812 00:47 < 01:35, 12.62 it/s, Epoch 4/12]\n",
              "    </div>\n",
              "    <table border=\"1\" class=\"dataframe\">\n",
              "  <thead>\n",
              " <tr style=\"text-align: left;\">\n",
              "      <th>Epoch</th>\n",
              "      <th>Training Loss</th>\n",
              "      <th>Validation Loss</th>\n",
              "    </tr>\n",
              "  </thead>\n",
              "  <tbody>\n",
              "    <tr>\n",
              "      <td>1</td>\n",
              "      <td>19.610800</td>\n",
              "      <td>5.104109</td>\n",
              "    </tr>\n",
              "    <tr>\n",
              "      <td>2</td>\n",
              "      <td>3.636100</td>\n",
              "      <td>4.193539</td>\n",
              "    </tr>\n",
              "    <tr>\n",
              "      <td>3</td>\n",
              "      <td>2.878600</td>\n",
              "      <td>4.109079</td>\n",
              "    </tr>\n",
              "    <tr>\n",
              "      <td>4</td>\n",
              "      <td>2.005600</td>\n",
              "      <td>4.434436</td>\n",
              "    </tr>\n",
              "  </tbody>\n",
              "</table><p>"
            ]
          },
          "metadata": {}
        },
        {
          "output_type": "stream",
          "name": "stdout",
          "text": [
            "Model #3\n"
          ]
        },
        {
          "output_type": "display_data",
          "data": {
            "text/plain": [
              "<IPython.core.display.HTML object>"
            ],
            "text/html": [
              "\n",
              "    <div>\n",
              "      \n",
              "      <progress value='604' max='1812' style='width:300px; height:20px; vertical-align: middle;'></progress>\n",
              "      [ 604/1812 00:48 < 01:36, 12.48 it/s, Epoch 4/12]\n",
              "    </div>\n",
              "    <table border=\"1\" class=\"dataframe\">\n",
              "  <thead>\n",
              " <tr style=\"text-align: left;\">\n",
              "      <th>Epoch</th>\n",
              "      <th>Training Loss</th>\n",
              "      <th>Validation Loss</th>\n",
              "    </tr>\n",
              "  </thead>\n",
              "  <tbody>\n",
              "    <tr>\n",
              "      <td>1</td>\n",
              "      <td>14.198000</td>\n",
              "      <td>4.495846</td>\n",
              "    </tr>\n",
              "    <tr>\n",
              "      <td>2</td>\n",
              "      <td>3.669600</td>\n",
              "      <td>4.226188</td>\n",
              "    </tr>\n",
              "    <tr>\n",
              "      <td>3</td>\n",
              "      <td>2.826700</td>\n",
              "      <td>4.114696</td>\n",
              "    </tr>\n",
              "    <tr>\n",
              "      <td>4</td>\n",
              "      <td>2.135300</td>\n",
              "      <td>4.391212</td>\n",
              "    </tr>\n",
              "  </tbody>\n",
              "</table><p>"
            ]
          },
          "metadata": {}
        },
        {
          "output_type": "stream",
          "name": "stdout",
          "text": [
            "Model #4\n"
          ]
        },
        {
          "output_type": "display_data",
          "data": {
            "text/plain": [
              "<IPython.core.display.HTML object>"
            ],
            "text/html": [
              "\n",
              "    <div>\n",
              "      \n",
              "      <progress value='453' max='1812' style='width:300px; height:20px; vertical-align: middle;'></progress>\n",
              "      [ 453/1812 00:36 < 01:48, 12.47 it/s, Epoch 3/12]\n",
              "    </div>\n",
              "    <table border=\"1\" class=\"dataframe\">\n",
              "  <thead>\n",
              " <tr style=\"text-align: left;\">\n",
              "      <th>Epoch</th>\n",
              "      <th>Training Loss</th>\n",
              "      <th>Validation Loss</th>\n",
              "    </tr>\n",
              "  </thead>\n",
              "  <tbody>\n",
              "    <tr>\n",
              "      <td>1</td>\n",
              "      <td>16.751600</td>\n",
              "      <td>4.781190</td>\n",
              "    </tr>\n",
              "    <tr>\n",
              "      <td>2</td>\n",
              "      <td>3.456900</td>\n",
              "      <td>3.924072</td>\n",
              "    </tr>\n",
              "    <tr>\n",
              "      <td>3</td>\n",
              "      <td>2.738600</td>\n",
              "      <td>4.208817</td>\n",
              "    </tr>\n",
              "  </tbody>\n",
              "</table><p>"
            ]
          },
          "metadata": {}
        },
        {
          "output_type": "stream",
          "name": "stdout",
          "text": [
            "Model #5\n"
          ]
        },
        {
          "output_type": "display_data",
          "data": {
            "text/plain": [
              "<IPython.core.display.HTML object>"
            ],
            "text/html": [
              "\n",
              "    <div>\n",
              "      \n",
              "      <progress value='604' max='1812' style='width:300px; height:20px; vertical-align: middle;'></progress>\n",
              "      [ 604/1812 00:54 < 01:49, 10.99 it/s, Epoch 4/12]\n",
              "    </div>\n",
              "    <table border=\"1\" class=\"dataframe\">\n",
              "  <thead>\n",
              " <tr style=\"text-align: left;\">\n",
              "      <th>Epoch</th>\n",
              "      <th>Training Loss</th>\n",
              "      <th>Validation Loss</th>\n",
              "    </tr>\n",
              "  </thead>\n",
              "  <tbody>\n",
              "    <tr>\n",
              "      <td>1</td>\n",
              "      <td>16.312900</td>\n",
              "      <td>5.889315</td>\n",
              "    </tr>\n",
              "    <tr>\n",
              "      <td>2</td>\n",
              "      <td>3.814500</td>\n",
              "      <td>4.632256</td>\n",
              "    </tr>\n",
              "    <tr>\n",
              "      <td>3</td>\n",
              "      <td>2.835700</td>\n",
              "      <td>4.326741</td>\n",
              "    </tr>\n",
              "    <tr>\n",
              "      <td>4</td>\n",
              "      <td>2.264300</td>\n",
              "      <td>4.346471</td>\n",
              "    </tr>\n",
              "  </tbody>\n",
              "</table><p>"
            ]
          },
          "metadata": {}
        },
        {
          "output_type": "stream",
          "name": "stdout",
          "text": [
            "Model #6\n"
          ]
        },
        {
          "output_type": "display_data",
          "data": {
            "text/plain": [
              "<IPython.core.display.HTML object>"
            ],
            "text/html": [
              "\n",
              "    <div>\n",
              "      \n",
              "      <progress value='453' max='1812' style='width:300px; height:20px; vertical-align: middle;'></progress>\n",
              "      [ 453/1812 00:35 < 01:47, 12.59 it/s, Epoch 3/12]\n",
              "    </div>\n",
              "    <table border=\"1\" class=\"dataframe\">\n",
              "  <thead>\n",
              " <tr style=\"text-align: left;\">\n",
              "      <th>Epoch</th>\n",
              "      <th>Training Loss</th>\n",
              "      <th>Validation Loss</th>\n",
              "    </tr>\n",
              "  </thead>\n",
              "  <tbody>\n",
              "    <tr>\n",
              "      <td>1</td>\n",
              "      <td>17.368400</td>\n",
              "      <td>4.879842</td>\n",
              "    </tr>\n",
              "    <tr>\n",
              "      <td>2</td>\n",
              "      <td>3.787300</td>\n",
              "      <td>4.366836</td>\n",
              "    </tr>\n",
              "    <tr>\n",
              "      <td>3</td>\n",
              "      <td>2.984800</td>\n",
              "      <td>4.518620</td>\n",
              "    </tr>\n",
              "  </tbody>\n",
              "</table><p>"
            ]
          },
          "metadata": {}
        },
        {
          "output_type": "stream",
          "name": "stdout",
          "text": [
            "Model #7\n"
          ]
        },
        {
          "output_type": "display_data",
          "data": {
            "text/plain": [
              "<IPython.core.display.HTML object>"
            ],
            "text/html": [
              "\n",
              "    <div>\n",
              "      \n",
              "      <progress value='604' max='1812' style='width:300px; height:20px; vertical-align: middle;'></progress>\n",
              "      [ 604/1812 00:47 < 01:35, 12.68 it/s, Epoch 4/12]\n",
              "    </div>\n",
              "    <table border=\"1\" class=\"dataframe\">\n",
              "  <thead>\n",
              " <tr style=\"text-align: left;\">\n",
              "      <th>Epoch</th>\n",
              "      <th>Training Loss</th>\n",
              "      <th>Validation Loss</th>\n",
              "    </tr>\n",
              "  </thead>\n",
              "  <tbody>\n",
              "    <tr>\n",
              "      <td>1</td>\n",
              "      <td>14.952700</td>\n",
              "      <td>6.049477</td>\n",
              "    </tr>\n",
              "    <tr>\n",
              "      <td>2</td>\n",
              "      <td>4.415100</td>\n",
              "      <td>5.309657</td>\n",
              "    </tr>\n",
              "    <tr>\n",
              "      <td>3</td>\n",
              "      <td>2.812400</td>\n",
              "      <td>4.679349</td>\n",
              "    </tr>\n",
              "    <tr>\n",
              "      <td>4</td>\n",
              "      <td>2.158400</td>\n",
              "      <td>4.875332</td>\n",
              "    </tr>\n",
              "  </tbody>\n",
              "</table><p>"
            ]
          },
          "metadata": {}
        },
        {
          "output_type": "stream",
          "name": "stdout",
          "text": [
            "Model #8\n"
          ]
        },
        {
          "output_type": "display_data",
          "data": {
            "text/plain": [
              "<IPython.core.display.HTML object>"
            ],
            "text/html": [
              "\n",
              "    <div>\n",
              "      \n",
              "      <progress value='302' max='1812' style='width:300px; height:20px; vertical-align: middle;'></progress>\n",
              "      [ 302/1812 00:28 < 02:21, 10.65 it/s, Epoch 2/12]\n",
              "    </div>\n",
              "    <table border=\"1\" class=\"dataframe\">\n",
              "  <thead>\n",
              " <tr style=\"text-align: left;\">\n",
              "      <th>Epoch</th>\n",
              "      <th>Training Loss</th>\n",
              "      <th>Validation Loss</th>\n",
              "    </tr>\n",
              "  </thead>\n",
              "  <tbody>\n",
              "    <tr>\n",
              "      <td>1</td>\n",
              "      <td>15.161200</td>\n",
              "      <td>4.440692</td>\n",
              "    </tr>\n",
              "    <tr>\n",
              "      <td>2</td>\n",
              "      <td>3.481100</td>\n",
              "      <td>4.688966</td>\n",
              "    </tr>\n",
              "  </tbody>\n",
              "</table><p>"
            ]
          },
          "metadata": {}
        },
        {
          "output_type": "stream",
          "name": "stdout",
          "text": [
            "Model #9\n"
          ]
        },
        {
          "output_type": "display_data",
          "data": {
            "text/plain": [
              "<IPython.core.display.HTML object>"
            ],
            "text/html": [
              "\n",
              "    <div>\n",
              "      \n",
              "      <progress value='453' max='1812' style='width:300px; height:20px; vertical-align: middle;'></progress>\n",
              "      [ 453/1812 00:36 < 01:49, 12.42 it/s, Epoch 3/12]\n",
              "    </div>\n",
              "    <table border=\"1\" class=\"dataframe\">\n",
              "  <thead>\n",
              " <tr style=\"text-align: left;\">\n",
              "      <th>Epoch</th>\n",
              "      <th>Training Loss</th>\n",
              "      <th>Validation Loss</th>\n",
              "    </tr>\n",
              "  </thead>\n",
              "  <tbody>\n",
              "    <tr>\n",
              "      <td>1</td>\n",
              "      <td>17.897400</td>\n",
              "      <td>4.638190</td>\n",
              "    </tr>\n",
              "    <tr>\n",
              "      <td>2</td>\n",
              "      <td>3.550200</td>\n",
              "      <td>4.106703</td>\n",
              "    </tr>\n",
              "    <tr>\n",
              "      <td>3</td>\n",
              "      <td>2.757300</td>\n",
              "      <td>4.244529</td>\n",
              "    </tr>\n",
              "  </tbody>\n",
              "</table><p>"
            ]
          },
          "metadata": {}
        },
        {
          "output_type": "stream",
          "name": "stdout",
          "text": [
            "Model #10\n"
          ]
        },
        {
          "output_type": "display_data",
          "data": {
            "text/plain": [
              "<IPython.core.display.HTML object>"
            ],
            "text/html": [
              "\n",
              "    <div>\n",
              "      \n",
              "      <progress value='604' max='1812' style='width:300px; height:20px; vertical-align: middle;'></progress>\n",
              "      [ 604/1812 00:49 < 01:38, 12.25 it/s, Epoch 4/12]\n",
              "    </div>\n",
              "    <table border=\"1\" class=\"dataframe\">\n",
              "  <thead>\n",
              " <tr style=\"text-align: left;\">\n",
              "      <th>Epoch</th>\n",
              "      <th>Training Loss</th>\n",
              "      <th>Validation Loss</th>\n",
              "    </tr>\n",
              "  </thead>\n",
              "  <tbody>\n",
              "    <tr>\n",
              "      <td>1</td>\n",
              "      <td>18.245400</td>\n",
              "      <td>4.707933</td>\n",
              "    </tr>\n",
              "    <tr>\n",
              "      <td>2</td>\n",
              "      <td>3.770800</td>\n",
              "      <td>4.500659</td>\n",
              "    </tr>\n",
              "    <tr>\n",
              "      <td>3</td>\n",
              "      <td>2.676200</td>\n",
              "      <td>3.970432</td>\n",
              "    </tr>\n",
              "    <tr>\n",
              "      <td>4</td>\n",
              "      <td>2.104700</td>\n",
              "      <td>4.246475</td>\n",
              "    </tr>\n",
              "  </tbody>\n",
              "</table><p>"
            ]
          },
          "metadata": {}
        },
        {
          "output_type": "stream",
          "name": "stdout",
          "text": [
            "Model #11\n"
          ]
        },
        {
          "output_type": "display_data",
          "data": {
            "text/plain": [
              "<IPython.core.display.HTML object>"
            ],
            "text/html": [
              "\n",
              "    <div>\n",
              "      \n",
              "      <progress value='604' max='1812' style='width:300px; height:20px; vertical-align: middle;'></progress>\n",
              "      [ 604/1812 00:49 < 01:39, 12.19 it/s, Epoch 4/12]\n",
              "    </div>\n",
              "    <table border=\"1\" class=\"dataframe\">\n",
              "  <thead>\n",
              " <tr style=\"text-align: left;\">\n",
              "      <th>Epoch</th>\n",
              "      <th>Training Loss</th>\n",
              "      <th>Validation Loss</th>\n",
              "    </tr>\n",
              "  </thead>\n",
              "  <tbody>\n",
              "    <tr>\n",
              "      <td>1</td>\n",
              "      <td>18.107400</td>\n",
              "      <td>5.225554</td>\n",
              "    </tr>\n",
              "    <tr>\n",
              "      <td>2</td>\n",
              "      <td>3.716300</td>\n",
              "      <td>4.716758</td>\n",
              "    </tr>\n",
              "    <tr>\n",
              "      <td>3</td>\n",
              "      <td>2.696900</td>\n",
              "      <td>4.244834</td>\n",
              "    </tr>\n",
              "    <tr>\n",
              "      <td>4</td>\n",
              "      <td>2.061300</td>\n",
              "      <td>4.373197</td>\n",
              "    </tr>\n",
              "  </tbody>\n",
              "</table><p>"
            ]
          },
          "metadata": {}
        },
        {
          "output_type": "stream",
          "name": "stdout",
          "text": [
            "Model #12\n"
          ]
        },
        {
          "output_type": "display_data",
          "data": {
            "text/plain": [
              "<IPython.core.display.HTML object>"
            ],
            "text/html": [
              "\n",
              "    <div>\n",
              "      \n",
              "      <progress value='453' max='1812' style='width:300px; height:20px; vertical-align: middle;'></progress>\n",
              "      [ 453/1812 00:36 < 01:49, 12.36 it/s, Epoch 3/12]\n",
              "    </div>\n",
              "    <table border=\"1\" class=\"dataframe\">\n",
              "  <thead>\n",
              " <tr style=\"text-align: left;\">\n",
              "      <th>Epoch</th>\n",
              "      <th>Training Loss</th>\n",
              "      <th>Validation Loss</th>\n",
              "    </tr>\n",
              "  </thead>\n",
              "  <tbody>\n",
              "    <tr>\n",
              "      <td>1</td>\n",
              "      <td>19.546300</td>\n",
              "      <td>7.928388</td>\n",
              "    </tr>\n",
              "    <tr>\n",
              "      <td>2</td>\n",
              "      <td>4.863700</td>\n",
              "      <td>5.565675</td>\n",
              "    </tr>\n",
              "    <tr>\n",
              "      <td>3</td>\n",
              "      <td>3.223700</td>\n",
              "      <td>5.860952</td>\n",
              "    </tr>\n",
              "  </tbody>\n",
              "</table><p>"
            ]
          },
          "metadata": {}
        },
        {
          "output_type": "stream",
          "name": "stdout",
          "text": [
            "Model #13\n"
          ]
        },
        {
          "output_type": "display_data",
          "data": {
            "text/plain": [
              "<IPython.core.display.HTML object>"
            ],
            "text/html": [
              "\n",
              "    <div>\n",
              "      \n",
              "      <progress value='453' max='1812' style='width:300px; height:20px; vertical-align: middle;'></progress>\n",
              "      [ 453/1812 00:37 < 01:52, 12.11 it/s, Epoch 3/12]\n",
              "    </div>\n",
              "    <table border=\"1\" class=\"dataframe\">\n",
              "  <thead>\n",
              " <tr style=\"text-align: left;\">\n",
              "      <th>Epoch</th>\n",
              "      <th>Training Loss</th>\n",
              "      <th>Validation Loss</th>\n",
              "    </tr>\n",
              "  </thead>\n",
              "  <tbody>\n",
              "    <tr>\n",
              "      <td>1</td>\n",
              "      <td>19.048300</td>\n",
              "      <td>6.849393</td>\n",
              "    </tr>\n",
              "    <tr>\n",
              "      <td>2</td>\n",
              "      <td>4.592300</td>\n",
              "      <td>5.483454</td>\n",
              "    </tr>\n",
              "    <tr>\n",
              "      <td>3</td>\n",
              "      <td>2.901400</td>\n",
              "      <td>5.612309</td>\n",
              "    </tr>\n",
              "  </tbody>\n",
              "</table><p>"
            ]
          },
          "metadata": {}
        },
        {
          "output_type": "stream",
          "name": "stdout",
          "text": [
            "Model #14\n"
          ]
        },
        {
          "output_type": "display_data",
          "data": {
            "text/plain": [
              "<IPython.core.display.HTML object>"
            ],
            "text/html": [
              "\n",
              "    <div>\n",
              "      \n",
              "      <progress value='755' max='1812' style='width:300px; height:20px; vertical-align: middle;'></progress>\n",
              "      [ 755/1812 01:00 < 01:24, 12.46 it/s, Epoch 5/12]\n",
              "    </div>\n",
              "    <table border=\"1\" class=\"dataframe\">\n",
              "  <thead>\n",
              " <tr style=\"text-align: left;\">\n",
              "      <th>Epoch</th>\n",
              "      <th>Training Loss</th>\n",
              "      <th>Validation Loss</th>\n",
              "    </tr>\n",
              "  </thead>\n",
              "  <tbody>\n",
              "    <tr>\n",
              "      <td>1</td>\n",
              "      <td>14.119800</td>\n",
              "      <td>7.900427</td>\n",
              "    </tr>\n",
              "    <tr>\n",
              "      <td>2</td>\n",
              "      <td>4.320900</td>\n",
              "      <td>5.685491</td>\n",
              "    </tr>\n",
              "    <tr>\n",
              "      <td>3</td>\n",
              "      <td>3.274800</td>\n",
              "      <td>5.100091</td>\n",
              "    </tr>\n",
              "    <tr>\n",
              "      <td>4</td>\n",
              "      <td>2.291600</td>\n",
              "      <td>5.053584</td>\n",
              "    </tr>\n",
              "    <tr>\n",
              "      <td>5</td>\n",
              "      <td>1.704800</td>\n",
              "      <td>5.323534</td>\n",
              "    </tr>\n",
              "  </tbody>\n",
              "</table><p>"
            ]
          },
          "metadata": {}
        },
        {
          "output_type": "stream",
          "name": "stdout",
          "text": [
            "Model #15\n"
          ]
        },
        {
          "output_type": "display_data",
          "data": {
            "text/plain": [
              "<IPython.core.display.HTML object>"
            ],
            "text/html": [
              "\n",
              "    <div>\n",
              "      \n",
              "      <progress value='755' max='1812' style='width:300px; height:20px; vertical-align: middle;'></progress>\n",
              "      [ 755/1812 01:00 < 01:25, 12.43 it/s, Epoch 5/12]\n",
              "    </div>\n",
              "    <table border=\"1\" class=\"dataframe\">\n",
              "  <thead>\n",
              " <tr style=\"text-align: left;\">\n",
              "      <th>Epoch</th>\n",
              "      <th>Training Loss</th>\n",
              "      <th>Validation Loss</th>\n",
              "    </tr>\n",
              "  </thead>\n",
              "  <tbody>\n",
              "    <tr>\n",
              "      <td>1</td>\n",
              "      <td>16.166900</td>\n",
              "      <td>7.863128</td>\n",
              "    </tr>\n",
              "    <tr>\n",
              "      <td>2</td>\n",
              "      <td>5.027100</td>\n",
              "      <td>6.522330</td>\n",
              "    </tr>\n",
              "    <tr>\n",
              "      <td>3</td>\n",
              "      <td>3.324800</td>\n",
              "      <td>5.456606</td>\n",
              "    </tr>\n",
              "    <tr>\n",
              "      <td>4</td>\n",
              "      <td>2.393400</td>\n",
              "      <td>5.414891</td>\n",
              "    </tr>\n",
              "    <tr>\n",
              "      <td>5</td>\n",
              "      <td>1.890800</td>\n",
              "      <td>5.886139</td>\n",
              "    </tr>\n",
              "  </tbody>\n",
              "</table><p>"
            ]
          },
          "metadata": {}
        }
      ]
    },
    {
      "cell_type": "code",
      "source": [
        "# for i, model in enumerate(models):\n",
        "#   model_save_name = f'model_{i}.pt'\n",
        "#   path = f\"/content/gdrive/My Drive/{model_save_name}\" \n",
        "#   model.save_pretrained(path)"
      ],
      "metadata": {
        "id": "YMXQ78eXOLTE"
      },
      "execution_count": 20,
      "outputs": []
    },
    {
      "cell_type": "markdown",
      "source": [
        "# Evaluation"
      ],
      "metadata": {
        "id": "47itxUQQLui9"
      }
    },
    {
      "cell_type": "code",
      "source": [
        "device = \"cuda\" if torch.cuda.is_available() else \"cpu\"\n",
        "print(device)"
      ],
      "metadata": {
        "colab": {
          "base_uri": "https://localhost:8080/"
        },
        "id": "U7AHV9TnkrBp",
        "outputId": "57154a42-19f6-4860-f02d-d49ce26ecb80"
      },
      "execution_count": 55,
      "outputs": [
        {
          "output_type": "stream",
          "name": "stdout",
          "text": [
            "cuda\n"
          ]
        }
      ]
    },
    {
      "cell_type": "code",
      "source": [
        "def get_in_models(chunk_no, N):\n",
        "  \"\"\"\n",
        "  Returns a list of models that should be used for inference for a given chunk\n",
        "  \"\"\"\n",
        "  ins = []\n",
        "  outs = []\n",
        "  for i in range(N):\n",
        "    lower = i\n",
        "    upper = int(i+N/2)\n",
        "    innit = False\n",
        "    for j in range(lower, upper):\n",
        "      if chunk_no == j % N:\n",
        "        innit = True\n",
        "    if innit:\n",
        "      ins.append(i)\n",
        "    else:\n",
        "      outs.append(i)\n",
        "  return (ins, outs)"
      ],
      "metadata": {
        "id": "seLPnaKMbYfE"
      },
      "execution_count": 56,
      "outputs": []
    },
    {
      "cell_type": "code",
      "source": [
        "from torch.nn import CrossEntropyLoss\n",
        "import math\n",
        "\n",
        "def compute_ce_loss(model, tokenizer, string):\n",
        "  input_ids = tokenizer.encode(string, return_tensors=\"pt\").to(device)\n",
        "\n",
        "  with torch.no_grad():\n",
        "    outputs = model(input_ids)\n",
        "    logits = outputs.logits\n",
        "\n",
        "  loss_fn = CrossEntropyLoss()\n",
        "  input_len = input_ids.shape[-1] - 1\n",
        "  input_ids_without_first_token = input_ids[:, 1:]\n",
        "  logits_without_last_token = logits[:, :-1, :]\n",
        "  loss = loss_fn(logits_without_last_token.view(-1, logits.size(-1)), input_ids_without_first_token.view(-1))\n",
        "  return loss\n",
        "\n",
        "def compute_confidence(ce_loss):\n",
        "  conf = math.exp(-1 * ce_loss)\n",
        "  return math.log(conf / (1-conf))"
      ],
      "metadata": {
        "id": "7TWjqlziLu6W"
      },
      "execution_count": 57,
      "outputs": []
    },
    {
      "cell_type": "code",
      "source": [
        "# Generate ROC curve \n",
        "import numpy as np\n",
        "range_of_vals = np.logspace(-3, 1.2, 22)"
      ],
      "metadata": {
        "id": "jOXYX9EjLvSx"
      },
      "execution_count": 58,
      "outputs": []
    },
    {
      "cell_type": "code",
      "source": [
        "import random\n",
        "import scipy.stats as stats\n",
        "\n",
        "def conf_nums(models, ins, exs, tokenizer):\n",
        "  confs = []\n",
        "  for i, m in enumerate(models):\n",
        "    # m.to(device)\n",
        "    # print(m, i)\n",
        "    if i in ins:\n",
        "      for ex in exs:\n",
        "        ce_loss = compute_ce_loss(m, tokenizer, ex)\n",
        "        confs.append(compute_confidence(ce_loss))\n",
        "    # m.to('cpu')\n",
        "  return (np.mean(confs), np.std(confs))\n",
        "    "
      ],
      "metadata": {
        "id": "hLNLHa-6jhk9"
      },
      "execution_count": 59,
      "outputs": []
    },
    {
      "cell_type": "code",
      "source": [
        "# We're considering a \"chunk\" as a discrete entity\n",
        "tprs = []\n",
        "fprs = []\n",
        "\n",
        "for thold in range_of_vals:\n",
        "  print(f\"Threshold: {thold}\")\n",
        "  tp = 0\n",
        "  fp = 0\n",
        "  tn = 0\n",
        "  fn = 0\n",
        "\n",
        "  for i, chunk in enumerate(data_chunks):\n",
        "    ins, outs = get_in_models(i, N)\n",
        "    # Get Random Samples\n",
        "    exs = random.sample(chunk, 25)\n",
        "\n",
        "    # Get IN Mu/Stdev\n",
        "    mu_in, std_in = conf_nums(models, ins, exs, tokenizer)\n",
        "\n",
        "    # Get OUT Mu/Stdev\n",
        "    mu_out, std_out = conf_nums(models, outs, exs, tokenizer)\n",
        "\n",
        "    # Get TARGET Mu\n",
        "    mu_target, std_target = conf_nums([model], [0], exs, tokenizer)\n",
        "\n",
        "    likelihood_in = stats.norm.pdf(mu_target, mu_in, std_in)\n",
        "    likelihood_out = stats.norm.pdf(mu_target, mu_out, std_out)\n",
        "    lira = likelihood_in / likelihood_out\n",
        "    above_thresh = lira > thold\n",
        "    in_true_model = i >= 0 and i < N/2 # this is assuming the first chunk is true\n",
        "    print(f\"{likelihood_in} / {likelihood_out} = {lira} / {above_thresh} / {in_true_model}\")\n",
        "\n",
        "    if in_true_model and above_thresh:\n",
        "      tp += 1\n",
        "    elif in_true_model and not above_thresh:\n",
        "      fn += 1\n",
        "    elif not in_true_model and above_thresh:\n",
        "      fp += 1\n",
        "    else:\n",
        "      tn += 1\n",
        "\n",
        "  tprs.append(tp / (tp+fn))\n",
        "  fprs.append(fp / (fp+tn))"
      ],
      "metadata": {
        "colab": {
          "base_uri": "https://localhost:8080/"
        },
        "id": "lSjhfVTSYTsr",
        "outputId": "6679a88a-9540-4772-e551-30ba30ca738e"
      },
      "execution_count": 60,
      "outputs": [
        {
          "output_type": "stream",
          "name": "stdout",
          "text": [
            "Threshold: 0.001\n",
            "0.36510673659974124 / 0.03199255684227917 = 11.412239990685622 / True / True\n",
            "0.3675918282572705 / 0.010598913766109453 = 34.68202840112384 / True / True\n",
            "0.28327839715597736 / 0.0628681414743866 = 4.50591333722485 / True / True\n",
            "0.3452075685491406 / 0.038487207175524875 = 8.96941071808058 / True / True\n",
            "0.26872567403492686 / 0.05118456620600989 = 5.250130927228102 / True / True\n",
            "0.3681004553139713 / 0.03940734176949732 = 9.340910571108202 / True / True\n",
            "0.3994164842392889 / 0.017642401354478605 = 22.63957588391986 / True / True\n",
            "0.4365965567312484 / 0.029493525333223098 = 14.803132273897502 / True / True\n",
            "0.0435170190130459 / 0.2730575373958058 = 0.1593694113997907 / True / False\n",
            "0.038620874405213834 / 0.31603469300240083 = 0.12220454038860994 / True / False\n",
            "0.036535267712361506 / 0.3098854056948909 = 0.1178992848354196 / True / False\n",
            "0.05762378438367419 / 0.3546205147430992 = 0.16249422125344068 / True / False\n",
            "0.04060979876303145 / 0.45000958164951804 = 0.09024207576686594 / True / False\n",
            "0.10363376832330799 / 0.2511171405691469 = 0.4126909381351915 / True / False\n",
            "0.04376707361846319 / 0.2917902485063529 = 0.14999498387112922 / True / False\n",
            "0.052443263470786504 / 0.2953639695010217 = 0.17755470838024845 / True / False\n",
            "Threshold: 0.001584893192461114\n",
            "0.36583024359360994 / 0.012966577879036875 = 28.213322513185947 / True / True\n",
            "0.3832117698376869 / 0.0071015152076338885 = 53.9619727105206 / True / True\n",
            "0.2794684309799007 / 0.08308677935037358 = 3.363572799005648 / True / True\n",
            "0.33954986337401666 / 0.024116397336382173 = 14.079626348740293 / True / True\n",
            "0.25524765033976804 / 0.05295648195728572 = 4.81995104103873 / True / True\n",
            "0.3529781236992049 / 0.05969070302400037 = 5.913452276768793 / True / True\n",
            "0.3996463564552485 / 0.0147256531806871 = 27.13946549952638 / True / True\n",
            "0.3735391917969924 / 0.05770947972858302 = 6.472752718510154 / True / True\n",
            "0.05665254663535433 / 0.2751467102867804 = 0.2058994148114888 / True / False\n",
            "0.05276175890821579 / 0.32931285643739466 = 0.160217731791611 / True / False\n",
            "0.05210117874905587 / 0.283567040220898 = 0.1837349598474815 / True / False\n",
            "0.03523711376842477 / 0.33359709230433665 = 0.10562776049702007 / True / False\n",
            "0.031456450741987906 / 0.40548364881067295 = 0.07757760598794317 / True / False\n",
            "0.11982051350463091 / 0.2514799139919895 = 0.47646156546899254 / True / False\n",
            "0.036221640237576624 / 0.29608860553324323 = 0.12233378644322689 / True / False\n",
            "0.049064109943645566 / 0.26947179876678456 = 0.18207511943061727 / True / False\n",
            "Threshold: 0.0025118864315095794\n",
            "0.33333857495490643 / 0.05480331885434031 = 6.082452339079583 / True / True\n",
            "0.43030758131911984 / 0.0073459989402897 = 58.57713631825681 / True / True\n",
            "0.2896010036660847 / 0.05666312206089277 = 5.110925644987692 / True / True\n",
            "0.33959382880168887 / 0.03775072614231862 = 8.99568997749698 / True / True\n",
            "0.26689576582696933 / 0.03129803105691055 = 8.527557702964168 / True / True\n",
            "0.32424269375658754 / 0.03698364800894708 = 8.76719066972914 / True / True\n",
            "0.39990963966834475 / 0.014289443447670587 = 27.986369177557897 / True / True\n",
            "0.3796184762291619 / 0.05767629675226697 = 6.581880210855267 / True / True\n",
            "0.05930534699287205 / 0.23272494313028275 = 0.25483021370714043 / True / False\n",
            "0.02746252267534711 / 0.32269057542522994 = 0.08510481794876716 / True / False\n",
            "0.057118927915906656 / 0.3081982866688629 = 0.18533175032629845 / True / False\n",
            "0.031608639532729965 / 0.38581306114261427 = 0.08192734439606221 / True / False\n",
            "0.05480163970747348 / 0.36918957609815495 = 0.14843766795003874 / True / False\n",
            "0.07982375652905442 / 0.3591155276728658 = 0.2222787665193063 / True / False\n",
            "0.03559823523781913 / 0.2756045064254678 = 0.12916419872635873 / True / False\n",
            "0.05309698619401511 / 0.2605983277413113 = 0.20375029515432272 / True / False\n",
            "Threshold: 0.003981071705534973\n",
            "0.3261371036368383 / 0.07561981148306274 = 4.3128526406057786 / True / True\n",
            "0.3887654533453483 / 0.01761711239988218 = 22.067490092641304 / True / True\n",
            "0.2772669416239298 / 0.07594852602033537 = 3.650721826381344 / True / True\n",
            "0.38049822205052664 / 0.024264970280420895 = 15.680967981961468 / True / True\n",
            "0.3478632159514126 / 0.023726231890317584 = 14.661544975178794 / True / True\n",
            "0.37791604323999595 / 0.0308610491391784 = 12.245728961956381 / True / True\n",
            "0.39515807662187186 / 0.013075018976624662 = 30.22237117424686 / True / True\n",
            "0.3833704058315885 / 0.020268360513408388 = 18.91472206535761 / True / True\n",
            "0.057501783509151576 / 0.2905200862365334 = 0.197927049568391 / True / False\n",
            "0.04430982952638868 / 0.3021080344216584 = 0.1466688220034047 / True / False\n",
            "0.04234793722798273 / 0.36429277856962405 = 0.11624698517016896 / True / False\n",
            "0.04121154216143118 / 0.34494820639802404 = 0.11947168124677413 / True / False\n",
            "0.043584360222457125 / 0.43291461120173125 = 0.10067657476718316 / True / False\n",
            "0.09475005295100564 / 0.36337670259007276 = 0.26074883798451354 / True / False\n",
            "0.0420565259300671 / 0.2930161360170675 = 0.14352972673019415 / True / False\n",
            "0.05949709147381552 / 0.30073423299183133 = 0.19783943743920768 / True / False\n",
            "Threshold: 0.00630957344480193\n",
            "0.31713960068681174 / 0.0736850383682475 = 4.30398908258524 / True / True\n",
            "0.3873006853170449 / 0.016011200816009808 = 24.189359047310052 / True / True\n",
            "0.28343896147539427 / 0.08017879400774887 = 3.5350863652052604 / True / True\n",
            "0.32699604808828076 / 0.03749399052869048 = 8.721292225165062 / True / True\n",
            "0.2805470384795112 / 0.052072625313177 = 5.387610799191233 / True / True\n",
            "0.441381923095355 / 0.03351170812771663 = 13.170976585651864 / True / True\n",
            "0.4009320632929334 / 0.015787747492504865 = 25.39514034432546 / True / True\n",
            "0.3721194834992583 / 0.06684167417080376 = 5.567177784152494 / True / True\n",
            "0.04621703716095789 / 0.2513287270272339 = 0.18389078601408673 / True / False\n",
            "0.01584029379174958 / 0.32834830550758204 = 0.04824234974279106 / True / False\n",
            "0.05002978915532818 / 0.38108320733946105 = 0.13128311138297594 / True / False\n",
            "0.041056448736059244 / 0.3353370553181294 = 0.12243337884955656 / True / False\n",
            "0.06571134172869081 / 0.3883498108912435 = 0.1692065758391553 / True / False\n",
            "0.1211454074487767 / 0.24395270419375065 = 0.496593828911039 / True / False\n",
            "0.03775996686993078 / 0.37324977675174675 = 0.10116541046197443 / True / False\n",
            "0.04173009450820821 / 0.2930074077029088 = 0.14241993004668305 / True / False\n",
            "Threshold: 0.01\n",
            "0.34023718811622855 / 0.04761523144052361 = 7.145553593312263 / True / True\n",
            "0.39834518256379886 / 0.013968657011137807 = 28.51707091427481 / True / True\n",
            "0.39141316929591796 / 0.03383581528883588 = 11.56801353697733 / True / True\n",
            "0.352920520776524 / 0.03423886907067571 = 10.30759865485122 / True / True\n",
            "0.27948928255451205 / 0.05858520068507192 = 4.770646499222945 / True / True\n",
            "0.34436761871498484 / 0.03902373505546452 = 8.824568387047893 / True / True\n",
            "0.38912315266445446 / 0.012230645082672596 = 31.815423473920696 / True / True\n",
            "0.3739240210896921 / 0.03566277710486725 = 10.48499448010343 / True / True\n",
            "0.05343277928541736 / 0.3042971175196306 = 0.17559410263546232 / True / False\n",
            "0.044717822105605196 / 0.32119258346287105 = 0.1392243296015409 / True / False\n",
            "0.02969343237964107 / 0.34146888156931704 = 0.08695794545955839 / True / False\n",
            "0.06194246109044249 / 0.314292061193379 = 0.19708566883695564 / True / False\n",
            "0.05162608547040551 / 0.39403381028360357 = 0.13101943062512308 / True / False\n",
            "0.13565478918806045 / 0.24287534431899746 = 0.5585366829573638 / True / False\n",
            "0.041825422435504245 / 0.32196114416561655 = 0.12990829233104378 / True / False\n",
            "0.04505022784692741 / 0.2625776758432494 = 0.1715691469286253 / True / False\n",
            "Threshold: 0.01584893192461114\n",
            "0.34764432674922496 / 0.055541393370301784 = 6.2591934709205885 / True / True\n",
            "0.36155837652458606 / 0.006532066182235114 = 55.351303314699365 / True / True\n",
            "0.283212326826319 / 0.06539699504730119 = 4.330662695150955 / True / True\n",
            "0.3654359106346988 / 0.03137080289228279 = 11.6489180047284 / True / True\n",
            "0.3694805674250469 / 0.023832011467461302 = 15.503541022104322 / True / True\n",
            "0.3596288750184296 / 0.03094610964480686 = 11.621133614085148 / True / True\n",
            "0.39174471932439536 / 0.012901225823858617 = 30.364922269628853 / True / True\n",
            "0.38157103443727797 / 0.04902569304156007 = 7.783082925799999 / True / True\n",
            "0.03632313912119701 / 0.27029605907050314 = 0.13438279213579876 / True / False\n",
            "0.03333820813987904 / 0.3062178727527971 = 0.10887087628223528 / True / False\n",
            "0.03769539748347069 / 0.31417395196800224 = 0.11998256776968533 / True / False\n",
            "0.03957911787588798 / 0.31035072388741486 = 0.1275302901830704 / True / False\n",
            "0.05684966369687206 / 0.4121285972616543 = 0.13794156502267435 / True / False\n",
            "0.11465712778475565 / 0.23511075198828096 = 0.4876728385032374 / True / False\n",
            "0.035410333589722426 / 0.36585696345286073 = 0.09678737082254528 / True / False\n",
            "0.0530135099519408 / 0.30403599815159715 = 0.17436589836150726 / True / False\n",
            "Threshold: 0.025118864315095808\n",
            "0.3063607257373735 / 0.05274821067581091 = 5.8079832815611185 / True / True\n",
            "0.3629481513278338 / 0.014036976633408372 = 25.85657587147418 / True / True\n",
            "0.2807670927112239 / 0.07062894849977633 = 3.975241012006756 / True / True\n",
            "0.37355927809810385 / 0.028082862980767582 = 13.302036845528685 / True / True\n",
            "0.2535400062701482 / 0.0397372857766915 = 6.380405740214544 / True / True\n",
            "0.3328245059563148 / 0.04080995828622949 = 8.155472829008497 / True / True\n",
            "0.38563033742474334 / 0.01220399561553841 = 31.59869517928619 / True / True\n",
            "0.3681945725632942 / 0.04732137399055431 = 7.780724470020428 / True / True\n",
            "0.04501176684867801 / 0.2529504501332068 = 0.17794697271728227 / True / False\n",
            "0.01986072765905943 / 0.3130476602555464 = 0.0634431435866563 / True / False\n",
            "0.05756814128711982 / 0.2957035412229657 = 0.19468194749724832 / True / False\n",
            "0.04538011221870993 / 0.34796969298368796 = 0.1304139789577515 / True / False\n",
            "0.04320985536826655 / 0.3941254209148731 = 0.10963478394254456 / True / False\n",
            "0.09123833579871943 / 0.3789891715653238 = 0.24074127348251503 / True / False\n",
            "0.041303358418261375 / 0.31762485419766195 = 0.1300381814344975 / True / False\n",
            "0.05772607103698962 / 0.3090769189452048 = 0.18676927165571908 / True / False\n",
            "Threshold: 0.039810717055349734\n",
            "0.4177588422784831 / 0.023614669354071246 = 17.6906496557175 / True / True\n",
            "0.3894108971454775 / 0.01613382722062479 = 24.13630019836034 / True / True\n",
            "0.41681590848717714 / 0.018353980368445603 = 22.70983732791675 / True / True\n",
            "0.3486287383727238 / 0.023377657143300697 = 14.912903215052491 / True / True\n",
            "0.37847815152137565 / 0.015191818520621176 = 24.913288096986832 / True / True\n",
            "0.3475127009478009 / 0.06222316591856972 = 5.5849408466709045 / True / True\n",
            "0.4079438564195947 / 0.012942756566579786 = 31.519085932047062 / True / True\n",
            "0.42827705158146634 / 0.05859485678217183 = 7.309123617685412 / True / True\n",
            "0.06508669832663674 / 0.2409635212107578 = 0.2701101726916952 / True / False\n",
            "0.033458693487469604 / 0.32785586374877534 = 0.10205305802646204 / True / False\n",
            "0.0676556221622465 / 0.29983799013438267 = 0.22564059388179702 / True / False\n",
            "0.05832874464336615 / 0.3013882153469921 = 0.19353359445793697 / True / False\n",
            "0.05916245613205174 / 0.3784670091127194 = 0.1563213033303817 / True / False\n",
            "0.1331152540423579 / 0.23111641375897096 = 0.575966249550681 / True / False\n",
            "0.033542943282905385 / 0.3210792252694797 = 0.10446936657067431 / True / False\n",
            "0.04782942631119577 / 0.26791478688126324 = 0.17852477225302693 / True / False\n",
            "Threshold: 0.06309573444801933\n",
            "0.3682701786680085 / 0.0516629493065129 = 7.128322784730806 / True / True\n",
            "0.380198930730288 / 0.006873591202126753 = 55.31299717280989 / True / True\n",
            "0.2753081395062799 / 0.08303589479366441 = 3.315531676877718 / True / True\n",
            "0.36059670285344736 / 0.027670887282312415 = 13.03162776005182 / True / True\n",
            "0.39679669204518087 / 0.030887775724711408 = 12.846399027940631 / True / True\n",
            "0.3387521008108116 / 0.050688392273636654 = 6.6830310770578265 / True / True\n",
            "0.38291291625457696 / 0.015286682291486324 = 25.04879142204939 / True / True\n",
            "0.36061246297264493 / 0.06569116433119845 = 5.489512427493702 / True / True\n",
            "0.05756164370241148 / 0.2547875122134687 = 0.22592019209396963 / True / False\n",
            "0.025853987308451443 / 0.3485971398395114 = 0.0741658044594233 / True / False\n",
            "0.040921248179880465 / 0.3141974018999925 = 0.13024056829376807 / True / False\n",
            "0.058242955317042724 / 0.30411580664026167 = 0.19151571225608233 / True / False\n",
            "0.04070774682563009 / 0.4046577866859095 = 0.10059795749643377 / True / False\n",
            "0.11836912401207383 / 0.24739059937366345 = 0.4784705817915371 / True / False\n",
            "0.044826987823224695 / 0.3873544370160893 = 0.11572602128567523 / True / False\n",
            "0.054515408850096286 / 0.3940640872879154 = 0.1383414794920544 / True / False\n",
            "Threshold: 0.1\n",
            "0.38633809891607146 / 0.054201279278499305 = 7.127840967202503 / True / True\n",
            "0.36977907300253204 / 0.01704270427895421 = 21.69720643801623 / True / True\n",
            "0.2797872906577778 / 0.07133175216915585 = 3.9223386801755726 / True / True\n",
            "0.3506528740846762 / 0.011458753813411092 = 30.60130968816864 / True / True\n",
            "0.27385015135037616 / 0.06379623242652695 = 4.292575610413433 / True / True\n",
            "0.380963184661857 / 0.042127140429355 = 9.043176934848265 / True / True\n",
            "0.4126473004085156 / 0.014364971648148995 = 28.725939077066503 / True / True\n",
            "0.3840628773156197 / 0.023683788401398086 = 16.216277176878847 / True / True\n",
            "0.04885087172633042 / 0.2996308444648498 = 0.16303685895081874 / True / False\n",
            "0.021362886396252983 / 0.33492556852646055 = 0.06378398188660601 / False / False\n",
            "0.06469597400723415 / 0.28664510086242107 = 0.22570060961302038 / True / False\n",
            "0.060515192395676605 / 0.3355486417015912 = 0.18034700450223767 / True / False\n",
            "0.039149870259870954 / 0.3660501232442214 = 0.10695221166132741 / True / False\n",
            "0.12180491053250107 / 0.23491290076657043 = 0.5185109465466814 / True / False\n",
            "0.031305863728408594 / 0.4170129380308762 = 0.07507168452910366 / False / False\n",
            "0.04837738226271393 / 0.4165245269034011 = 0.11614533872079386 / True / False\n",
            "Threshold: 0.15848931924611143\n",
            "0.3067384588371189 / 0.07574836180943575 = 4.049440166228247 / True / True\n",
            "0.35973930194550335 / 0.010482295496195022 = 34.318752230948405 / True / True\n",
            "0.27602429143449586 / 0.07984907331427277 = 3.4568252326249276 / True / True\n",
            "0.35716771165542643 / 0.02206116797723831 = 16.18988224122746 / True / True\n",
            "0.2581456334931234 / 0.03868370117252432 = 6.673240296780992 / True / True\n",
            "0.35717147520471065 / 0.050396356908559016 = 7.0872479106530575 / True / True\n",
            "0.3736149571318712 / 0.019543611807058478 = 19.116986195813322 / True / True\n",
            "0.3746219350455542 / 0.048461033771460355 = 7.730374403737469 / True / True\n",
            "0.04007005131279863 / 0.23426589940563458 = 0.1710451730894764 / True / False\n",
            "0.027095430459234463 / 0.3453780598078221 = 0.07845151042400061 / False / False\n",
            "0.049842487987825895 / 0.3133484386486907 = 0.15906410193958742 / True / False\n",
            "0.055309521340839024 / 0.3241420613931607 = 0.17063358301332143 / True / False\n",
            "0.05758749988402063 / 0.4424615606296715 = 0.13015254884981936 / False / False\n",
            "0.07056869338648852 / 0.3527770393295998 = 0.20003765982217497 / True / False\n",
            "0.02719070839094965 / 0.2691580792516079 = 0.1010213346244453 / False / False\n",
            "0.05204329138321511 / 0.2656381999199643 = 0.19591794929680875 / True / False\n",
            "Threshold: 0.25118864315095824\n",
            "0.3228257015391169 / 0.06595247693011336 = 4.894823008409519 / True / True\n",
            "0.40281601601974754 / 0.004525875389007817 = 89.0028958813324 / True / True\n",
            "0.29077913728901467 / 0.07007647044854937 = 4.149454666135144 / True / True\n",
            "0.3551441185426949 / 0.02817489961366944 = 12.604982570031654 / True / True\n",
            "0.2680838297457193 / 0.04107902840605135 = 6.526050886496329 / True / True\n",
            "0.33917279842311593 / 0.03521197404507172 = 9.632314223251754 / True / True\n",
            "0.425028804250439 / 0.0052390254533439115 = 81.12745548490435 / True / True\n",
            "0.4120308593805201 / 0.03214148963437849 = 12.819283240059058 / True / True\n",
            "0.05002412928741686 / 0.26009435362021577 = 0.1923307007289402 / False / False\n",
            "0.033133803356968354 / 0.3188235604310798 = 0.10392520337006556 / False / False\n",
            "0.04293976060956589 / 0.32430232354166866 = 0.13240657711183093 / False / False\n",
            "0.05504647621847701 / 0.33697858296315275 = 0.16335304082068658 / False / False\n",
            "0.026243412647898902 / 0.42583692886831487 = 0.06162784594009312 / False / False\n",
            "0.12394810189024777 / 0.39234862702942275 = 0.3159131786153867 / True / False\n",
            "0.03245158762575827 / 0.3359155703669105 = 0.09660638115200308 / False / False\n",
            "0.054886749448892706 / 0.29903804006911094 = 0.18354437260292297 / False / False\n",
            "Threshold: 0.3981071705534973\n",
            "0.29549434114437045 / 0.0631297979472124 = 4.680742703967716 / True / True\n",
            "0.4191524661613646 / 0.013137558614609792 = 31.90489789291906 / True / True\n",
            "0.29682039259664295 / 0.06433749057923717 = 4.613490360353471 / True / True\n",
            "0.35324653406204004 / 0.03829984954417578 = 9.223183335344405 / True / True\n",
            "0.27301223022503157 / 0.0477871732661676 = 5.713085992854049 / True / True\n",
            "0.39799133960359095 / 0.032238793724754966 = 12.345106426795004 / True / True\n",
            "0.38401266656466126 / 0.010960770511105222 = 35.03518901117287 / True / True\n",
            "0.3678642882618462 / 0.061067542026458144 = 6.023892170123127 / True / True\n",
            "0.05767887871693636 / 0.26362241768002864 = 0.2187935275934842 / False / False\n",
            "0.02049260863048041 / 0.3716495649640065 = 0.055139600748530616 / False / False\n",
            "0.05873113575661431 / 0.31814024682984565 = 0.18460768903604363 / False / False\n",
            "0.04133944613775345 / 0.3134238395303651 = 0.13189630437715444 / False / False\n",
            "0.055597809468909964 / 0.3593169846847292 = 0.15473192706905414 / False / False\n",
            "0.13312365247457508 / 0.25009759192437514 = 0.5322868223170625 / True / False\n",
            "0.044345776670643544 / 0.3022021224145104 = 0.14674210861370926 / False / False\n",
            "0.047551529123446956 / 0.365279110150658 = 0.13017861630202315 / False / False\n",
            "Threshold: 0.6309573444801936\n",
            "0.34976135753021415 / 0.05816631899543633 = 6.013125182593316 / True / True\n",
            "0.41036683869935714 / 0.011132969880845509 = 36.86050021615537 / True / True\n",
            "0.2929336326639386 / 0.0529414063871223 = 5.533166809395397 / True / True\n",
            "0.36408877098795245 / 0.03738592513215009 = 9.738658858941909 / True / True\n",
            "0.26547988434307673 / 0.044291248050116916 = 5.9939580849624745 / True / True\n",
            "0.38305898419544976 / 0.040659891428044895 = 9.421052805154254 / True / True\n",
            "0.38956408798163733 / 0.019464637964824293 = 20.013939570088166 / True / True\n",
            "0.35998544633470964 / 0.05100811837051526 = 7.057414737784087 / True / True\n",
            "0.03794463767427284 / 0.2530783269683296 = 0.14993238705510037 / False / False\n",
            "0.025260941612988863 / 0.2997817651621574 = 0.08426443682898713 / False / False\n",
            "0.05407777487408434 / 0.320393029795012 = 0.16878574077807934 / False / False\n",
            "0.05975001876347017 / 0.3423992471612527 = 0.17450394315654247 / False / False\n",
            "0.05221120701131366 / 0.41825664843161126 = 0.12483054891559163 / False / False\n",
            "0.08373801307647047 / 0.33300356371046846 = 0.25146281362104844 / False / False\n",
            "0.06520312303737029 / 0.29536036182718456 = 0.2207578655240159 / False / False\n",
            "0.048158836274448336 / 0.32097657263543583 = 0.15003847750953148 / False / False\n",
            "Threshold: 1.0\n",
            "0.31551209132616087 / 0.07080951499056334 = 4.455786646303235 / True / True\n",
            "0.3801748407619227 / 0.0118238391717702 = 32.15324863937616 / True / True\n",
            "0.29310936116400127 / 0.06297663327297066 = 4.654255807761682 / True / True\n",
            "0.35515203723671296 / 0.017090261008566126 = 20.780960399534017 / True / True\n",
            "0.25547286535451136 / 0.050362335034877914 = 5.072696990272319 / True / True\n",
            "0.3228472949938738 / 0.0456856503627243 = 7.066711153953286 / True / True\n",
            "0.42509723064645893 / 0.014641243242895143 = 29.034230467603425 / True / True\n",
            "0.4217346115954149 / 0.018300853029719434 = 23.0445330013057 / True / True\n",
            "0.033966400656186294 / 0.24666740850848692 = 0.13770121015001313 / False / False\n",
            "0.03707544621839656 / 0.31371895028046753 = 0.11818044840852229 / False / False\n",
            "0.06450854531140623 / 0.34563770005861566 = 0.18663631108662748 / False / False\n",
            "0.0714111069687161 / 0.30292578797745306 = 0.2357379589420471 / False / False\n",
            "0.042804610606793934 / 0.3774500068695643 = 0.1134047154000608 / False / False\n",
            "0.12142950643443151 / 0.2735536987712206 = 0.44389641587696416 / False / False\n",
            "0.04044235975511782 / 0.3166263441923091 = 0.1277289792745558 / False / False\n",
            "0.04030232747981165 / 0.28107168585046166 = 0.1433880732520801 / False / False\n",
            "Threshold: 1.584893192461114\n",
            "0.32113532904024383 / 0.05123315664145046 = 6.26811522248519 / True / True\n",
            "0.39398254163896657 / 0.007346326331341389 = 53.62987211147045 / True / True\n",
            "0.29777416400472734 / 0.06959676017031778 = 4.278563589397148 / True / True\n",
            "0.35428526904706753 / 0.03295735835121159 = 10.749807835676952 / True / True\n",
            "0.35395010503071395 / 0.011312076702155822 = 31.28957788654838 / True / True\n",
            "0.37613750692713455 / 0.02187862794279103 = 17.19200618570193 / True / True\n",
            "0.39951869091175735 / 0.014143061467999795 = 28.24838821606705 / True / True\n",
            "0.43899467671049575 / 0.046749075699674424 = 9.390446124126322 / True / True\n",
            "0.045695294552640105 / 0.2577697150230351 = 0.17727177356174922 / False / False\n",
            "0.03783625048937739 / 0.34806030627219026 = 0.10870601963956404 / False / False\n",
            "0.04835366738476396 / 0.3896439736640527 = 0.12409704923719424 / False / False\n",
            "0.06380405799604445 / 0.3008943928988605 = 0.2120480125313963 / False / False\n",
            "0.045895672627588126 / 0.3679954394269327 = 0.12471804731890146 / False / False\n",
            "0.0921827312871185 / 0.24884153087965555 = 0.37044753326043395 / False / False\n",
            "0.03773735052642201 / 0.27263797862701544 = 0.13841560415193987 / False / False\n",
            "0.03488574566272485 / 0.24983500634721995 = 0.13963513829699567 / False / False\n",
            "Threshold: 2.5118864315095824\n",
            "0.3885667038417669 / 0.01783389245246107 = 21.788104020339365 / True / True\n",
            "0.37456061159345555 / 0.01716920912837535 = 21.81583372844027 / True / True\n",
            "0.41515401225420123 / 0.020115466778050116 = 20.638547284779637 / True / True\n",
            "0.338293393586954 / 0.02053006777197067 = 16.477948214511976 / True / True\n",
            "0.26832949996297434 / 0.03848274731330366 = 6.972722029911092 / True / True\n",
            "0.3823547989547169 / 0.038779773717402787 = 9.859644920597658 / True / True\n",
            "0.3785938229176277 / 0.008356622089522928 = 45.304648081703704 / True / True\n",
            "0.3801348933616484 / 0.059462240076389186 = 6.392878789519225 / True / True\n",
            "0.03761144766640534 / 0.27492769874188694 = 0.13680486847458925 / False / False\n",
            "0.04257814339856645 / 0.32951623695313964 = 0.12921409819517168 / False / False\n",
            "0.061492030806978175 / 0.31947457628845777 = 0.19247863639533 / False / False\n",
            "0.03358821861832906 / 0.3557791249244373 = 0.09440750247913714 / False / False\n",
            "0.043668875776032935 / 0.37723589213463493 = 0.11576012963381432 / False / False\n",
            "0.11977071836403644 / 0.23281989245349086 = 0.5144350729736823 / False / False\n",
            "0.03579460268355789 / 0.27454195533442816 = 0.13037935363997596 / False / False\n",
            "0.05592645791525367 / 0.2670636612423899 = 0.20941245864406166 / False / False\n",
            "Threshold: 3.981071705534973\n",
            "0.33355885957197096 / 0.04443978480230062 = 7.50586126948803 / True / True\n",
            "0.4130804737398929 / 0.008501503288270141 = 48.58910944724756 / True / True\n",
            "0.28808693422427706 / 0.05765940921055857 = 4.996355983673913 / True / True\n",
            "0.3518311082696911 / 0.021278631064609477 = 16.534480399674536 / True / True\n",
            "0.2756307553842855 / 0.04362106753445646 = 6.318753092563901 / True / True\n",
            "0.34921101966243867 / 0.03367305903194045 = 10.370635448688994 / True / True\n",
            "0.3959930977236163 / 0.0039828521220056845 = 99.4245042480267 / True / True\n",
            "0.4386065131200351 / 0.007246775184044578 = 60.524371459145996 / True / True\n",
            "0.06208731211325408 / 0.30798146657399444 = 0.20159431281342124 / False / False\n",
            "0.03436432298554631 / 0.3670167504047737 = 0.09363148397899208 / False / False\n",
            "0.028759853517624303 / 0.31571759739938604 = 0.0910936031267297 / False / False\n",
            "0.0817140978539757 / 0.3139918878067793 = 0.2602427037995962 / False / False\n",
            "0.05511875460529315 / 0.35547046362297 = 0.15505860611742664 / False / False\n",
            "0.11788727086942585 / 0.3200514752979465 = 0.3683384704278607 / False / False\n",
            "0.051477733766852864 / 0.36294077023078236 = 0.14183508161433567 / False / False\n",
            "0.0358939626168997 / 0.381076771541643 = 0.09419089615903631 / False / False\n",
            "Threshold: 6.309573444801936\n",
            "0.30572412624687906 / 0.06108536521662504 = 5.004866962204442 / False / True\n",
            "0.3987579383583529 / 0.007314828365415474 = 54.51364248595105 / True / True\n",
            "0.2830572614621682 / 0.07155718977050463 = 3.9556788405187264 / False / True\n",
            "0.34408416254126273 / 0.031298292824775316 = 10.993703856872674 / True / True\n",
            "0.2650681117318304 / 0.032820835652439824 = 8.076214589378559 / True / True\n",
            "0.3150815370047378 / 0.03943553806855813 = 7.989786685729327 / True / True\n",
            "0.3783716854461432 / 0.017259327480026673 = 21.922736322374853 / True / True\n",
            "0.45284788382669955 / 0.019536594320584275 = 23.179469072025874 / True / True\n",
            "0.052625087965769125 / 0.24582478565696927 = 0.21407559789029423 / False / False\n",
            "0.041878940173042195 / 0.3757657773765515 = 0.11144958560469355 / False / False\n",
            "0.09251189760457876 / 0.33675791895112883 = 0.274713354604155 / False / False\n",
            "0.043503831601953764 / 0.3263844863989606 = 0.1332901330021435 / False / False\n",
            "0.07168620278779249 / 0.37132198168581676 = 0.1930567171443345 / False / False\n",
            "0.09306460751632041 / 0.34483224649828365 = 0.2698837143607555 / False / False\n",
            "0.03539100955054344 / 0.3343428291348831 = 0.10585245582242091 / False / False\n",
            "0.03323992346014043 / 0.24175685168478966 = 0.13749320124121944 / False / False\n",
            "Threshold: 10.0\n",
            "0.3210333842014526 / 0.054441731956648066 = 5.896825333497682 / False / True\n",
            "0.41623149302784623 / 0.010483989155125474 = 39.701633306665194 / True / True\n",
            "0.2846373343447595 / 0.07373843470421514 = 3.8600946099075344 / False / True\n",
            "0.36249626270365515 / 0.022881362043270837 = 15.842425027764525 / True / True\n",
            "0.34601192384012197 / 0.029204776887735633 = 11.847785215761315 / True / True\n",
            "0.3916219093014097 / 0.038579663814013294 = 10.150993310604248 / True / True\n",
            "0.402819714727307 / 0.021969544224657998 = 18.335369664846915 / True / True\n",
            "0.3916474854725465 / 0.05687462911698366 = 6.886154539434076 / False / True\n",
            "0.044413229420549455 / 0.24097506573343405 = 0.18430632765001193 / False / False\n",
            "0.04795518368425497 / 0.3255082941885679 = 0.14732399923571346 / False / False\n",
            "0.03238478636521812 / 0.33090532636327813 = 0.09786722601637755 / False / False\n",
            "0.058696049848161874 / 0.3261003650126903 = 0.1799938183015456 / False / False\n",
            "0.0373267327346226 / 0.4005714142583298 = 0.09318371557724403 / False / False\n",
            "0.11484587161706415 / 0.2514578478172485 = 0.4567201724423031 / False / False\n",
            "0.06648232033825656 / 0.3030925011619595 = 0.21934663537825796 / False / False\n",
            "0.045188398968237606 / 0.26745131168451636 = 0.16895934696907194 / False / False\n",
            "Threshold: 15.848931924611133\n",
            "0.3004846472972144 / 0.08615066866457081 = 3.487896866676181 / False / True\n",
            "0.3956349938071639 / 0.009183032844297428 = 43.083260238239184 / True / True\n",
            "0.28506428006431195 / 0.0709237481037671 = 4.019306476121935 / False / True\n",
            "0.36502594364624746 / 0.054251532531889295 = 6.728398749504147 / False / True\n",
            "0.29585376222710696 / 0.04011148764844087 = 7.375786328847536 / False / True\n",
            "0.37479982770004555 / 0.057367624535200314 = 6.5332987157254765 / False / True\n",
            "0.4513817378547735 / 0.005602689935741291 = 80.56518262330918 / True / True\n",
            "0.37457902682893796 / 0.05432589651071088 = 6.895036269766593 / False / True\n",
            "0.04746602420325247 / 0.2404604458005924 = 0.1973963910996606 / False / False\n",
            "0.02667045375084576 / 0.2950167640985951 = 0.09040318041700318 / False / False\n",
            "0.0697704155319941 / 0.2897555936455424 = 0.24079057337317242 / False / False\n",
            "0.04097550220808311 / 0.32177859337666803 = 0.1273406716652464 / False / False\n",
            "0.049826887331620995 / 0.36772855832774237 = 0.13549909628507067 / False / False\n",
            "0.12914513284511558 / 0.24570277502302942 = 0.5256152798152604 / False / False\n",
            "0.03720773520989842 / 0.29635229688720427 = 0.125552376683823 / False / False\n",
            "0.05621161998883738 / 0.29966750514188906 = 0.18757996454177384 / False / False\n"
          ]
        }
      ]
    },
    {
      "cell_type": "code",
      "source": [
        "print(tprs)\n",
        "print(fprs)"
      ],
      "metadata": {
        "id": "xRWx14xAg2TZ",
        "colab": {
          "base_uri": "https://localhost:8080/"
        },
        "outputId": "8c3b59a0-7590-4639-c6a9-7daa6f5ca60e"
      },
      "execution_count": 62,
      "outputs": [
        {
          "output_type": "stream",
          "name": "stdout",
          "text": [
            "[1.0, 1.0, 1.0, 1.0, 1.0, 1.0, 1.0, 1.0, 1.0, 1.0, 1.0, 1.0, 1.0, 1.0, 1.0, 1.0, 1.0, 1.0, 1.0, 0.75, 0.625, 0.25]\n",
            "[1.0, 1.0, 1.0, 1.0, 1.0, 1.0, 1.0, 1.0, 1.0, 1.0, 0.75, 0.625, 0.125, 0.125, 0.0, 0.0, 0.0, 0.0, 0.0, 0.0, 0.0, 0.0]\n"
          ]
        }
      ]
    },
    {
      "cell_type": "code",
      "source": [
        "plt.plot(fprs, tprs)\n",
        "plt.show()"
      ],
      "metadata": {
        "id": "Q3A7Q7m9uQQp",
        "colab": {
          "base_uri": "https://localhost:8080/",
          "height": 430
        },
        "outputId": "68865237-66ea-4d11-9de1-4d24be0d7712"
      },
      "execution_count": 64,
      "outputs": [
        {
          "output_type": "display_data",
          "data": {
            "text/plain": [
              "<Figure size 640x480 with 1 Axes>"
            ],
            "image/png": "[encoded data removed]"
          },
          "metadata": {}
        }
      ]
    },
    {
      "cell_type": "code",
      "source": [],
      "metadata": {
        "id": "6V5_WgxjOw-I"
      },
      "execution_count": null,
      "outputs": []
    }
  ]
}