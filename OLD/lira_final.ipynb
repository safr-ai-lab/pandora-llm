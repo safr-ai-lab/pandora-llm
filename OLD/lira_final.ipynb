{
  "cells": [
    {
      "cell_type": "code",
      "execution_count": 9,
      "metadata": {
        "colab": {
          "base_uri": "https://localhost:8080/"
        },
        "id": "lVgLU6N-H1YA",
        "outputId": "4c80d430-90e8-4a88-ff95-a57c371f301b"
      },
      "outputs": [
        {
          "name": "stdout",
          "output_type": "stream",
          "text": [
            "Looking in indexes: https://pypi.org/simple, https://us-python.pkg.dev/colab-wheels/public/simple/\n",
            "Requirement already satisfied: datasets in /usr/local/lib/python3.10/dist-packages (2.12.0)\n",
            "Requirement already satisfied: fsspec[http]>=2021.11.1 in /usr/local/lib/python3.10/dist-packages (from datasets) (2023.4.0)\n",
            "Requirement already satisfied: pyyaml>=5.1 in /usr/local/lib/python3.10/dist-packages (from datasets) (6.0)\n",
            "Requirement already satisfied: multiprocess in /usr/local/lib/python3.10/dist-packages (from datasets) (0.70.14)\n",
            "Requirement already satisfied: numpy>=1.17 in /usr/local/lib/python3.10/dist-packages (from datasets) (1.22.4)\n",
            "Requirement already satisfied: tqdm>=4.62.1 in /usr/local/lib/python3.10/dist-packages (from datasets) (4.65.0)\n",
            "Requirement already satisfied: pyarrow>=8.0.0 in /usr/local/lib/python3.10/dist-packages (from datasets) (9.0.0)\n",
            "Requirement already satisfied: requests>=2.19.0 in /usr/local/lib/python3.10/dist-packages (from datasets) (2.27.1)\n",
            "Requirement already satisfied: packaging in /usr/local/lib/python3.10/dist-packages (from datasets) (23.1)\n",
            "Requirement already satisfied: huggingface-hub<1.0.0,>=0.11.0 in /usr/local/lib/python3.10/dist-packages (from datasets) (0.14.1)\n",
            "Requirement already satisfied: xxhash in /usr/local/lib/python3.10/dist-packages (from datasets) (3.2.0)\n",
            "Requirement already satisfied: dill<0.3.7,>=0.3.0 in /usr/local/lib/python3.10/dist-packages (from datasets) (0.3.6)\n",
            "Requirement already satisfied: pandas in /usr/local/lib/python3.10/dist-packages (from datasets) (1.5.3)\n",
            "Requirement already satisfied: aiohttp in /usr/local/lib/python3.10/dist-packages (from datasets) (3.8.4)\n",
            "Requirement already satisfied: responses<0.19 in /usr/local/lib/python3.10/dist-packages (from datasets) (0.18.0)\n",
            "Requirement already satisfied: aiosignal>=1.1.2 in /usr/local/lib/python3.10/dist-packages (from aiohttp->datasets) (1.3.1)\n",
            "Requirement already satisfied: async-timeout<5.0,>=4.0.0a3 in /usr/local/lib/python3.10/dist-packages (from aiohttp->datasets) (4.0.2)\n",
            "Requirement already satisfied: attrs>=17.3.0 in /usr/local/lib/python3.10/dist-packages (from aiohttp->datasets) (23.1.0)\n",
            "Requirement already satisfied: multidict<7.0,>=4.5 in /usr/local/lib/python3.10/dist-packages (from aiohttp->datasets) (6.0.4)\n",
            "Requirement already satisfied: yarl<2.0,>=1.0 in /usr/local/lib/python3.10/dist-packages (from aiohttp->datasets) (1.9.2)\n",
            "Requirement already satisfied: charset-normalizer<4.0,>=2.0 in /usr/local/lib/python3.10/dist-packages (from aiohttp->datasets) (2.0.12)\n",
            "Requirement already satisfied: frozenlist>=1.1.1 in /usr/local/lib/python3.10/dist-packages (from aiohttp->datasets) (1.3.3)\n",
            "Requirement already satisfied: filelock in /usr/local/lib/python3.10/dist-packages (from huggingface-hub<1.0.0,>=0.11.0->datasets) (3.12.0)\n",
            "Requirement already satisfied: typing-extensions>=3.7.4.3 in /usr/local/lib/python3.10/dist-packages (from huggingface-hub<1.0.0,>=0.11.0->datasets) (4.5.0)\n",
            "Requirement already satisfied: idna<4,>=2.5 in /usr/local/lib/python3.10/dist-packages (from requests>=2.19.0->datasets) (3.4)\n",
            "Requirement already satisfied: certifi>=2017.4.17 in /usr/local/lib/python3.10/dist-packages (from requests>=2.19.0->datasets) (2022.12.7)\n",
            "Requirement already satisfied: urllib3<1.27,>=1.21.1 in /usr/local/lib/python3.10/dist-packages (from requests>=2.19.0->datasets) (1.26.15)\n",
            "Requirement already satisfied: pytz>=2020.1 in /usr/local/lib/python3.10/dist-packages (from pandas->datasets) (2022.7.1)\n",
            "Requirement already satisfied: python-dateutil>=2.8.1 in /usr/local/lib/python3.10/dist-packages (from pandas->datasets) (2.8.2)\n",
            "Requirement already satisfied: six>=1.5 in /usr/local/lib/python3.10/dist-packages (from python-dateutil>=2.8.1->pandas->datasets) (1.16.0)\n",
            "Looking in indexes: https://pypi.org/simple, https://us-python.pkg.dev/colab-wheels/public/simple/\n",
            "Requirement already satisfied: transformers in /usr/local/lib/python3.10/dist-packages (4.28.1)\n",
            "Requirement already satisfied: filelock in /usr/local/lib/python3.10/dist-packages (from transformers) (3.12.0)\n",
            "Requirement already satisfied: tokenizers!=0.11.3,<0.14,>=0.11.1 in /usr/local/lib/python3.10/dist-packages (from transformers) (0.13.3)\n",
            "Requirement already satisfied: huggingface-hub<1.0,>=0.11.0 in /usr/local/lib/python3.10/dist-packages (from transformers) (0.14.1)\n",
            "Requirement already satisfied: pyyaml>=5.1 in /usr/local/lib/python3.10/dist-packages (from transformers) (6.0)\n",
            "Requirement already satisfied: packaging>=20.0 in /usr/local/lib/python3.10/dist-packages (from transformers) (23.1)\n",
            "Requirement already satisfied: regex!=2019.12.17 in /usr/local/lib/python3.10/dist-packages (from transformers) (2022.10.31)\n",
            "Requirement already satisfied: numpy>=1.17 in /usr/local/lib/python3.10/dist-packages (from transformers) (1.22.4)\n",
            "Requirement already satisfied: requests in /usr/local/lib/python3.10/dist-packages (from transformers) (2.27.1)\n",
            "Requirement already satisfied: tqdm>=4.27 in /usr/local/lib/python3.10/dist-packages (from transformers) (4.65.0)\n",
            "Requirement already satisfied: typing-extensions>=3.7.4.3 in /usr/local/lib/python3.10/dist-packages (from huggingface-hub<1.0,>=0.11.0->transformers) (4.5.0)\n",
            "Requirement already satisfied: fsspec in /usr/local/lib/python3.10/dist-packages (from huggingface-hub<1.0,>=0.11.0->transformers) (2023.4.0)\n",
            "Requirement already satisfied: urllib3<1.27,>=1.21.1 in /usr/local/lib/python3.10/dist-packages (from requests->transformers) (1.26.15)\n",
            "Requirement already satisfied: idna<4,>=2.5 in /usr/local/lib/python3.10/dist-packages (from requests->transformers) (3.4)\n",
            "Requirement already satisfied: certifi>=2017.4.17 in /usr/local/lib/python3.10/dist-packages (from requests->transformers) (2022.12.7)\n",
            "Requirement already satisfied: charset-normalizer~=2.0.0 in /usr/local/lib/python3.10/dist-packages (from requests->transformers) (2.0.12)\n",
            "Looking in indexes: https://pypi.org/simple, https://us-python.pkg.dev/colab-wheels/public/simple/\n",
            "Requirement already satisfied: evaluate in /usr/local/lib/python3.10/dist-packages (0.4.0)\n",
            "Requirement already satisfied: datasets>=2.0.0 in /usr/local/lib/python3.10/dist-packages (from evaluate) (2.12.0)\n",
            "Requirement already satisfied: requests>=2.19.0 in /usr/local/lib/python3.10/dist-packages (from evaluate) (2.27.1)\n",
            "Requirement already satisfied: responses<0.19 in /usr/local/lib/python3.10/dist-packages (from evaluate) (0.18.0)\n",
            "Requirement already satisfied: huggingface-hub>=0.7.0 in /usr/local/lib/python3.10/dist-packages (from evaluate) (0.14.1)\n",
            "Requirement already satisfied: multiprocess in /usr/local/lib/python3.10/dist-packages (from evaluate) (0.70.14)\n",
            "Requirement already satisfied: dill in /usr/local/lib/python3.10/dist-packages (from evaluate) (0.3.6)\n",
            "Requirement already satisfied: pandas in /usr/local/lib/python3.10/dist-packages (from evaluate) (1.5.3)\n",
            "Requirement already satisfied: fsspec[http]>=2021.05.0 in /usr/local/lib/python3.10/dist-packages (from evaluate) (2023.4.0)\n",
            "Requirement already satisfied: numpy>=1.17 in /usr/local/lib/python3.10/dist-packages (from evaluate) (1.22.4)\n",
            "Requirement already satisfied: xxhash in /usr/local/lib/python3.10/dist-packages (from evaluate) (3.2.0)\n",
            "Requirement already satisfied: packaging in /usr/local/lib/python3.10/dist-packages (from evaluate) (23.1)\n",
            "Requirement already satisfied: tqdm>=4.62.1 in /usr/local/lib/python3.10/dist-packages (from evaluate) (4.65.0)\n",
            "Requirement already satisfied: aiohttp in /usr/local/lib/python3.10/dist-packages (from datasets>=2.0.0->evaluate) (3.8.4)\n",
            "Requirement already satisfied: pyyaml>=5.1 in /usr/local/lib/python3.10/dist-packages (from datasets>=2.0.0->evaluate) (6.0)\n",
            "Requirement already satisfied: pyarrow>=8.0.0 in /usr/local/lib/python3.10/dist-packages (from datasets>=2.0.0->evaluate) (9.0.0)\n",
            "Requirement already satisfied: filelock in /usr/local/lib/python3.10/dist-packages (from huggingface-hub>=0.7.0->evaluate) (3.12.0)\n",
            "Requirement already satisfied: typing-extensions>=3.7.4.3 in /usr/local/lib/python3.10/dist-packages (from huggingface-hub>=0.7.0->evaluate) (4.5.0)\n",
            "Requirement already satisfied: certifi>=2017.4.17 in /usr/local/lib/python3.10/dist-packages (from requests>=2.19.0->evaluate) (2022.12.7)\n",
            "Requirement already satisfied: urllib3<1.27,>=1.21.1 in /usr/local/lib/python3.10/dist-packages (from requests>=2.19.0->evaluate) (1.26.15)\n",
            "Requirement already satisfied: charset-normalizer~=2.0.0 in /usr/local/lib/python3.10/dist-packages (from requests>=2.19.0->evaluate) (2.0.12)\n",
            "Requirement already satisfied: idna<4,>=2.5 in /usr/local/lib/python3.10/dist-packages (from requests>=2.19.0->evaluate) (3.4)\n",
            "Requirement already satisfied: pytz>=2020.1 in /usr/local/lib/python3.10/dist-packages (from pandas->evaluate) (2022.7.1)\n",
            "Requirement already satisfied: python-dateutil>=2.8.1 in /usr/local/lib/python3.10/dist-packages (from pandas->evaluate) (2.8.2)\n",
            "Requirement already satisfied: async-timeout<5.0,>=4.0.0a3 in /usr/local/lib/python3.10/dist-packages (from aiohttp->datasets>=2.0.0->evaluate) (4.0.2)\n",
            "Requirement already satisfied: attrs>=17.3.0 in /usr/local/lib/python3.10/dist-packages (from aiohttp->datasets>=2.0.0->evaluate) (23.1.0)\n",
            "Requirement already satisfied: yarl<2.0,>=1.0 in /usr/local/lib/python3.10/dist-packages (from aiohttp->datasets>=2.0.0->evaluate) (1.9.2)\n",
            "Requirement already satisfied: aiosignal>=1.1.2 in /usr/local/lib/python3.10/dist-packages (from aiohttp->datasets>=2.0.0->evaluate) (1.3.1)\n",
            "Requirement already satisfied: multidict<7.0,>=4.5 in /usr/local/lib/python3.10/dist-packages (from aiohttp->datasets>=2.0.0->evaluate) (6.0.4)\n",
            "Requirement already satisfied: frozenlist>=1.1.1 in /usr/local/lib/python3.10/dist-packages (from aiohttp->datasets>=2.0.0->evaluate) (1.3.3)\n",
            "Requirement already satisfied: six>=1.5 in /usr/local/lib/python3.10/dist-packages (from python-dateutil>=2.8.1->pandas->evaluate) (1.16.0)\n",
            "Looking in indexes: https://pypi.org/simple, https://us-python.pkg.dev/colab-wheels/public/simple/\n",
            "Collecting zstandard\n",
            "  Downloading zstandard-0.21.0-cp310-cp310-manylinux_2_17_x86_64.manylinux2014_x86_64.whl (2.7 MB)\n",
            "\u001b[2K     \u001b[90m━━━━━━━━━━━━━━━━━━━━━━━━━━━━━━━━━━━━━━━━\u001b[0m \u001b[32m2.7/2.7 MB\u001b[0m \u001b[31m73.9 MB/s\u001b[0m eta \u001b[36m0:00:00\u001b[0m\n",
            "\u001b[?25hInstalling collected packages: zstandard\n",
            "Successfully installed zstandard-0.21.0\n"
          ]
        }
      ],
      "source": [
        "!pip install datasets\n",
        "!pip install transformers\n",
        "!pip install evaluate\n",
        "!pip install zstandard"
      ]
    },
    {
      "cell_type": "code",
      "execution_count": 10,
      "metadata": {
        "id": "PCFWPA5vHvHg"
      },
      "outputs": [],
      "source": [
        "import torch\n",
        "import copy\n",
        "from torch.utils.data import DataLoader\n",
        "import json\n",
        "from datasets import load_dataset\n",
        "from evaluate import load as load_metric\n",
        "from transformers import GPTNeoXForCausalLM, AutoTokenizer\n",
        "from transformers import Trainer, TrainingArguments, EarlyStoppingCallback\n",
        "from transformers.optimization import AdamW\n",
        "import numpy as np\n",
        "import matplotlib.pyplot as plt\n",
        "import sklearn\n",
        "import random\n",
        "import time\n",
        "import os\n",
        "import sys\n",
        "import pickle\n",
        "from common_code import *"
      ]
    },
    {
      "cell_type": "code",
      "execution_count": 11,
      "metadata": {
        "id": "F14MTyJKHwKp"
      },
      "outputs": [],
      "source": [
        "# Hyperparameters\n",
        "epochs = 1 # epochs to train (unless validation loss rises)\n",
        "bs = 1\n",
        "learn = 5e-5\n",
        "early_stop_patience = 1 # >= 1 (if val loss increases, runs early_stop_patience more epochs, then stops)\n",
        "mod_size = \"70m\"\n",
        "N=12\n",
        "\n",
        "model_title = f\"pythia-{mod_size}-deduped\"\n",
        "model_name = \"EleutherAI/\" + model_title\n",
        "model_revision = \"step143000\"\n",
        "model_cache_dir = \"./\"+ model_title +\"/\"+model_revision\n",
        "\n",
        "device = \"cuda\" if torch.cuda.is_available() else \"cpu\"\n",
        "\n",
        "tokenizer = AutoTokenizer.from_pretrained(\n",
        "  model_name,\n",
        "  revision=model_revision,\n",
        "  cache_dir=model_cache_dir,\n",
        ")"
      ]
    },
    {
      "cell_type": "code",
      "execution_count": 12,
      "metadata": {
        "colab": {
          "base_uri": "https://localhost:8080/",
          "height": 140,
          "referenced_widgets": [
            "1a440e9880fb41b3bf1ff96034161337",
            "4b70600db93c4e869b3e07677c5d892d",
            "7194bc7fbfc84dbca3a3afbd278a83e6",
            "6309a34c4b1644e091ab5d03b61f4bef",
            "2f0e504e927d4259849037e5f0dc0abf",
            "64d69cf98c02495ea4ae37ed70658c75",
            "c45bca8d470f4f5089b2fea286550502",
            "8f46dc969cc54b3baa79892941e223b4",
            "cd47b96dcc6546d2a204895853b8b120",
            "68231997b8174da6be756aed71e2f32c",
            "4b2c017bb64b44e08dbd96d5f888f9e7",
            "4154050870154b73944b0fe6a694ca78",
            "219474fa28314d558c058f0a21d060d6",
            "b38f1c0b464340de842b6da52e6780be",
            "a7bcd428d2de43e888ba0ff652263cbb",
            "2db511eef807486fbfa729e014e0a5ec",
            "a1727b5cbed04cf6b25cf08f57a40a79",
            "602de73ad1d4435d8942e4d44626c0e9",
            "5aebe37619ae48c991ff07381fa34899",
            "22e005f8266248059b7e4c51b3328fc4",
            "bcadf0be031a474ea38b67ae13d26cca",
            "2995d6679a47426ea08b1b7d7fc312ce"
          ]
        },
        "id": "fFkVNlGhHya5",
        "outputId": "607638c0-1b00-4d47-af3a-914a1c226d0b"
      },
      "outputs": [
        {
          "name": "stderr",
          "output_type": "stream",
          "text": [
            "WARNING:datasets.builder:No config specified, defaulting to: the_pile_val/all\n"
          ]
        },
        {
          "name": "stdout",
          "output_type": "stream",
          "text": [
            "Downloading and preparing dataset the_pile_val/all to /root/.cache/huggingface/datasets/the_pile_val/all/0.0.0/33c9237089c5fb09f83b2ab7ac73d703de97fc4d122e4b82a7777d85b0919e30...\n"
          ]
        },
        {
          "data": {
            "application/vnd.jupyter.widget-view+json": {
              "model_id": "1a440e9880fb41b3bf1ff96034161337",
              "version_major": 2,
              "version_minor": 0
            },
            "text/plain": [
              "Downloading data files:   0%|          | 0/1 [00:00<?, ?it/s]"
            ]
          },
          "metadata": {},
          "output_type": "display_data"
        },
        {
          "data": {
            "application/vnd.jupyter.widget-view+json": {
              "model_id": "4154050870154b73944b0fe6a694ca78",
              "version_major": 2,
              "version_minor": 0
            },
            "text/plain": [
              "Generating validation split: 0 examples [00:00, ? examples/s]"
            ]
          },
          "metadata": {},
          "output_type": "display_data"
        },
        {
          "name": "stdout",
          "output_type": "stream",
          "text": [
            "Dataset the_pile_val downloaded and prepared to /root/.cache/huggingface/datasets/the_pile_val/all/0.0.0/33c9237089c5fb09f83b2ab7ac73d703de97fc4d122e4b82a7777d85b0919e30. Subsequent calls will reuse this data.\n",
            "2678\n"
          ]
        }
      ],
      "source": [
        "dataset = list(dict.fromkeys(entry[\"text\"] for entry in load_dataset(\"the_pile_val.py\", split=\"validation\").shuffle(seed=229)))\n",
        "dataset = dataset[:len(dataset)//40]\n",
        "train_dataset = dataset[:len(dataset)//2]\n",
        "val_dataset = dataset[len(dataset)//2:]\n",
        "print(len(train_dataset))"
      ]
    },
    {
      "attachments": {},
      "cell_type": "markdown",
      "metadata": {},
      "source": [
        "# Utility Methods"
      ]
    },
    {
      "cell_type": "code",
      "execution_count": 13,
      "metadata": {
        "id": "2lckNT7vIBWI"
      },
      "outputs": [],
      "source": [
        "## Collate functions for loading dataset\n",
        "def collate_fn(batch):\n",
        "    tokens = [tokenizer.encode(example, return_tensors=\"pt\", truncation=True,max_length=model.config.max_position_embeddings) for example in batch]\n",
        "    max_length = max([t.size(1) for t in tokens])\n",
        "    tokens_padded = [torch.cat([t, t.new_zeros(t.size(0), max_length - t.size(1))], dim=1) for t in tokens]\n",
        "    tokens_padded = torch.cat(tokens_padded, dim=0)\n",
        "    return {\n",
        "        \"input_ids\":tokens_padded,\n",
        "        \"labels\":tokens_padded,\n",
        "        \"attention_mask\": torch.tensor(tokens_padded>0,dtype=int)\n",
        "    }\n",
        "def train(model, train_dataset, val_dataset, collate_fn, batch_size, epochs):\n",
        "    model.config.use_cache = False\n",
        "    training_args = TrainingArguments(output_dir=\"fine-tuning\",\n",
        "                                        do_train=True,\n",
        "                                        do_eval=True,\n",
        "                                        num_train_epochs=epochs,\n",
        "                                        per_device_train_batch_size=batch_size,\n",
        "                                        per_device_eval_batch_size=batch_size,\n",
        "                                        evaluation_strategy=\"epoch\",\n",
        "                                        logging_strategy=\"epoch\",\n",
        "                                        save_strategy=\"epoch\",\n",
        "                                        gradient_accumulation_steps=1,\n",
        "                                        gradient_checkpointing=False,\n",
        "                                        load_best_model_at_end = True,\n",
        "                                        optim=\"adafactor\",\n",
        "                                        )\n",
        "    trainer = Trainer(model=model,\n",
        "                    args=training_args,\n",
        "                    train_dataset=train_dataset,\n",
        "                    eval_dataset=val_dataset,\n",
        "                    tokenizer=tokenizer,\n",
        "                    data_collator=collate_fn,\n",
        "                    callbacks=[EarlyStoppingCallback(early_stop_patience, 0.0)] # if val loss improve for >1 iterations, end. \n",
        "                    )\n",
        "    trainer.train()\n",
        "    return model"
      ]
    },
    {
      "attachments": {},
      "cell_type": "markdown",
      "metadata": {},
      "source": [
        "# Base Model"
      ]
    },
    {
      "cell_type": "code",
      "execution_count": 14,
      "metadata": {
        "colab": {
          "base_uri": "https://localhost:8080/",
          "height": 282,
          "referenced_widgets": [
            "c1f772ece8d248ba9e42eee7f1538437",
            "0deef3c98d89426eaf52b73dc15f65a5",
            "01f78de274b94050a97a6bfda7ee0c30",
            "840bdba473f8413b8e7a3d575eb02d94",
            "3e3ef67bfb39496895cd034bec27bc86",
            "6709062a26054d1c884ff4d1de388469",
            "4b0c8f955cc841ed854ce22b486f94e6",
            "47b906b83f004ac8ae07dd6285e08b77",
            "6500592abaed4d558f35cd9d9ed57a9f",
            "cc454b4b9058476494547a64677221ba",
            "c799559cbc284aed88b81093bcd9ed41",
            "bc3381b9759f43cf82633a033b9c6830",
            "c80be69a1c5441a4b5066ed927e3b361",
            "1ebaa94c3bf141e08b534ba7bfcefb8e",
            "763677e7b26c4e8094c62899a289636c",
            "6f8233fbb2dd49b88623fef1d1784373",
            "ef65a0f3e3e747e89f2318d663307cbe",
            "e19b08d20df24d8491145c80550c3b2e",
            "b0a3148dd86c4216b5cb881549581f1d",
            "bfd2beb5276849ea985702261d91b02a",
            "ec278bc3c0df4dae9a8d1ac4ac05832b",
            "88c5aa008994424cafdcabbc4ca50635"
          ]
        },
        "id": "ryiubRnRZgUA",
        "outputId": "456eed0b-eb4a-4172-c8e6-774d5c1c744d"
      },
      "outputs": [
        {
          "data": {
            "application/vnd.jupyter.widget-view+json": {
              "model_id": "c1f772ece8d248ba9e42eee7f1538437",
              "version_major": 2,
              "version_minor": 0
            },
            "text/plain": [
              "Downloading (…)ep143000/config.json:   0%|          | 0.00/567 [00:00<?, ?B/s]"
            ]
          },
          "metadata": {},
          "output_type": "display_data"
        },
        {
          "data": {
            "application/vnd.jupyter.widget-view+json": {
              "model_id": "bc3381b9759f43cf82633a033b9c6830",
              "version_major": 2,
              "version_minor": 0
            },
            "text/plain": [
              "Downloading pytorch_model.bin:   0%|          | 0.00/166M [00:00<?, ?B/s]"
            ]
          },
          "metadata": {},
          "output_type": "display_data"
        },
        {
          "name": "stderr",
          "output_type": "stream",
          "text": [
            "<ipython-input-13-72a79dc70efa>:10: UserWarning: To copy construct from a tensor, it is recommended to use sourceTensor.clone().detach() or sourceTensor.clone().detach().requires_grad_(True), rather than torch.tensor(sourceTensor).\n",
            "  \"attention_mask\": torch.tensor(tokens_padded>0,dtype=int)\n"
          ]
        },
        {
          "data": {
            "text/html": [
              "\n",
              "    <div>\n",
              "      \n",
              "      <progress value='2678' max='2678' style='width:300px; height:20px; vertical-align: middle;'></progress>\n",
              "      [2678/2678 03:29, Epoch 1/1]\n",
              "    </div>\n",
              "    <table border=\"1\" class=\"dataframe\">\n",
              "  <thead>\n",
              " <tr style=\"text-align: left;\">\n",
              "      <th>Epoch</th>\n",
              "      <th>Training Loss</th>\n",
              "      <th>Validation Loss</th>\n",
              "    </tr>\n",
              "  </thead>\n",
              "  <tbody>\n",
              "    <tr>\n",
              "      <td>1</td>\n",
              "      <td>3.839800</td>\n",
              "      <td>3.449815</td>\n",
              "    </tr>\n",
              "  </tbody>\n",
              "</table><p>"
            ],
            "text/plain": [
              "<IPython.core.display.HTML object>"
            ]
          },
          "metadata": {},
          "output_type": "display_data"
        }
      ],
      "source": [
        "model = GPTNeoXForCausalLM.from_pretrained(\n",
        "  model_name,\n",
        "  revision=model_revision,\n",
        "  cache_dir=model_cache_dir,\n",
        ")\n",
        "\n",
        "tokenizer = AutoTokenizer.from_pretrained(\n",
        "  model_name,\n",
        "  revision=model_revision,\n",
        "  cache_dir=model_cache_dir,\n",
        ")\n",
        "\n",
        "train(model, train_dataset, val_dataset, collate_fn, bs, epochs)\n",
        "model.save_pretrained(f\"lira_new/pythia-{mod_size}-base\", from_pt=True) \n",
        "del model\n",
        "torch.cuda.empty_cache()"
      ]
    },
    {
      "cell_type": "code",
      "execution_count": 17,
      "metadata": {
        "id": "SsZGrMn0Iun7"
      },
      "outputs": [],
      "source": [
        "data_chunks = [dataset[i * len(dataset)//N : (i+1) * len(dataset) // N] for i in range(N)]"
      ]
    },
    {
      "cell_type": "code",
      "execution_count": 18,
      "metadata": {
        "id": "kOCt3yFoa0bA"
      },
      "outputs": [],
      "source": [
        "def arr_split(chunks, N):\n",
        "    if N % 2 != 0:\n",
        "        print(\"Need even N!\")\n",
        "        return []\n",
        "    lists = [[] for i in range(N)]\n",
        "\n",
        "    for i in range(N):\n",
        "        for j in range(i, int(i + N/2)):\n",
        "            lists[i] += chunks[j % N]\n",
        "\n",
        "    return lists\n",
        "  \n",
        "def orthogonal_chunk(i):\n",
        "    return int(N/2 + i) % N"
      ]
    },
    {
      "cell_type": "code",
      "execution_count": 19,
      "metadata": {
        "id": "Wb1-b46AaxPp"
      },
      "outputs": [],
      "source": [
        "data_arr = arr_split(data_chunks, N)"
      ]
    },
    {
      "cell_type": "code",
      "execution_count": 20,
      "metadata": {
        "colab": {
          "base_uri": "https://localhost:8080/"
        },
        "id": "FQfshxHOeedP",
        "outputId": "4d6902d0-0dc8-47e8-dea9-1898daa68a4b"
      },
      "outputs": [
        {
          "name": "stdout",
          "output_type": "stream",
          "text": [
            "2678\n"
          ]
        }
      ],
      "source": [
        "print(len(data_arr[0]))"
      ]
    },
    {
      "cell_type": "code",
      "execution_count": 21,
      "metadata": {
        "colab": {
          "base_uri": "https://localhost:8080/"
        },
        "id": "T7sEfiksehW4",
        "outputId": "2973475d-8019-43f8-9b6a-a3dc5a2e7455"
      },
      "outputs": [
        {
          "name": "stdout",
          "output_type": "stream",
          "text": [
            "2678\n"
          ]
        }
      ],
      "source": [
        "print(len(train_dataset))"
      ]
    },
    {
      "attachments": {},
      "cell_type": "markdown",
      "metadata": {},
      "source": [
        "# Train Shadow Models"
      ]
    },
    {
      "cell_type": "code",
      "execution_count": 22,
      "metadata": {
        "colab": {
          "base_uri": "https://localhost:8080/",
          "height": 1000
        },
        "id": "LT89205rIYTh",
        "outputId": "de739569-b45e-4cb8-c7c0-276ecf9bb26e"
      },
      "outputs": [
        {
          "name": "stdout",
          "output_type": "stream",
          "text": [
            "Total Memory: 39.56 GB\n",
            "Reserved Memory: 0.34 GB (0.86%)\n",
            "Remaining Memory: 39.22 GB (99.14%)\n",
            "---------------------------------\n",
            "Allocated Memory: 0.30 GB (0.77%)\n",
            "Percent of Reserved Allocated: 89.63%\n",
            "\n",
            "Model #0\n"
          ]
        },
        {
          "name": "stderr",
          "output_type": "stream",
          "text": [
            "<ipython-input-13-72a79dc70efa>:10: UserWarning: To copy construct from a tensor, it is recommended to use sourceTensor.clone().detach() or sourceTensor.clone().detach().requires_grad_(True), rather than torch.tensor(sourceTensor).\n",
            "  \"attention_mask\": torch.tensor(tokens_padded>0,dtype=int)\n"
          ]
        },
        {
          "data": {
            "text/html": [
              "\n",
              "    <div>\n",
              "      \n",
              "      <progress value='2678' max='2678' style='width:300px; height:20px; vertical-align: middle;'></progress>\n",
              "      [2678/2678 03:32, Epoch 1/1]\n",
              "    </div>\n",
              "    <table border=\"1\" class=\"dataframe\">\n",
              "  <thead>\n",
              " <tr style=\"text-align: left;\">\n",
              "      <th>Epoch</th>\n",
              "      <th>Training Loss</th>\n",
              "      <th>Validation Loss</th>\n",
              "    </tr>\n",
              "  </thead>\n",
              "  <tbody>\n",
              "    <tr>\n",
              "      <td>1</td>\n",
              "      <td>3.839800</td>\n",
              "      <td>3.449815</td>\n",
              "    </tr>\n",
              "  </tbody>\n",
              "</table><p>"
            ],
            "text/plain": [
              "<IPython.core.display.HTML object>"
            ]
          },
          "metadata": {},
          "output_type": "display_data"
        },
        {
          "name": "stdout",
          "output_type": "stream",
          "text": [
            "Total Memory: 39.56 GB\n",
            "Reserved Memory: 0.32 GB (0.81%)\n",
            "Remaining Memory: 39.24 GB (99.19%)\n",
            "---------------------------------\n",
            "Allocated Memory: 0.31 GB (0.77%)\n",
            "Percent of Reserved Allocated: 95.32%\n",
            "\n",
            "Total Memory: 39.56 GB\n",
            "Reserved Memory: 0.32 GB (0.81%)\n",
            "Remaining Memory: 39.24 GB (99.19%)\n",
            "---------------------------------\n",
            "Allocated Memory: 0.31 GB (0.77%)\n",
            "Percent of Reserved Allocated: 95.32%\n",
            "\n",
            "Model #1\n"
          ]
        },
        {
          "name": "stderr",
          "output_type": "stream",
          "text": [
            "<ipython-input-13-72a79dc70efa>:10: UserWarning: To copy construct from a tensor, it is recommended to use sourceTensor.clone().detach() or sourceTensor.clone().detach().requires_grad_(True), rather than torch.tensor(sourceTensor).\n",
            "  \"attention_mask\": torch.tensor(tokens_padded>0,dtype=int)\n"
          ]
        },
        {
          "data": {
            "text/html": [
              "\n",
              "    <div>\n",
              "      \n",
              "      <progress value='2678' max='2678' style='width:300px; height:20px; vertical-align: middle;'></progress>\n",
              "      [2678/2678 03:32, Epoch 1/1]\n",
              "    </div>\n",
              "    <table border=\"1\" class=\"dataframe\">\n",
              "  <thead>\n",
              " <tr style=\"text-align: left;\">\n",
              "      <th>Epoch</th>\n",
              "      <th>Training Loss</th>\n",
              "      <th>Validation Loss</th>\n",
              "    </tr>\n",
              "  </thead>\n",
              "  <tbody>\n",
              "    <tr>\n",
              "      <td>1</td>\n",
              "      <td>3.836000</td>\n",
              "      <td>3.425721</td>\n",
              "    </tr>\n",
              "  </tbody>\n",
              "</table><p>"
            ],
            "text/plain": [
              "<IPython.core.display.HTML object>"
            ]
          },
          "metadata": {},
          "output_type": "display_data"
        },
        {
          "name": "stdout",
          "output_type": "stream",
          "text": [
            "Total Memory: 39.56 GB\n",
            "Reserved Memory: 0.32 GB (0.81%)\n",
            "Remaining Memory: 39.24 GB (99.19%)\n",
            "---------------------------------\n",
            "Allocated Memory: 0.31 GB (0.77%)\n",
            "Percent of Reserved Allocated: 95.32%\n",
            "\n",
            "Total Memory: 39.56 GB\n",
            "Reserved Memory: 0.32 GB (0.81%)\n",
            "Remaining Memory: 39.24 GB (99.19%)\n",
            "---------------------------------\n",
            "Allocated Memory: 0.31 GB (0.77%)\n",
            "Percent of Reserved Allocated: 95.32%\n",
            "\n",
            "Model #2\n"
          ]
        },
        {
          "name": "stderr",
          "output_type": "stream",
          "text": [
            "<ipython-input-13-72a79dc70efa>:10: UserWarning: To copy construct from a tensor, it is recommended to use sourceTensor.clone().detach() or sourceTensor.clone().detach().requires_grad_(True), rather than torch.tensor(sourceTensor).\n",
            "  \"attention_mask\": torch.tensor(tokens_padded>0,dtype=int)\n"
          ]
        },
        {
          "data": {
            "text/html": [
              "\n",
              "    <div>\n",
              "      \n",
              "      <progress value='2679' max='2679' style='width:300px; height:20px; vertical-align: middle;'></progress>\n",
              "      [2679/2679 03:31, Epoch 1/1]\n",
              "    </div>\n",
              "    <table border=\"1\" class=\"dataframe\">\n",
              "  <thead>\n",
              " <tr style=\"text-align: left;\">\n",
              "      <th>Epoch</th>\n",
              "      <th>Training Loss</th>\n",
              "      <th>Validation Loss</th>\n",
              "    </tr>\n",
              "  </thead>\n",
              "  <tbody>\n",
              "    <tr>\n",
              "      <td>1</td>\n",
              "      <td>3.839100</td>\n",
              "      <td>3.429059</td>\n",
              "    </tr>\n",
              "  </tbody>\n",
              "</table><p>"
            ],
            "text/plain": [
              "<IPython.core.display.HTML object>"
            ]
          },
          "metadata": {},
          "output_type": "display_data"
        },
        {
          "name": "stdout",
          "output_type": "stream",
          "text": [
            "Total Memory: 39.56 GB\n",
            "Reserved Memory: 0.32 GB (0.81%)\n",
            "Remaining Memory: 39.24 GB (99.19%)\n",
            "---------------------------------\n",
            "Allocated Memory: 0.31 GB (0.77%)\n",
            "Percent of Reserved Allocated: 95.32%\n",
            "\n",
            "Total Memory: 39.56 GB\n",
            "Reserved Memory: 0.32 GB (0.81%)\n",
            "Remaining Memory: 39.24 GB (99.19%)\n",
            "---------------------------------\n",
            "Allocated Memory: 0.31 GB (0.77%)\n",
            "Percent of Reserved Allocated: 95.32%\n",
            "\n",
            "Model #3\n"
          ]
        },
        {
          "name": "stderr",
          "output_type": "stream",
          "text": [
            "<ipython-input-13-72a79dc70efa>:10: UserWarning: To copy construct from a tensor, it is recommended to use sourceTensor.clone().detach() or sourceTensor.clone().detach().requires_grad_(True), rather than torch.tensor(sourceTensor).\n",
            "  \"attention_mask\": torch.tensor(tokens_padded>0,dtype=int)\n"
          ]
        },
        {
          "data": {
            "text/html": [
              "\n",
              "    <div>\n",
              "      \n",
              "      <progress value='2678' max='2678' style='width:300px; height:20px; vertical-align: middle;'></progress>\n",
              "      [2678/2678 03:32, Epoch 1/1]\n",
              "    </div>\n",
              "    <table border=\"1\" class=\"dataframe\">\n",
              "  <thead>\n",
              " <tr style=\"text-align: left;\">\n",
              "      <th>Epoch</th>\n",
              "      <th>Training Loss</th>\n",
              "      <th>Validation Loss</th>\n",
              "    </tr>\n",
              "  </thead>\n",
              "  <tbody>\n",
              "    <tr>\n",
              "      <td>1</td>\n",
              "      <td>3.862700</td>\n",
              "      <td>3.422980</td>\n",
              "    </tr>\n",
              "  </tbody>\n",
              "</table><p>"
            ],
            "text/plain": [
              "<IPython.core.display.HTML object>"
            ]
          },
          "metadata": {},
          "output_type": "display_data"
        },
        {
          "name": "stdout",
          "output_type": "stream",
          "text": [
            "Total Memory: 39.56 GB\n",
            "Reserved Memory: 0.32 GB (0.81%)\n",
            "Remaining Memory: 39.24 GB (99.19%)\n",
            "---------------------------------\n",
            "Allocated Memory: 0.31 GB (0.77%)\n",
            "Percent of Reserved Allocated: 95.32%\n",
            "\n",
            "Total Memory: 39.56 GB\n",
            "Reserved Memory: 0.32 GB (0.81%)\n",
            "Remaining Memory: 39.24 GB (99.19%)\n",
            "---------------------------------\n",
            "Allocated Memory: 0.31 GB (0.77%)\n",
            "Percent of Reserved Allocated: 95.32%\n",
            "\n",
            "Model #4\n"
          ]
        },
        {
          "name": "stderr",
          "output_type": "stream",
          "text": [
            "<ipython-input-13-72a79dc70efa>:10: UserWarning: To copy construct from a tensor, it is recommended to use sourceTensor.clone().detach() or sourceTensor.clone().detach().requires_grad_(True), rather than torch.tensor(sourceTensor).\n",
            "  \"attention_mask\": torch.tensor(tokens_padded>0,dtype=int)\n"
          ]
        },
        {
          "data": {
            "text/html": [
              "\n",
              "    <div>\n",
              "      \n",
              "      <progress value='2679' max='2679' style='width:300px; height:20px; vertical-align: middle;'></progress>\n",
              "      [2679/2679 03:32, Epoch 1/1]\n",
              "    </div>\n",
              "    <table border=\"1\" class=\"dataframe\">\n",
              "  <thead>\n",
              " <tr style=\"text-align: left;\">\n",
              "      <th>Epoch</th>\n",
              "      <th>Training Loss</th>\n",
              "      <th>Validation Loss</th>\n",
              "    </tr>\n",
              "  </thead>\n",
              "  <tbody>\n",
              "    <tr>\n",
              "      <td>1</td>\n",
              "      <td>3.872700</td>\n",
              "      <td>nan</td>\n",
              "    </tr>\n",
              "  </tbody>\n",
              "</table><p>"
            ],
            "text/plain": [
              "<IPython.core.display.HTML object>"
            ]
          },
          "metadata": {},
          "output_type": "display_data"
        },
        {
          "name": "stdout",
          "output_type": "stream",
          "text": [
            "Total Memory: 39.56 GB\n",
            "Reserved Memory: 0.32 GB (0.81%)\n",
            "Remaining Memory: 39.24 GB (99.19%)\n",
            "---------------------------------\n",
            "Allocated Memory: 0.31 GB (0.77%)\n",
            "Percent of Reserved Allocated: 95.32%\n",
            "\n",
            "Total Memory: 39.56 GB\n",
            "Reserved Memory: 0.32 GB (0.81%)\n",
            "Remaining Memory: 39.24 GB (99.19%)\n",
            "---------------------------------\n",
            "Allocated Memory: 0.31 GB (0.77%)\n",
            "Percent of Reserved Allocated: 95.32%\n",
            "\n",
            "Model #5\n"
          ]
        },
        {
          "name": "stderr",
          "output_type": "stream",
          "text": [
            "<ipython-input-13-72a79dc70efa>:10: UserWarning: To copy construct from a tensor, it is recommended to use sourceTensor.clone().detach() or sourceTensor.clone().detach().requires_grad_(True), rather than torch.tensor(sourceTensor).\n",
            "  \"attention_mask\": torch.tensor(tokens_padded>0,dtype=int)\n"
          ]
        },
        {
          "data": {
            "text/html": [
              "\n",
              "    <div>\n",
              "      \n",
              "      <progress value='2678' max='2678' style='width:300px; height:20px; vertical-align: middle;'></progress>\n",
              "      [2678/2678 03:32, Epoch 1/1]\n",
              "    </div>\n",
              "    <table border=\"1\" class=\"dataframe\">\n",
              "  <thead>\n",
              " <tr style=\"text-align: left;\">\n",
              "      <th>Epoch</th>\n",
              "      <th>Training Loss</th>\n",
              "      <th>Validation Loss</th>\n",
              "    </tr>\n",
              "  </thead>\n",
              "  <tbody>\n",
              "    <tr>\n",
              "      <td>1</td>\n",
              "      <td>3.874900</td>\n",
              "      <td>nan</td>\n",
              "    </tr>\n",
              "  </tbody>\n",
              "</table><p>"
            ],
            "text/plain": [
              "<IPython.core.display.HTML object>"
            ]
          },
          "metadata": {},
          "output_type": "display_data"
        },
        {
          "name": "stdout",
          "output_type": "stream",
          "text": [
            "Total Memory: 39.56 GB\n",
            "Reserved Memory: 0.32 GB (0.81%)\n",
            "Remaining Memory: 39.24 GB (99.19%)\n",
            "---------------------------------\n",
            "Allocated Memory: 0.31 GB (0.77%)\n",
            "Percent of Reserved Allocated: 95.32%\n",
            "\n",
            "Total Memory: 39.56 GB\n",
            "Reserved Memory: 0.32 GB (0.81%)\n",
            "Remaining Memory: 39.24 GB (99.19%)\n",
            "---------------------------------\n",
            "Allocated Memory: 0.31 GB (0.77%)\n",
            "Percent of Reserved Allocated: 95.32%\n",
            "\n",
            "Model #6\n"
          ]
        },
        {
          "name": "stderr",
          "output_type": "stream",
          "text": [
            "<ipython-input-13-72a79dc70efa>:10: UserWarning: To copy construct from a tensor, it is recommended to use sourceTensor.clone().detach() or sourceTensor.clone().detach().requires_grad_(True), rather than torch.tensor(sourceTensor).\n",
            "  \"attention_mask\": torch.tensor(tokens_padded>0,dtype=int)\n"
          ]
        },
        {
          "data": {
            "text/html": [
              "\n",
              "    <div>\n",
              "      \n",
              "      <progress value='2679' max='2679' style='width:300px; height:20px; vertical-align: middle;'></progress>\n",
              "      [2679/2679 03:32, Epoch 1/1]\n",
              "    </div>\n",
              "    <table border=\"1\" class=\"dataframe\">\n",
              "  <thead>\n",
              " <tr style=\"text-align: left;\">\n",
              "      <th>Epoch</th>\n",
              "      <th>Training Loss</th>\n",
              "      <th>Validation Loss</th>\n",
              "    </tr>\n",
              "  </thead>\n",
              "  <tbody>\n",
              "    <tr>\n",
              "      <td>1</td>\n",
              "      <td>3.875000</td>\n",
              "      <td>nan</td>\n",
              "    </tr>\n",
              "  </tbody>\n",
              "</table><p>"
            ],
            "text/plain": [
              "<IPython.core.display.HTML object>"
            ]
          },
          "metadata": {},
          "output_type": "display_data"
        },
        {
          "name": "stdout",
          "output_type": "stream",
          "text": [
            "Total Memory: 39.56 GB\n",
            "Reserved Memory: 0.32 GB (0.81%)\n",
            "Remaining Memory: 39.24 GB (99.19%)\n",
            "---------------------------------\n",
            "Allocated Memory: 0.31 GB (0.77%)\n",
            "Percent of Reserved Allocated: 95.32%\n",
            "\n",
            "Total Memory: 39.56 GB\n",
            "Reserved Memory: 0.32 GB (0.81%)\n",
            "Remaining Memory: 39.24 GB (99.19%)\n",
            "---------------------------------\n",
            "Allocated Memory: 0.31 GB (0.77%)\n",
            "Percent of Reserved Allocated: 95.32%\n",
            "\n",
            "Model #7\n"
          ]
        },
        {
          "name": "stderr",
          "output_type": "stream",
          "text": [
            "<ipython-input-13-72a79dc70efa>:10: UserWarning: To copy construct from a tensor, it is recommended to use sourceTensor.clone().detach() or sourceTensor.clone().detach().requires_grad_(True), rather than torch.tensor(sourceTensor).\n",
            "  \"attention_mask\": torch.tensor(tokens_padded>0,dtype=int)\n"
          ]
        },
        {
          "data": {
            "text/html": [
              "\n",
              "    <div>\n",
              "      \n",
              "      <progress value='2679' max='2679' style='width:300px; height:20px; vertical-align: middle;'></progress>\n",
              "      [2679/2679 03:33, Epoch 1/1]\n",
              "    </div>\n",
              "    <table border=\"1\" class=\"dataframe\">\n",
              "  <thead>\n",
              " <tr style=\"text-align: left;\">\n",
              "      <th>Epoch</th>\n",
              "      <th>Training Loss</th>\n",
              "      <th>Validation Loss</th>\n",
              "    </tr>\n",
              "  </thead>\n",
              "  <tbody>\n",
              "    <tr>\n",
              "      <td>1</td>\n",
              "      <td>3.860700</td>\n",
              "      <td>nan</td>\n",
              "    </tr>\n",
              "  </tbody>\n",
              "</table><p>"
            ],
            "text/plain": [
              "<IPython.core.display.HTML object>"
            ]
          },
          "metadata": {},
          "output_type": "display_data"
        },
        {
          "name": "stdout",
          "output_type": "stream",
          "text": [
            "Total Memory: 39.56 GB\n",
            "Reserved Memory: 0.32 GB (0.81%)\n",
            "Remaining Memory: 39.24 GB (99.19%)\n",
            "---------------------------------\n",
            "Allocated Memory: 0.31 GB (0.77%)\n",
            "Percent of Reserved Allocated: 95.32%\n",
            "\n",
            "Total Memory: 39.56 GB\n",
            "Reserved Memory: 0.32 GB (0.81%)\n",
            "Remaining Memory: 39.24 GB (99.19%)\n",
            "---------------------------------\n",
            "Allocated Memory: 0.31 GB (0.77%)\n",
            "Percent of Reserved Allocated: 95.32%\n",
            "\n",
            "Model #8\n"
          ]
        },
        {
          "name": "stderr",
          "output_type": "stream",
          "text": [
            "<ipython-input-13-72a79dc70efa>:10: UserWarning: To copy construct from a tensor, it is recommended to use sourceTensor.clone().detach() or sourceTensor.clone().detach().requires_grad_(True), rather than torch.tensor(sourceTensor).\n",
            "  \"attention_mask\": torch.tensor(tokens_padded>0,dtype=int)\n"
          ]
        },
        {
          "data": {
            "text/html": [
              "\n",
              "    <div>\n",
              "      \n",
              "      <progress value='2678' max='2678' style='width:300px; height:20px; vertical-align: middle;'></progress>\n",
              "      [2678/2678 03:34, Epoch 1/1]\n",
              "    </div>\n",
              "    <table border=\"1\" class=\"dataframe\">\n",
              "  <thead>\n",
              " <tr style=\"text-align: left;\">\n",
              "      <th>Epoch</th>\n",
              "      <th>Training Loss</th>\n",
              "      <th>Validation Loss</th>\n",
              "    </tr>\n",
              "  </thead>\n",
              "  <tbody>\n",
              "    <tr>\n",
              "      <td>1</td>\n",
              "      <td>3.841400</td>\n",
              "      <td>nan</td>\n",
              "    </tr>\n",
              "  </tbody>\n",
              "</table><p>"
            ],
            "text/plain": [
              "<IPython.core.display.HTML object>"
            ]
          },
          "metadata": {},
          "output_type": "display_data"
        },
        {
          "name": "stdout",
          "output_type": "stream",
          "text": [
            "Total Memory: 39.56 GB\n",
            "Reserved Memory: 0.32 GB (0.81%)\n",
            "Remaining Memory: 39.24 GB (99.19%)\n",
            "---------------------------------\n",
            "Allocated Memory: 0.31 GB (0.77%)\n",
            "Percent of Reserved Allocated: 95.32%\n",
            "\n",
            "Total Memory: 39.56 GB\n",
            "Reserved Memory: 0.32 GB (0.81%)\n",
            "Remaining Memory: 39.24 GB (99.19%)\n",
            "---------------------------------\n",
            "Allocated Memory: 0.31 GB (0.77%)\n",
            "Percent of Reserved Allocated: 95.32%\n",
            "\n",
            "Model #9\n"
          ]
        },
        {
          "name": "stderr",
          "output_type": "stream",
          "text": [
            "<ipython-input-13-72a79dc70efa>:10: UserWarning: To copy construct from a tensor, it is recommended to use sourceTensor.clone().detach() or sourceTensor.clone().detach().requires_grad_(True), rather than torch.tensor(sourceTensor).\n",
            "  \"attention_mask\": torch.tensor(tokens_padded>0,dtype=int)\n"
          ]
        },
        {
          "data": {
            "text/html": [
              "\n",
              "    <div>\n",
              "      \n",
              "      <progress value='2679' max='2679' style='width:300px; height:20px; vertical-align: middle;'></progress>\n",
              "      [2679/2679 03:34, Epoch 1/1]\n",
              "    </div>\n",
              "    <table border=\"1\" class=\"dataframe\">\n",
              "  <thead>\n",
              " <tr style=\"text-align: left;\">\n",
              "      <th>Epoch</th>\n",
              "      <th>Training Loss</th>\n",
              "      <th>Validation Loss</th>\n",
              "    </tr>\n",
              "  </thead>\n",
              "  <tbody>\n",
              "    <tr>\n",
              "      <td>1</td>\n",
              "      <td>3.835900</td>\n",
              "      <td>nan</td>\n",
              "    </tr>\n",
              "  </tbody>\n",
              "</table><p>"
            ],
            "text/plain": [
              "<IPython.core.display.HTML object>"
            ]
          },
          "metadata": {},
          "output_type": "display_data"
        },
        {
          "name": "stdout",
          "output_type": "stream",
          "text": [
            "Total Memory: 39.56 GB\n",
            "Reserved Memory: 0.32 GB (0.81%)\n",
            "Remaining Memory: 39.24 GB (99.19%)\n",
            "---------------------------------\n",
            "Allocated Memory: 0.31 GB (0.77%)\n",
            "Percent of Reserved Allocated: 95.32%\n",
            "\n",
            "Total Memory: 39.56 GB\n",
            "Reserved Memory: 0.32 GB (0.81%)\n",
            "Remaining Memory: 39.24 GB (99.19%)\n",
            "---------------------------------\n",
            "Allocated Memory: 0.31 GB (0.77%)\n",
            "Percent of Reserved Allocated: 95.32%\n",
            "\n",
            "Model #10\n"
          ]
        },
        {
          "name": "stderr",
          "output_type": "stream",
          "text": [
            "<ipython-input-13-72a79dc70efa>:10: UserWarning: To copy construct from a tensor, it is recommended to use sourceTensor.clone().detach() or sourceTensor.clone().detach().requires_grad_(True), rather than torch.tensor(sourceTensor).\n",
            "  \"attention_mask\": torch.tensor(tokens_padded>0,dtype=int)\n"
          ]
        },
        {
          "data": {
            "text/html": [
              "\n",
              "    <div>\n",
              "      \n",
              "      <progress value='2678' max='2678' style='width:300px; height:20px; vertical-align: middle;'></progress>\n",
              "      [2678/2678 03:34, Epoch 1/1]\n",
              "    </div>\n",
              "    <table border=\"1\" class=\"dataframe\">\n",
              "  <thead>\n",
              " <tr style=\"text-align: left;\">\n",
              "      <th>Epoch</th>\n",
              "      <th>Training Loss</th>\n",
              "      <th>Validation Loss</th>\n",
              "    </tr>\n",
              "  </thead>\n",
              "  <tbody>\n",
              "    <tr>\n",
              "      <td>1</td>\n",
              "      <td>3.821600</td>\n",
              "      <td>3.428258</td>\n",
              "    </tr>\n",
              "  </tbody>\n",
              "</table><p>"
            ],
            "text/plain": [
              "<IPython.core.display.HTML object>"
            ]
          },
          "metadata": {},
          "output_type": "display_data"
        },
        {
          "name": "stdout",
          "output_type": "stream",
          "text": [
            "Total Memory: 39.56 GB\n",
            "Reserved Memory: 0.32 GB (0.81%)\n",
            "Remaining Memory: 39.24 GB (99.19%)\n",
            "---------------------------------\n",
            "Allocated Memory: 0.31 GB (0.77%)\n",
            "Percent of Reserved Allocated: 95.32%\n",
            "\n",
            "Total Memory: 39.56 GB\n",
            "Reserved Memory: 0.32 GB (0.81%)\n",
            "Remaining Memory: 39.24 GB (99.19%)\n",
            "---------------------------------\n",
            "Allocated Memory: 0.31 GB (0.77%)\n",
            "Percent of Reserved Allocated: 95.32%\n",
            "\n",
            "Model #11\n"
          ]
        },
        {
          "name": "stderr",
          "output_type": "stream",
          "text": [
            "<ipython-input-13-72a79dc70efa>:10: UserWarning: To copy construct from a tensor, it is recommended to use sourceTensor.clone().detach() or sourceTensor.clone().detach().requires_grad_(True), rather than torch.tensor(sourceTensor).\n",
            "  \"attention_mask\": torch.tensor(tokens_padded>0,dtype=int)\n"
          ]
        },
        {
          "data": {
            "text/html": [
              "\n",
              "    <div>\n",
              "      \n",
              "      <progress value='2679' max='2679' style='width:300px; height:20px; vertical-align: middle;'></progress>\n",
              "      [2679/2679 03:34, Epoch 1/1]\n",
              "    </div>\n",
              "    <table border=\"1\" class=\"dataframe\">\n",
              "  <thead>\n",
              " <tr style=\"text-align: left;\">\n",
              "      <th>Epoch</th>\n",
              "      <th>Training Loss</th>\n",
              "      <th>Validation Loss</th>\n",
              "    </tr>\n",
              "  </thead>\n",
              "  <tbody>\n",
              "    <tr>\n",
              "      <td>1</td>\n",
              "      <td>3.822500</td>\n",
              "      <td>3.438773</td>\n",
              "    </tr>\n",
              "  </tbody>\n",
              "</table><p>"
            ],
            "text/plain": [
              "<IPython.core.display.HTML object>"
            ]
          },
          "metadata": {},
          "output_type": "display_data"
        },
        {
          "name": "stdout",
          "output_type": "stream",
          "text": [
            "Total Memory: 39.56 GB\n",
            "Reserved Memory: 0.32 GB (0.81%)\n",
            "Remaining Memory: 39.24 GB (99.19%)\n",
            "---------------------------------\n",
            "Allocated Memory: 0.31 GB (0.77%)\n",
            "Percent of Reserved Allocated: 95.32%\n",
            "\n"
          ]
        }
      ],
      "source": [
        "for i in range(N):\n",
        "  mem_stats()\n",
        "  print(f\"Model #{i}\")\n",
        "  model = GPTNeoXForCausalLM.from_pretrained(\n",
        "    model_name,\n",
        "    revision=model_revision,\n",
        "    cache_dir=model_cache_dir,\n",
        "  ).to(device)\n",
        "  train(model, data_arr[i], data_arr[orthogonal_chunk(i)], collate_fn, bs, epochs)\n",
        "  model.save_pretrained(f\"lira_new/pythia-{mod_size}-shadow-{i}\", from_pt=True) \n",
        "  del model\n",
        "  torch.cuda.empty_cache()\n",
        "  mem_stats()"
      ]
    },
    {
      "attachments": {},
      "cell_type": "markdown",
      "metadata": {},
      "source": [
        "# Inference"
      ]
    },
    {
      "cell_type": "code",
      "execution_count": 23,
      "metadata": {
        "id": "DyaXmCbM1ABG"
      },
      "outputs": [],
      "source": [
        "def get_in_models(chunk_no, N):\n",
        "    \"\"\"\n",
        "    Returns a list of models that should be used for inference for a given chunk\n",
        "    \"\"\"\n",
        "    ins = []\n",
        "    outs = []\n",
        "    for i in range(N):\n",
        "        lower = i\n",
        "        upper = int(i+N/2)\n",
        "        innit = False\n",
        "        for j in range(lower, upper):\n",
        "            if chunk_no == j % N:\n",
        "                innit = True\n",
        "        if innit:\n",
        "            ins.append(i)\n",
        "        else:\n",
        "            outs.append(i)\n",
        "    return (ins, outs)"
      ]
    },
    {
      "cell_type": "code",
      "execution_count": 24,
      "metadata": {
        "id": "LGhZO0j81Pmq"
      },
      "outputs": [],
      "source": [
        "from torch.nn import CrossEntropyLoss\n",
        "import math\n",
        "\n",
        "def compute_ce_loss(model, tokenizer, string):\n",
        "    # input_ids = tokenizer.encode(string, return_tensors=\"pt\").to(device)\n",
        "    input_ids = tokenizer.encode(string, return_tensors=\"pt\", truncation=True,max_length=model.config.max_position_embeddings).to(device) \n",
        "\n",
        "    with torch.no_grad():\n",
        "        outputs = model(input_ids)\n",
        "        logits = outputs.logits\n",
        "\n",
        "    loss_fn = CrossEntropyLoss()\n",
        "    input_len = input_ids.shape[-1] - 1\n",
        "    input_ids_without_first_token = input_ids[:, 1:]\n",
        "    logits_without_last_token = logits[:, :-1, :]\n",
        "    loss = loss_fn(logits_without_last_token.view(-1, logits.size(-1)), input_ids_without_first_token.view(-1))\n",
        "    return loss\n",
        "\n",
        "def compute_confidence(ce_loss):\n",
        "    conf = math.exp(-1 * ce_loss)\n",
        "    return math.log(conf / (1-conf))"
      ]
    },
    {
      "cell_type": "code",
      "execution_count": 25,
      "metadata": {
        "id": "A7BMrQzq1Q6N"
      },
      "outputs": [],
      "source": [
        "def chunks_this_model(mid):\n",
        "  # Get chunks w/ this model ID\n",
        "  inc = []\n",
        "  outc = []\n",
        "  for i in range(mid, mid+6):\n",
        "    inc.append((i) % 12)\n",
        "  for i in range(N):\n",
        "    if i not in inc:\n",
        "      outc.append(i)\n",
        "  return (inc, outc)"
      ]
    },
    {
      "cell_type": "code",
      "execution_count": null,
      "metadata": {
        "colab": {
          "base_uri": "https://localhost:8080/"
        },
        "id": "K6oljsgs1S3A",
        "outputId": "50b4bb7a-86b0-45c9-a5de-d7ce2433f39b"
      },
      "outputs": [],
      "source": [
        "# Briefly, this is what this method does:\n",
        "# Because it's too time consuming to load models in and out of memory, and not enough RAM to keep all of them there, it loads in one model at a time, does all evaluations\n",
        "# for that model, and continues. \n",
        "# initializes an array for every data point that contains an array of confidences for IN, OUT, and then target CONF. Only compute target CONF when that example has never been seen before. \n",
        "\n",
        "# Load a model into GPU RAM\n",
        "example_data = [[] for i in range(len(data_chunks))]\n",
        "all_arr = [f\"./lira_new/pythia-70m-shadow-{i}\" for i in range(N)]\n",
        "target_model = GPTNeoXForCausalLM.from_pretrained(f\"./lira_new/pythia-70m-base\").to(device)\n",
        "\n",
        "# Run all points on it\n",
        "for i, path in enumerate(all_arr):\n",
        "  print(f\"Loading {i} / {path}\")\n",
        "  t_model = GPTNeoXForCausalLM.from_pretrained(path).to(device)\n",
        "  # Get chunks\n",
        "  inc, outc = chunks_this_model(i)\n",
        "\n",
        "  for c in inc:\n",
        "    print(f\" - inc {c}\")\n",
        "    if len(example_data[c]) == 0:\n",
        "      for example in data_chunks[c]:\n",
        "        # IN MODEL\n",
        "        ce_loss = compute_ce_loss(t_model, tokenizer, example)\n",
        "        conf = compute_confidence(ce_loss)\n",
        "\n",
        "        # TARGET\n",
        "        target_ce_loss = compute_ce_loss(target_model, tokenizer, example)\n",
        "        targ_conf = compute_confidence(target_ce_loss)\n",
        "        example_data[c].append([[conf], [], targ_conf])\n",
        "        # print(f\"{conf} / {targ_conf}\")\n",
        "    else:\n",
        "      for i, example in enumerate(data_chunks[c]):\n",
        "        # IN MODEL\n",
        "        ce_loss = compute_ce_loss(t_model, tokenizer, example)\n",
        "        conf = compute_confidence(ce_loss)\n",
        "        example_data[c][i][0].append(conf)\n",
        "  \n",
        "  for c in outc:\n",
        "    print(f\" - outc {c}\")\n",
        "    if len(example_data[c]) == 0:\n",
        "      for example in data_chunks[c]:\n",
        "        # OUT MODEL\n",
        "        ce_loss = compute_ce_loss(t_model, tokenizer, example)\n",
        "        conf = compute_confidence(ce_loss)\n",
        "\n",
        "        # TARGET\n",
        "        target_ce_loss = compute_ce_loss(target_model, tokenizer, example)\n",
        "        targ_conf = compute_confidence(target_ce_loss)\n",
        "        example_data[c].append([[], [conf], targ_conf])\n",
        "        # print(f\"{conf} / {targ_conf}\")\n",
        "    else:\n",
        "      for i, example in enumerate(data_chunks[c]):\n",
        "        # OUT MODEL\n",
        "        ce_loss = compute_ce_loss(t_model, tokenizer, example)\n",
        "        conf = compute_confidence(ce_loss)\n",
        "        example_data[c][i][1].append(conf)\n",
        "\n",
        "  del t_model\n",
        "  torch.cuda.empty_cache()"
      ]
    },
    {
      "cell_type": "code",
      "execution_count": null,
      "metadata": {
        "colab": {
          "base_uri": "https://localhost:8080/"
        },
        "id": "jJR8N3Ct1Uh4",
        "outputId": "06a27de9-8c92-4812-cf1f-2e4ceb2b01f2"
      },
      "outputs": [],
      "source": [
        "from scipy import stats\n",
        "\n",
        "results = []\n",
        "\n",
        "for c_num, c in enumerate(example_data):\n",
        "  for e, i in enumerate(c):\n",
        "    mu_target = i[2]\n",
        "    mu_in = np.mean(i[0])\n",
        "    std_in = np.std(i[0])\n",
        "    mu_out = np.mean(i[1])\n",
        "    std_out = np.std(i[1])\n",
        "    \n",
        "    likelihood_in = stats.norm.pdf(mu_target, mu_in, std_in)\n",
        "    likelihood_out = stats.norm.pdf(mu_target, mu_out, std_out)\n",
        "    lira = likelihood_in / likelihood_out\n",
        "\n",
        "    # There can be a tiny few LiRa's so high they go out of fp64 precision. Catch them here. \n",
        "    if np.isnan(lira) or np.isinf(lira):\n",
        "      print(\"Nan\")\n",
        "      continue\n",
        "\n",
        "    in_true_model = c_num >= 0 and c_num < N/2\n",
        "    results.append((likelihood_in,likelihood_out,lira,in_true_model))\n",
        "\n",
        "    \n",
        "    if e % 20 == 0:\n",
        "      print(f\"Numbers: {i} \\nMuIn:{mu_in} / StdIn:{std_in}\\nMuOut:{mu_out} / Std_Out:{std_out}\\nLR:{lira}\\nIn True Model? {in_true_model}\\n ------- \\n\")\n",
        "\n",
        "with open(\"./lira_new/lira.pickle\",\"wb\") as f:\n",
        "    pickle.dump(results,f)"
      ]
    },
    {
      "cell_type": "code",
      "execution_count": 37,
      "metadata": {
        "colab": {
          "base_uri": "https://localhost:8080/",
          "height": 476
        },
        "id": "zhFHYAbR4aWg",
        "outputId": "76df29ef-7714-4a72-edfb-5fc476b38221"
      },
      "outputs": [
        {
          "data": {
            "image/png": "[encoded data removed]",
            "text/plain": [
              "<Figure size 640x480 with 1 Axes>"
            ]
          },
          "metadata": {},
          "output_type": "display_data"
        }
      ],
      "source": [
        "with open(\"./lira_new/lira.pickle\",\"rb\") as f:\n",
        "    results = pickle.load(f)\n",
        "# Generate ROC curve \n",
        "fpr, tpr, thresholds = roc_curve([int(result[3]) for result in results], [result[2] for result in results])\n",
        "roc_auc = auc(fpr, tpr)\n",
        "plt.figure()\n",
        "plt.loglog(fpr, tpr, color='darkorange', label='ROC curve (area = %0.3f)' % roc_auc)\n",
        "plt.plot([0, 1], [0, 1], color='navy', linestyle='--')\n",
        "plt.title(f\"Pythia-{mod_size} Shadow Models LiRa ROC\")\n",
        "plt.legend(loc=\"lower right\")\n",
        "plt.xlabel('False Positive Rate')\n",
        "plt.ylabel('True Positive Rate')\n",
        "plt.show()"
      ]
    },
    {
      "cell_type": "code",
      "execution_count": 39,
      "metadata": {
        "colab": {
          "base_uri": "https://localhost:8080/",
          "height": 472
        },
        "id": "sspUAu034dZQ",
        "outputId": "0d3c5d72-ac4c-480f-d8a6-e24aff863589"
      },
      "outputs": [
        {
          "data": {
            "image/png": "[encoded data removed]",
            "text/plain": [
              "<Figure size 640x480 with 1 Axes>"
            ]
          },
          "metadata": {},
          "output_type": "display_data"
        }
      ],
      "source": [
        "plt.figure()\n",
        "plt.plot(fpr, tpr, color='darkorange', label='ROC curve (area = %0.3f)' % roc_auc)\n",
        "plt.plot([0, 1], [0, 1], color='navy', linestyle='--')\n",
        "plt.title(f\"Pythia-{mod_size} Shadow Models LiRa ROC\")\n",
        "plt.legend(loc=\"lower right\")\n",
        "plt.xlabel('False Positive Rate')\n",
        "plt.ylabel('True Positive Rate')\n",
        "plt.show()"
      ]
    },
    {
      "cell_type": "code",
      "execution_count": null,
      "metadata": {
        "id": "MxNlZDZuO6Pf"
      },
      "outputs": [],
      "source": []
    }
  ],
  "metadata": {
    "accelerator": "GPU",
    "colab": {
      "provenance": []
    },
    "gpuClass": "premium",
    "kernelspec": {
      "display_name": "Python 3",
      "name": "python3"
    },
    "language_info": {
      "name": "python"
    },
    "widgets": {
      "application/vnd.jupyter.widget-state+json": {
        "01f78de274b94050a97a6bfda7ee0c30": {
          "model_module": "@jupyter-widgets/controls",
          "model_module_version": "1.5.0",
          "model_name": "FloatProgressModel",
          "state": {
            "_dom_classes": [],
            "_model_module": "@jupyter-widgets/controls",
            "_model_module_version": "1.5.0",
            "_model_name": "FloatProgressModel",
            "_view_count": null,
            "_view_module": "@jupyter-widgets/controls",
            "_view_module_version": "1.5.0",
            "_view_name": "ProgressView",
            "bar_style": "success",
            "description": "",
            "description_tooltip": null,
            "layout": "IPY_MODEL_47b906b83f004ac8ae07dd6285e08b77",
            "max": 567,
            "min": 0,
            "orientation": "horizontal",
            "style": "IPY_MODEL_6500592abaed4d558f35cd9d9ed57a9f",
            "value": 567
          }
        },
        "0deef3c98d89426eaf52b73dc15f65a5": {
          "model_module": "@jupyter-widgets/controls",
          "model_module_version": "1.5.0",
          "model_name": "HTMLModel",
          "state": {
            "_dom_classes": [],
            "_model_module": "@jupyter-widgets/controls",
            "_model_module_version": "1.5.0",
            "_model_name": "HTMLModel",
            "_view_count": null,
            "_view_module": "@jupyter-widgets/controls",
            "_view_module_version": "1.5.0",
            "_view_name": "HTMLView",
            "description": "",
            "description_tooltip": null,
            "layout": "IPY_MODEL_6709062a26054d1c884ff4d1de388469",
            "placeholder": "​",
            "style": "IPY_MODEL_4b0c8f955cc841ed854ce22b486f94e6",
            "value": "Downloading (…)ep143000/config.json: 100%"
          }
        },
        "1a440e9880fb41b3bf1ff96034161337": {
          "model_module": "@jupyter-widgets/controls",
          "model_module_version": "1.5.0",
          "model_name": "HBoxModel",
          "state": {
            "_dom_classes": [],
            "_model_module": "@jupyter-widgets/controls",
            "_model_module_version": "1.5.0",
            "_model_name": "HBoxModel",
            "_view_count": null,
            "_view_module": "@jupyter-widgets/controls",
            "_view_module_version": "1.5.0",
            "_view_name": "HBoxView",
            "box_style": "",
            "children": [
              "IPY_MODEL_4b70600db93c4e869b3e07677c5d892d",
              "IPY_MODEL_7194bc7fbfc84dbca3a3afbd278a83e6",
              "IPY_MODEL_6309a34c4b1644e091ab5d03b61f4bef"
            ],
            "layout": "IPY_MODEL_2f0e504e927d4259849037e5f0dc0abf"
          }
        },
        "1ebaa94c3bf141e08b534ba7bfcefb8e": {
          "model_module": "@jupyter-widgets/controls",
          "model_module_version": "1.5.0",
          "model_name": "FloatProgressModel",
          "state": {
            "_dom_classes": [],
            "_model_module": "@jupyter-widgets/controls",
            "_model_module_version": "1.5.0",
            "_model_name": "FloatProgressModel",
            "_view_count": null,
            "_view_module": "@jupyter-widgets/controls",
            "_view_module_version": "1.5.0",
            "_view_name": "ProgressView",
            "bar_style": "success",
            "description": "",
            "description_tooltip": null,
            "layout": "IPY_MODEL_b0a3148dd86c4216b5cb881549581f1d",
            "max": 166049099,
            "min": 0,
            "orientation": "horizontal",
            "style": "IPY_MODEL_bfd2beb5276849ea985702261d91b02a",
            "value": 166049099
          }
        },
        "219474fa28314d558c058f0a21d060d6": {
          "model_module": "@jupyter-widgets/controls",
          "model_module_version": "1.5.0",
          "model_name": "HTMLModel",
          "state": {
            "_dom_classes": [],
            "_model_module": "@jupyter-widgets/controls",
            "_model_module_version": "1.5.0",
            "_model_name": "HTMLModel",
            "_view_count": null,
            "_view_module": "@jupyter-widgets/controls",
            "_view_module_version": "1.5.0",
            "_view_name": "HTMLView",
            "description": "",
            "description_tooltip": null,
            "layout": "IPY_MODEL_a1727b5cbed04cf6b25cf08f57a40a79",
            "placeholder": "​",
            "style": "IPY_MODEL_602de73ad1d4435d8942e4d44626c0e9",
            "value": "Generating validation split: "
          }
        },
        "22e005f8266248059b7e4c51b3328fc4": {
          "model_module": "@jupyter-widgets/controls",
          "model_module_version": "1.5.0",
          "model_name": "ProgressStyleModel",
          "state": {
            "_model_module": "@jupyter-widgets/controls",
            "_model_module_version": "1.5.0",
            "_model_name": "ProgressStyleModel",
            "_view_count": null,
            "_view_module": "@jupyter-widgets/base",
            "_view_module_version": "1.2.0",
            "_view_name": "StyleView",
            "bar_color": null,
            "description_width": ""
          }
        },
        "2995d6679a47426ea08b1b7d7fc312ce": {
          "model_module": "@jupyter-widgets/controls",
          "model_module_version": "1.5.0",
          "model_name": "DescriptionStyleModel",
          "state": {
            "_model_module": "@jupyter-widgets/controls",
            "_model_module_version": "1.5.0",
            "_model_name": "DescriptionStyleModel",
            "_view_count": null,
            "_view_module": "@jupyter-widgets/base",
            "_view_module_version": "1.2.0",
            "_view_name": "StyleView",
            "description_width": ""
          }
        },
        "2db511eef807486fbfa729e014e0a5ec": {
          "model_module": "@jupyter-widgets/base",
          "model_module_version": "1.2.0",
          "model_name": "LayoutModel",
          "state": {
            "_model_module": "@jupyter-widgets/base",
            "_model_module_version": "1.2.0",
            "_model_name": "LayoutModel",
            "_view_count": null,
            "_view_module": "@jupyter-widgets/base",
            "_view_module_version": "1.2.0",
            "_view_name": "LayoutView",
            "align_content": null,
            "align_items": null,
            "align_self": null,
            "border": null,
            "bottom": null,
            "display": null,
            "flex": null,
            "flex_flow": null,
            "grid_area": null,
            "grid_auto_columns": null,
            "grid_auto_flow": null,
            "grid_auto_rows": null,
            "grid_column": null,
            "grid_gap": null,
            "grid_row": null,
            "grid_template_areas": null,
            "grid_template_columns": null,
            "grid_template_rows": null,
            "height": null,
            "justify_content": null,
            "justify_items": null,
            "left": null,
            "margin": null,
            "max_height": null,
            "max_width": null,
            "min_height": null,
            "min_width": null,
            "object_fit": null,
            "object_position": null,
            "order": null,
            "overflow": null,
            "overflow_x": null,
            "overflow_y": null,
            "padding": null,
            "right": null,
            "top": null,
            "visibility": "hidden",
            "width": null
          }
        },
        "2f0e504e927d4259849037e5f0dc0abf": {
          "model_module": "@jupyter-widgets/base",
          "model_module_version": "1.2.0",
          "model_name": "LayoutModel",
          "state": {
            "_model_module": "@jupyter-widgets/base",
            "_model_module_version": "1.2.0",
            "_model_name": "LayoutModel",
            "_view_count": null,
            "_view_module": "@jupyter-widgets/base",
            "_view_module_version": "1.2.0",
            "_view_name": "LayoutView",
            "align_content": null,
            "align_items": null,
            "align_self": null,
            "border": null,
            "bottom": null,
            "display": null,
            "flex": null,
            "flex_flow": null,
            "grid_area": null,
            "grid_auto_columns": null,
            "grid_auto_flow": null,
            "grid_auto_rows": null,
            "grid_column": null,
            "grid_gap": null,
            "grid_row": null,
            "grid_template_areas": null,
            "grid_template_columns": null,
            "grid_template_rows": null,
            "height": null,
            "justify_content": null,
            "justify_items": null,
            "left": null,
            "margin": null,
            "max_height": null,
            "max_width": null,
            "min_height": null,
            "min_width": null,
            "object_fit": null,
            "object_position": null,
            "order": null,
            "overflow": null,
            "overflow_x": null,
            "overflow_y": null,
            "padding": null,
            "right": null,
            "top": null,
            "visibility": null,
            "width": null
          }
        },
        "3e3ef67bfb39496895cd034bec27bc86": {
          "model_module": "@jupyter-widgets/base",
          "model_module_version": "1.2.0",
          "model_name": "LayoutModel",
          "state": {
            "_model_module": "@jupyter-widgets/base",
            "_model_module_version": "1.2.0",
            "_model_name": "LayoutModel",
            "_view_count": null,
            "_view_module": "@jupyter-widgets/base",
            "_view_module_version": "1.2.0",
            "_view_name": "LayoutView",
            "align_content": null,
            "align_items": null,
            "align_self": null,
            "border": null,
            "bottom": null,
            "display": null,
            "flex": null,
            "flex_flow": null,
            "grid_area": null,
            "grid_auto_columns": null,
            "grid_auto_flow": null,
            "grid_auto_rows": null,
            "grid_column": null,
            "grid_gap": null,
            "grid_row": null,
            "grid_template_areas": null,
            "grid_template_columns": null,
            "grid_template_rows": null,
            "height": null,
            "justify_content": null,
            "justify_items": null,
            "left": null,
            "margin": null,
            "max_height": null,
            "max_width": null,
            "min_height": null,
            "min_width": null,
            "object_fit": null,
            "object_position": null,
            "order": null,
            "overflow": null,
            "overflow_x": null,
            "overflow_y": null,
            "padding": null,
            "right": null,
            "top": null,
            "visibility": null,
            "width": null
          }
        },
        "4154050870154b73944b0fe6a694ca78": {
          "model_module": "@jupyter-widgets/controls",
          "model_module_version": "1.5.0",
          "model_name": "HBoxModel",
          "state": {
            "_dom_classes": [],
            "_model_module": "@jupyter-widgets/controls",
            "_model_module_version": "1.5.0",
            "_model_name": "HBoxModel",
            "_view_count": null,
            "_view_module": "@jupyter-widgets/controls",
            "_view_module_version": "1.5.0",
            "_view_name": "HBoxView",
            "box_style": "",
            "children": [
              "IPY_MODEL_219474fa28314d558c058f0a21d060d6",
              "IPY_MODEL_b38f1c0b464340de842b6da52e6780be",
              "IPY_MODEL_a7bcd428d2de43e888ba0ff652263cbb"
            ],
            "layout": "IPY_MODEL_2db511eef807486fbfa729e014e0a5ec"
          }
        },
        "47b906b83f004ac8ae07dd6285e08b77": {
          "model_module": "@jupyter-widgets/base",
          "model_module_version": "1.2.0",
          "model_name": "LayoutModel",
          "state": {
            "_model_module": "@jupyter-widgets/base",
            "_model_module_version": "1.2.0",
            "_model_name": "LayoutModel",
            "_view_count": null,
            "_view_module": "@jupyter-widgets/base",
            "_view_module_version": "1.2.0",
            "_view_name": "LayoutView",
            "align_content": null,
            "align_items": null,
            "align_self": null,
            "border": null,
            "bottom": null,
            "display": null,
            "flex": null,
            "flex_flow": null,
            "grid_area": null,
            "grid_auto_columns": null,
            "grid_auto_flow": null,
            "grid_auto_rows": null,
            "grid_column": null,
            "grid_gap": null,
            "grid_row": null,
            "grid_template_areas": null,
            "grid_template_columns": null,
            "grid_template_rows": null,
            "height": null,
            "justify_content": null,
            "justify_items": null,
            "left": null,
            "margin": null,
            "max_height": null,
            "max_width": null,
            "min_height": null,
            "min_width": null,
            "object_fit": null,
            "object_position": null,
            "order": null,
            "overflow": null,
            "overflow_x": null,
            "overflow_y": null,
            "padding": null,
            "right": null,
            "top": null,
            "visibility": null,
            "width": null
          }
        },
        "4b0c8f955cc841ed854ce22b486f94e6": {
          "model_module": "@jupyter-widgets/controls",
          "model_module_version": "1.5.0",
          "model_name": "DescriptionStyleModel",
          "state": {
            "_model_module": "@jupyter-widgets/controls",
            "_model_module_version": "1.5.0",
            "_model_name": "DescriptionStyleModel",
            "_view_count": null,
            "_view_module": "@jupyter-widgets/base",
            "_view_module_version": "1.2.0",
            "_view_name": "StyleView",
            "description_width": ""
          }
        },
        "4b2c017bb64b44e08dbd96d5f888f9e7": {
          "model_module": "@jupyter-widgets/controls",
          "model_module_version": "1.5.0",
          "model_name": "DescriptionStyleModel",
          "state": {
            "_model_module": "@jupyter-widgets/controls",
            "_model_module_version": "1.5.0",
            "_model_name": "DescriptionStyleModel",
            "_view_count": null,
            "_view_module": "@jupyter-widgets/base",
            "_view_module_version": "1.2.0",
            "_view_name": "StyleView",
            "description_width": ""
          }
        },
        "4b70600db93c4e869b3e07677c5d892d": {
          "model_module": "@jupyter-widgets/controls",
          "model_module_version": "1.5.0",
          "model_name": "HTMLModel",
          "state": {
            "_dom_classes": [],
            "_model_module": "@jupyter-widgets/controls",
            "_model_module_version": "1.5.0",
            "_model_name": "HTMLModel",
            "_view_count": null,
            "_view_module": "@jupyter-widgets/controls",
            "_view_module_version": "1.5.0",
            "_view_name": "HTMLView",
            "description": "",
            "description_tooltip": null,
            "layout": "IPY_MODEL_64d69cf98c02495ea4ae37ed70658c75",
            "placeholder": "​",
            "style": "IPY_MODEL_c45bca8d470f4f5089b2fea286550502",
            "value": "Downloading data files: 100%"
          }
        },
        "5aebe37619ae48c991ff07381fa34899": {
          "model_module": "@jupyter-widgets/base",
          "model_module_version": "1.2.0",
          "model_name": "LayoutModel",
          "state": {
            "_model_module": "@jupyter-widgets/base",
            "_model_module_version": "1.2.0",
            "_model_name": "LayoutModel",
            "_view_count": null,
            "_view_module": "@jupyter-widgets/base",
            "_view_module_version": "1.2.0",
            "_view_name": "LayoutView",
            "align_content": null,
            "align_items": null,
            "align_self": null,
            "border": null,
            "bottom": null,
            "display": null,
            "flex": null,
            "flex_flow": null,
            "grid_area": null,
            "grid_auto_columns": null,
            "grid_auto_flow": null,
            "grid_auto_rows": null,
            "grid_column": null,
            "grid_gap": null,
            "grid_row": null,
            "grid_template_areas": null,
            "grid_template_columns": null,
            "grid_template_rows": null,
            "height": null,
            "justify_content": null,
            "justify_items": null,
            "left": null,
            "margin": null,
            "max_height": null,
            "max_width": null,
            "min_height": null,
            "min_width": null,
            "object_fit": null,
            "object_position": null,
            "order": null,
            "overflow": null,
            "overflow_x": null,
            "overflow_y": null,
            "padding": null,
            "right": null,
            "top": null,
            "visibility": null,
            "width": "20px"
          }
        },
        "602de73ad1d4435d8942e4d44626c0e9": {
          "model_module": "@jupyter-widgets/controls",
          "model_module_version": "1.5.0",
          "model_name": "DescriptionStyleModel",
          "state": {
            "_model_module": "@jupyter-widgets/controls",
            "_model_module_version": "1.5.0",
            "_model_name": "DescriptionStyleModel",
            "_view_count": null,
            "_view_module": "@jupyter-widgets/base",
            "_view_module_version": "1.2.0",
            "_view_name": "StyleView",
            "description_width": ""
          }
        },
        "6309a34c4b1644e091ab5d03b61f4bef": {
          "model_module": "@jupyter-widgets/controls",
          "model_module_version": "1.5.0",
          "model_name": "HTMLModel",
          "state": {
            "_dom_classes": [],
            "_model_module": "@jupyter-widgets/controls",
            "_model_module_version": "1.5.0",
            "_model_name": "HTMLModel",
            "_view_count": null,
            "_view_module": "@jupyter-widgets/controls",
            "_view_module_version": "1.5.0",
            "_view_name": "HTMLView",
            "description": "",
            "description_tooltip": null,
            "layout": "IPY_MODEL_68231997b8174da6be756aed71e2f32c",
            "placeholder": "​",
            "style": "IPY_MODEL_4b2c017bb64b44e08dbd96d5f888f9e7",
            "value": " 1/1 [00:00&lt;00:00, 92.00it/s]"
          }
        },
        "64d69cf98c02495ea4ae37ed70658c75": {
          "model_module": "@jupyter-widgets/base",
          "model_module_version": "1.2.0",
          "model_name": "LayoutModel",
          "state": {
            "_model_module": "@jupyter-widgets/base",
            "_model_module_version": "1.2.0",
            "_model_name": "LayoutModel",
            "_view_count": null,
            "_view_module": "@jupyter-widgets/base",
            "_view_module_version": "1.2.0",
            "_view_name": "LayoutView",
            "align_content": null,
            "align_items": null,
            "align_self": null,
            "border": null,
            "bottom": null,
            "display": null,
            "flex": null,
            "flex_flow": null,
            "grid_area": null,
            "grid_auto_columns": null,
            "grid_auto_flow": null,
            "grid_auto_rows": null,
            "grid_column": null,
            "grid_gap": null,
            "grid_row": null,
            "grid_template_areas": null,
            "grid_template_columns": null,
            "grid_template_rows": null,
            "height": null,
            "justify_content": null,
            "justify_items": null,
            "left": null,
            "margin": null,
            "max_height": null,
            "max_width": null,
            "min_height": null,
            "min_width": null,
            "object_fit": null,
            "object_position": null,
            "order": null,
            "overflow": null,
            "overflow_x": null,
            "overflow_y": null,
            "padding": null,
            "right": null,
            "top": null,
            "visibility": null,
            "width": null
          }
        },
        "6500592abaed4d558f35cd9d9ed57a9f": {
          "model_module": "@jupyter-widgets/controls",
          "model_module_version": "1.5.0",
          "model_name": "ProgressStyleModel",
          "state": {
            "_model_module": "@jupyter-widgets/controls",
            "_model_module_version": "1.5.0",
            "_model_name": "ProgressStyleModel",
            "_view_count": null,
            "_view_module": "@jupyter-widgets/base",
            "_view_module_version": "1.2.0",
            "_view_name": "StyleView",
            "bar_color": null,
            "description_width": ""
          }
        },
        "6709062a26054d1c884ff4d1de388469": {
          "model_module": "@jupyter-widgets/base",
          "model_module_version": "1.2.0",
          "model_name": "LayoutModel",
          "state": {
            "_model_module": "@jupyter-widgets/base",
            "_model_module_version": "1.2.0",
            "_model_name": "LayoutModel",
            "_view_count": null,
            "_view_module": "@jupyter-widgets/base",
            "_view_module_version": "1.2.0",
            "_view_name": "LayoutView",
            "align_content": null,
            "align_items": null,
            "align_self": null,
            "border": null,
            "bottom": null,
            "display": null,
            "flex": null,
            "flex_flow": null,
            "grid_area": null,
            "grid_auto_columns": null,
            "grid_auto_flow": null,
            "grid_auto_rows": null,
            "grid_column": null,
            "grid_gap": null,
            "grid_row": null,
            "grid_template_areas": null,
            "grid_template_columns": null,
            "grid_template_rows": null,
            "height": null,
            "justify_content": null,
            "justify_items": null,
            "left": null,
            "margin": null,
            "max_height": null,
            "max_width": null,
            "min_height": null,
            "min_width": null,
            "object_fit": null,
            "object_position": null,
            "order": null,
            "overflow": null,
            "overflow_x": null,
            "overflow_y": null,
            "padding": null,
            "right": null,
            "top": null,
            "visibility": null,
            "width": null
          }
        },
        "68231997b8174da6be756aed71e2f32c": {
          "model_module": "@jupyter-widgets/base",
          "model_module_version": "1.2.0",
          "model_name": "LayoutModel",
          "state": {
            "_model_module": "@jupyter-widgets/base",
            "_model_module_version": "1.2.0",
            "_model_name": "LayoutModel",
            "_view_count": null,
            "_view_module": "@jupyter-widgets/base",
            "_view_module_version": "1.2.0",
            "_view_name": "LayoutView",
            "align_content": null,
            "align_items": null,
            "align_self": null,
            "border": null,
            "bottom": null,
            "display": null,
            "flex": null,
            "flex_flow": null,
            "grid_area": null,
            "grid_auto_columns": null,
            "grid_auto_flow": null,
            "grid_auto_rows": null,
            "grid_column": null,
            "grid_gap": null,
            "grid_row": null,
            "grid_template_areas": null,
            "grid_template_columns": null,
            "grid_template_rows": null,
            "height": null,
            "justify_content": null,
            "justify_items": null,
            "left": null,
            "margin": null,
            "max_height": null,
            "max_width": null,
            "min_height": null,
            "min_width": null,
            "object_fit": null,
            "object_position": null,
            "order": null,
            "overflow": null,
            "overflow_x": null,
            "overflow_y": null,
            "padding": null,
            "right": null,
            "top": null,
            "visibility": null,
            "width": null
          }
        },
        "6f8233fbb2dd49b88623fef1d1784373": {
          "model_module": "@jupyter-widgets/base",
          "model_module_version": "1.2.0",
          "model_name": "LayoutModel",
          "state": {
            "_model_module": "@jupyter-widgets/base",
            "_model_module_version": "1.2.0",
            "_model_name": "LayoutModel",
            "_view_count": null,
            "_view_module": "@jupyter-widgets/base",
            "_view_module_version": "1.2.0",
            "_view_name": "LayoutView",
            "align_content": null,
            "align_items": null,
            "align_self": null,
            "border": null,
            "bottom": null,
            "display": null,
            "flex": null,
            "flex_flow": null,
            "grid_area": null,
            "grid_auto_columns": null,
            "grid_auto_flow": null,
            "grid_auto_rows": null,
            "grid_column": null,
            "grid_gap": null,
            "grid_row": null,
            "grid_template_areas": null,
            "grid_template_columns": null,
            "grid_template_rows": null,
            "height": null,
            "justify_content": null,
            "justify_items": null,
            "left": null,
            "margin": null,
            "max_height": null,
            "max_width": null,
            "min_height": null,
            "min_width": null,
            "object_fit": null,
            "object_position": null,
            "order": null,
            "overflow": null,
            "overflow_x": null,
            "overflow_y": null,
            "padding": null,
            "right": null,
            "top": null,
            "visibility": null,
            "width": null
          }
        },
        "7194bc7fbfc84dbca3a3afbd278a83e6": {
          "model_module": "@jupyter-widgets/controls",
          "model_module_version": "1.5.0",
          "model_name": "FloatProgressModel",
          "state": {
            "_dom_classes": [],
            "_model_module": "@jupyter-widgets/controls",
            "_model_module_version": "1.5.0",
            "_model_name": "FloatProgressModel",
            "_view_count": null,
            "_view_module": "@jupyter-widgets/controls",
            "_view_module_version": "1.5.0",
            "_view_name": "ProgressView",
            "bar_style": "success",
            "description": "",
            "description_tooltip": null,
            "layout": "IPY_MODEL_8f46dc969cc54b3baa79892941e223b4",
            "max": 1,
            "min": 0,
            "orientation": "horizontal",
            "style": "IPY_MODEL_cd47b96dcc6546d2a204895853b8b120",
            "value": 1
          }
        },
        "763677e7b26c4e8094c62899a289636c": {
          "model_module": "@jupyter-widgets/controls",
          "model_module_version": "1.5.0",
          "model_name": "HTMLModel",
          "state": {
            "_dom_classes": [],
            "_model_module": "@jupyter-widgets/controls",
            "_model_module_version": "1.5.0",
            "_model_name": "HTMLModel",
            "_view_count": null,
            "_view_module": "@jupyter-widgets/controls",
            "_view_module_version": "1.5.0",
            "_view_name": "HTMLView",
            "description": "",
            "description_tooltip": null,
            "layout": "IPY_MODEL_ec278bc3c0df4dae9a8d1ac4ac05832b",
            "placeholder": "​",
            "style": "IPY_MODEL_88c5aa008994424cafdcabbc4ca50635",
            "value": " 166M/166M [00:01&lt;00:00, 103MB/s]"
          }
        },
        "840bdba473f8413b8e7a3d575eb02d94": {
          "model_module": "@jupyter-widgets/controls",
          "model_module_version": "1.5.0",
          "model_name": "HTMLModel",
          "state": {
            "_dom_classes": [],
            "_model_module": "@jupyter-widgets/controls",
            "_model_module_version": "1.5.0",
            "_model_name": "HTMLModel",
            "_view_count": null,
            "_view_module": "@jupyter-widgets/controls",
            "_view_module_version": "1.5.0",
            "_view_name": "HTMLView",
            "description": "",
            "description_tooltip": null,
            "layout": "IPY_MODEL_cc454b4b9058476494547a64677221ba",
            "placeholder": "​",
            "style": "IPY_MODEL_c799559cbc284aed88b81093bcd9ed41",
            "value": " 567/567 [00:00&lt;00:00, 49.2kB/s]"
          }
        },
        "88c5aa008994424cafdcabbc4ca50635": {
          "model_module": "@jupyter-widgets/controls",
          "model_module_version": "1.5.0",
          "model_name": "DescriptionStyleModel",
          "state": {
            "_model_module": "@jupyter-widgets/controls",
            "_model_module_version": "1.5.0",
            "_model_name": "DescriptionStyleModel",
            "_view_count": null,
            "_view_module": "@jupyter-widgets/base",
            "_view_module_version": "1.2.0",
            "_view_name": "StyleView",
            "description_width": ""
          }
        },
        "8f46dc969cc54b3baa79892941e223b4": {
          "model_module": "@jupyter-widgets/base",
          "model_module_version": "1.2.0",
          "model_name": "LayoutModel",
          "state": {
            "_model_module": "@jupyter-widgets/base",
            "_model_module_version": "1.2.0",
            "_model_name": "LayoutModel",
            "_view_count": null,
            "_view_module": "@jupyter-widgets/base",
            "_view_module_version": "1.2.0",
            "_view_name": "LayoutView",
            "align_content": null,
            "align_items": null,
            "align_self": null,
            "border": null,
            "bottom": null,
            "display": null,
            "flex": null,
            "flex_flow": null,
            "grid_area": null,
            "grid_auto_columns": null,
            "grid_auto_flow": null,
            "grid_auto_rows": null,
            "grid_column": null,
            "grid_gap": null,
            "grid_row": null,
            "grid_template_areas": null,
            "grid_template_columns": null,
            "grid_template_rows": null,
            "height": null,
            "justify_content": null,
            "justify_items": null,
            "left": null,
            "margin": null,
            "max_height": null,
            "max_width": null,
            "min_height": null,
            "min_width": null,
            "object_fit": null,
            "object_position": null,
            "order": null,
            "overflow": null,
            "overflow_x": null,
            "overflow_y": null,
            "padding": null,
            "right": null,
            "top": null,
            "visibility": null,
            "width": null
          }
        },
        "a1727b5cbed04cf6b25cf08f57a40a79": {
          "model_module": "@jupyter-widgets/base",
          "model_module_version": "1.2.0",
          "model_name": "LayoutModel",
          "state": {
            "_model_module": "@jupyter-widgets/base",
            "_model_module_version": "1.2.0",
            "_model_name": "LayoutModel",
            "_view_count": null,
            "_view_module": "@jupyter-widgets/base",
            "_view_module_version": "1.2.0",
            "_view_name": "LayoutView",
            "align_content": null,
            "align_items": null,
            "align_self": null,
            "border": null,
            "bottom": null,
            "display": null,
            "flex": null,
            "flex_flow": null,
            "grid_area": null,
            "grid_auto_columns": null,
            "grid_auto_flow": null,
            "grid_auto_rows": null,
            "grid_column": null,
            "grid_gap": null,
            "grid_row": null,
            "grid_template_areas": null,
            "grid_template_columns": null,
            "grid_template_rows": null,
            "height": null,
            "justify_content": null,
            "justify_items": null,
            "left": null,
            "margin": null,
            "max_height": null,
            "max_width": null,
            "min_height": null,
            "min_width": null,
            "object_fit": null,
            "object_position": null,
            "order": null,
            "overflow": null,
            "overflow_x": null,
            "overflow_y": null,
            "padding": null,
            "right": null,
            "top": null,
            "visibility": null,
            "width": null
          }
        },
        "a7bcd428d2de43e888ba0ff652263cbb": {
          "model_module": "@jupyter-widgets/controls",
          "model_module_version": "1.5.0",
          "model_name": "HTMLModel",
          "state": {
            "_dom_classes": [],
            "_model_module": "@jupyter-widgets/controls",
            "_model_module_version": "1.5.0",
            "_model_name": "HTMLModel",
            "_view_count": null,
            "_view_module": "@jupyter-widgets/controls",
            "_view_module_version": "1.5.0",
            "_view_name": "HTMLView",
            "description": "",
            "description_tooltip": null,
            "layout": "IPY_MODEL_bcadf0be031a474ea38b67ae13d26cca",
            "placeholder": "​",
            "style": "IPY_MODEL_2995d6679a47426ea08b1b7d7fc312ce",
            "value": " 213803/0 [00:21&lt;00:00, 10305.92 examples/s]"
          }
        },
        "b0a3148dd86c4216b5cb881549581f1d": {
          "model_module": "@jupyter-widgets/base",
          "model_module_version": "1.2.0",
          "model_name": "LayoutModel",
          "state": {
            "_model_module": "@jupyter-widgets/base",
            "_model_module_version": "1.2.0",
            "_model_name": "LayoutModel",
            "_view_count": null,
            "_view_module": "@jupyter-widgets/base",
            "_view_module_version": "1.2.0",
            "_view_name": "LayoutView",
            "align_content": null,
            "align_items": null,
            "align_self": null,
            "border": null,
            "bottom": null,
            "display": null,
            "flex": null,
            "flex_flow": null,
            "grid_area": null,
            "grid_auto_columns": null,
            "grid_auto_flow": null,
            "grid_auto_rows": null,
            "grid_column": null,
            "grid_gap": null,
            "grid_row": null,
            "grid_template_areas": null,
            "grid_template_columns": null,
            "grid_template_rows": null,
            "height": null,
            "justify_content": null,
            "justify_items": null,
            "left": null,
            "margin": null,
            "max_height": null,
            "max_width": null,
            "min_height": null,
            "min_width": null,
            "object_fit": null,
            "object_position": null,
            "order": null,
            "overflow": null,
            "overflow_x": null,
            "overflow_y": null,
            "padding": null,
            "right": null,
            "top": null,
            "visibility": null,
            "width": null
          }
        },
        "b38f1c0b464340de842b6da52e6780be": {
          "model_module": "@jupyter-widgets/controls",
          "model_module_version": "1.5.0",
          "model_name": "FloatProgressModel",
          "state": {
            "_dom_classes": [],
            "_model_module": "@jupyter-widgets/controls",
            "_model_module_version": "1.5.0",
            "_model_name": "FloatProgressModel",
            "_view_count": null,
            "_view_module": "@jupyter-widgets/controls",
            "_view_module_version": "1.5.0",
            "_view_name": "ProgressView",
            "bar_style": "info",
            "description": "",
            "description_tooltip": null,
            "layout": "IPY_MODEL_5aebe37619ae48c991ff07381fa34899",
            "max": 1,
            "min": 0,
            "orientation": "horizontal",
            "style": "IPY_MODEL_22e005f8266248059b7e4c51b3328fc4",
            "value": 1
          }
        },
        "bc3381b9759f43cf82633a033b9c6830": {
          "model_module": "@jupyter-widgets/controls",
          "model_module_version": "1.5.0",
          "model_name": "HBoxModel",
          "state": {
            "_dom_classes": [],
            "_model_module": "@jupyter-widgets/controls",
            "_model_module_version": "1.5.0",
            "_model_name": "HBoxModel",
            "_view_count": null,
            "_view_module": "@jupyter-widgets/controls",
            "_view_module_version": "1.5.0",
            "_view_name": "HBoxView",
            "box_style": "",
            "children": [
              "IPY_MODEL_c80be69a1c5441a4b5066ed927e3b361",
              "IPY_MODEL_1ebaa94c3bf141e08b534ba7bfcefb8e",
              "IPY_MODEL_763677e7b26c4e8094c62899a289636c"
            ],
            "layout": "IPY_MODEL_6f8233fbb2dd49b88623fef1d1784373"
          }
        },
        "bcadf0be031a474ea38b67ae13d26cca": {
          "model_module": "@jupyter-widgets/base",
          "model_module_version": "1.2.0",
          "model_name": "LayoutModel",
          "state": {
            "_model_module": "@jupyter-widgets/base",
            "_model_module_version": "1.2.0",
            "_model_name": "LayoutModel",
            "_view_count": null,
            "_view_module": "@jupyter-widgets/base",
            "_view_module_version": "1.2.0",
            "_view_name": "LayoutView",
            "align_content": null,
            "align_items": null,
            "align_self": null,
            "border": null,
            "bottom": null,
            "display": null,
            "flex": null,
            "flex_flow": null,
            "grid_area": null,
            "grid_auto_columns": null,
            "grid_auto_flow": null,
            "grid_auto_rows": null,
            "grid_column": null,
            "grid_gap": null,
            "grid_row": null,
            "grid_template_areas": null,
            "grid_template_columns": null,
            "grid_template_rows": null,
            "height": null,
            "justify_content": null,
            "justify_items": null,
            "left": null,
            "margin": null,
            "max_height": null,
            "max_width": null,
            "min_height": null,
            "min_width": null,
            "object_fit": null,
            "object_position": null,
            "order": null,
            "overflow": null,
            "overflow_x": null,
            "overflow_y": null,
            "padding": null,
            "right": null,
            "top": null,
            "visibility": null,
            "width": null
          }
        },
        "bfd2beb5276849ea985702261d91b02a": {
          "model_module": "@jupyter-widgets/controls",
          "model_module_version": "1.5.0",
          "model_name": "ProgressStyleModel",
          "state": {
            "_model_module": "@jupyter-widgets/controls",
            "_model_module_version": "1.5.0",
            "_model_name": "ProgressStyleModel",
            "_view_count": null,
            "_view_module": "@jupyter-widgets/base",
            "_view_module_version": "1.2.0",
            "_view_name": "StyleView",
            "bar_color": null,
            "description_width": ""
          }
        },
        "c1f772ece8d248ba9e42eee7f1538437": {
          "model_module": "@jupyter-widgets/controls",
          "model_module_version": "1.5.0",
          "model_name": "HBoxModel",
          "state": {
            "_dom_classes": [],
            "_model_module": "@jupyter-widgets/controls",
            "_model_module_version": "1.5.0",
            "_model_name": "HBoxModel",
            "_view_count": null,
            "_view_module": "@jupyter-widgets/controls",
            "_view_module_version": "1.5.0",
            "_view_name": "HBoxView",
            "box_style": "",
            "children": [
              "IPY_MODEL_0deef3c98d89426eaf52b73dc15f65a5",
              "IPY_MODEL_01f78de274b94050a97a6bfda7ee0c30",
              "IPY_MODEL_840bdba473f8413b8e7a3d575eb02d94"
            ],
            "layout": "IPY_MODEL_3e3ef67bfb39496895cd034bec27bc86"
          }
        },
        "c45bca8d470f4f5089b2fea286550502": {
          "model_module": "@jupyter-widgets/controls",
          "model_module_version": "1.5.0",
          "model_name": "DescriptionStyleModel",
          "state": {
            "_model_module": "@jupyter-widgets/controls",
            "_model_module_version": "1.5.0",
            "_model_name": "DescriptionStyleModel",
            "_view_count": null,
            "_view_module": "@jupyter-widgets/base",
            "_view_module_version": "1.2.0",
            "_view_name": "StyleView",
            "description_width": ""
          }
        },
        "c799559cbc284aed88b81093bcd9ed41": {
          "model_module": "@jupyter-widgets/controls",
          "model_module_version": "1.5.0",
          "model_name": "DescriptionStyleModel",
          "state": {
            "_model_module": "@jupyter-widgets/controls",
            "_model_module_version": "1.5.0",
            "_model_name": "DescriptionStyleModel",
            "_view_count": null,
            "_view_module": "@jupyter-widgets/base",
            "_view_module_version": "1.2.0",
            "_view_name": "StyleView",
            "description_width": ""
          }
        },
        "c80be69a1c5441a4b5066ed927e3b361": {
          "model_module": "@jupyter-widgets/controls",
          "model_module_version": "1.5.0",
          "model_name": "HTMLModel",
          "state": {
            "_dom_classes": [],
            "_model_module": "@jupyter-widgets/controls",
            "_model_module_version": "1.5.0",
            "_model_name": "HTMLModel",
            "_view_count": null,
            "_view_module": "@jupyter-widgets/controls",
            "_view_module_version": "1.5.0",
            "_view_name": "HTMLView",
            "description": "",
            "description_tooltip": null,
            "layout": "IPY_MODEL_ef65a0f3e3e747e89f2318d663307cbe",
            "placeholder": "​",
            "style": "IPY_MODEL_e19b08d20df24d8491145c80550c3b2e",
            "value": "Downloading pytorch_model.bin: 100%"
          }
        },
        "cc454b4b9058476494547a64677221ba": {
          "model_module": "@jupyter-widgets/base",
          "model_module_version": "1.2.0",
          "model_name": "LayoutModel",
          "state": {
            "_model_module": "@jupyter-widgets/base",
            "_model_module_version": "1.2.0",
            "_model_name": "LayoutModel",
            "_view_count": null,
            "_view_module": "@jupyter-widgets/base",
            "_view_module_version": "1.2.0",
            "_view_name": "LayoutView",
            "align_content": null,
            "align_items": null,
            "align_self": null,
            "border": null,
            "bottom": null,
            "display": null,
            "flex": null,
            "flex_flow": null,
            "grid_area": null,
            "grid_auto_columns": null,
            "grid_auto_flow": null,
            "grid_auto_rows": null,
            "grid_column": null,
            "grid_gap": null,
            "grid_row": null,
            "grid_template_areas": null,
            "grid_template_columns": null,
            "grid_template_rows": null,
            "height": null,
            "justify_content": null,
            "justify_items": null,
            "left": null,
            "margin": null,
            "max_height": null,
            "max_width": null,
            "min_height": null,
            "min_width": null,
            "object_fit": null,
            "object_position": null,
            "order": null,
            "overflow": null,
            "overflow_x": null,
            "overflow_y": null,
            "padding": null,
            "right": null,
            "top": null,
            "visibility": null,
            "width": null
          }
        },
        "cd47b96dcc6546d2a204895853b8b120": {
          "model_module": "@jupyter-widgets/controls",
          "model_module_version": "1.5.0",
          "model_name": "ProgressStyleModel",
          "state": {
            "_model_module": "@jupyter-widgets/controls",
            "_model_module_version": "1.5.0",
            "_model_name": "ProgressStyleModel",
            "_view_count": null,
            "_view_module": "@jupyter-widgets/base",
            "_view_module_version": "1.2.0",
            "_view_name": "StyleView",
            "bar_color": null,
            "description_width": ""
          }
        },
        "e19b08d20df24d8491145c80550c3b2e": {
          "model_module": "@jupyter-widgets/controls",
          "model_module_version": "1.5.0",
          "model_name": "DescriptionStyleModel",
          "state": {
            "_model_module": "@jupyter-widgets/controls",
            "_model_module_version": "1.5.0",
            "_model_name": "DescriptionStyleModel",
            "_view_count": null,
            "_view_module": "@jupyter-widgets/base",
            "_view_module_version": "1.2.0",
            "_view_name": "StyleView",
            "description_width": ""
          }
        },
        "ec278bc3c0df4dae9a8d1ac4ac05832b": {
          "model_module": "@jupyter-widgets/base",
          "model_module_version": "1.2.0",
          "model_name": "LayoutModel",
          "state": {
            "_model_module": "@jupyter-widgets/base",
            "_model_module_version": "1.2.0",
            "_model_name": "LayoutModel",
            "_view_count": null,
            "_view_module": "@jupyter-widgets/base",
            "_view_module_version": "1.2.0",
            "_view_name": "LayoutView",
            "align_content": null,
            "align_items": null,
            "align_self": null,
            "border": null,
            "bottom": null,
            "display": null,
            "flex": null,
            "flex_flow": null,
            "grid_area": null,
            "grid_auto_columns": null,
            "grid_auto_flow": null,
            "grid_auto_rows": null,
            "grid_column": null,
            "grid_gap": null,
            "grid_row": null,
            "grid_template_areas": null,
            "grid_template_columns": null,
            "grid_template_rows": null,
            "height": null,
            "justify_content": null,
            "justify_items": null,
            "left": null,
            "margin": null,
            "max_height": null,
            "max_width": null,
            "min_height": null,
            "min_width": null,
            "object_fit": null,
            "object_position": null,
            "order": null,
            "overflow": null,
            "overflow_x": null,
            "overflow_y": null,
            "padding": null,
            "right": null,
            "top": null,
            "visibility": null,
            "width": null
          }
        },
        "ef65a0f3e3e747e89f2318d663307cbe": {
          "model_module": "@jupyter-widgets/base",
          "model_module_version": "1.2.0",
          "model_name": "LayoutModel",
          "state": {
            "_model_module": "@jupyter-widgets/base",
            "_model_module_version": "1.2.0",
            "_model_name": "LayoutModel",
            "_view_count": null,
            "_view_module": "@jupyter-widgets/base",
            "_view_module_version": "1.2.0",
            "_view_name": "LayoutView",
            "align_content": null,
            "align_items": null,
            "align_self": null,
            "border": null,
            "bottom": null,
            "display": null,
            "flex": null,
            "flex_flow": null,
            "grid_area": null,
            "grid_auto_columns": null,
            "grid_auto_flow": null,
            "grid_auto_rows": null,
            "grid_column": null,
            "grid_gap": null,
            "grid_row": null,
            "grid_template_areas": null,
            "grid_template_columns": null,
            "grid_template_rows": null,
            "height": null,
            "justify_content": null,
            "justify_items": null,
            "left": null,
            "margin": null,
            "max_height": null,
            "max_width": null,
            "min_height": null,
            "min_width": null,
            "object_fit": null,
            "object_position": null,
            "order": null,
            "overflow": null,
            "overflow_x": null,
            "overflow_y": null,
            "padding": null,
            "right": null,
            "top": null,
            "visibility": null,
            "width": null
          }
        }
      }
    }
  },
  "nbformat": 4,
  "nbformat_minor": 0
}
