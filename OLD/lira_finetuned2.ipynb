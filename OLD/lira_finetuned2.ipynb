{
 "cells": [
  {
   "cell_type": "code",
   "execution_count": 2,
   "metadata": {
    "id": "qh6Ptjan0pVL"
   },
   "outputs": [],
   "source": [
    "import torch\n",
    "from torch.utils.data import DataLoader, Dataset, random_split\n",
    "from datasets import load_dataset\n",
    "from transformers import GPTNeoXForCausalLM, AutoTokenizer\n",
    "from transformers.optimization import AdamW\n",
    "from transformers import Trainer, TrainingArguments\n",
    "\n",
    "## Memory statistics. I had to be careful with cuda memory \n",
    "def mem_stats():\n",
    "    t = torch.cuda.get_device_properties(0).total_memory / 1024**3\n",
    "    r = torch.cuda.memory_reserved(0) / 1024**3\n",
    "    a = torch.cuda.memory_allocated(0) / 1024**3\n",
    "    print(f\"Total Memory: {t:.2f} GB\\n\"\n",
    "          f\"Reserved Memory: {r:.2f} GB ({(100*(r/t)):.2f}%)\\n\"\n",
    "          f\"Remaining Memory: {t-r:.2f} GB ({(100*(t-r)/t):.2f}%)\\n\"\n",
    "          f\"---------------------------------\\n\"\n",
    "          f\"Allocated Memory: {a:.2f} GB ({(100*(a/t)):.2f}%)\\n\"\n",
    "          f\"Percent of Reserved Allocated: {(100*(a+1e-9)/(r+1e-9)):.2f}%\\n\")\n"
   ]
  },
  {
   "cell_type": "code",
   "execution_count": 3,
   "metadata": {},
   "outputs": [
    {
     "name": "stderr",
     "output_type": "stream",
     "text": [
      "Found cached dataset amazon_us_reviews (/home/ec2-user/.cache/huggingface/datasets/amazon_us_reviews/Digital_Video_Games_v1_00/0.1.0/17b2481be59723469538adeb8fd0a68b0ba363bbbdd71090e72c325ee6c7e563)\n"
     ]
    },
    {
     "data": {
      "application/vnd.jupyter.widget-view+json": {
       "model_id": "76c24a03881840bebbde1e5ed5c5c85c",
       "version_major": 2,
       "version_minor": 0
      },
      "text/plain": [
       "  0%|          | 0/1 [00:00<?, ?it/s]"
      ]
     },
     "metadata": {},
     "output_type": "display_data"
    }
   ],
   "source": [
    "from datasets import load_dataset\n",
    "\n",
    "dataset = load_dataset(\"amazon_us_reviews\", \"Digital_Video_Games_v1_00\")"
   ]
  },
  {
   "cell_type": "code",
   "execution_count": null,
   "metadata": {},
   "outputs": [],
   "source": [
    "train_dataset = dataset[\"train\"][:len(dataset[\"train\"])//25]\n",
    "test_dataset = dataset[\"train\"][len(dataset[\"train\"])//25:2*len(dataset[\"train\"])//25]"
   ]
  },
  {
   "cell_type": "code",
   "execution_count": null,
   "metadata": {},
   "outputs": [],
   "source": [
    "training_dataset = train_dataset['review_body']\n",
    "testing_dataset = test_dataset['review_body']"
   ]
  },
  {
   "cell_type": "code",
   "execution_count": null,
   "metadata": {
    "id": "OtxHL1OY2BBY"
   },
   "outputs": [],
   "source": [
    "N = 2\n",
    "epochs = 4\n",
    "bs = 2\n",
    "learn = 5e-5\n",
    "mod_size = \"160m\""
   ]
  },
  {
   "cell_type": "markdown",
   "metadata": {
    "id": "LHxHr5vy2Ym-"
   },
   "source": [
    "# DataLoaders"
   ]
  },
  {
   "cell_type": "code",
   "execution_count": 6,
   "metadata": {
    "id": "KqYIITro3gmD"
   },
   "outputs": [
    {
     "name": "stdout",
     "output_type": "stream",
     "text": [
      "Total Memory: 15.77 GB\n",
      "Reserved Memory: 0.00 GB (0.00%)\n",
      "Remaining Memory: 15.77 GB (100.00%)\n",
      "---------------------------------\n",
      "Allocated Memory: 0.00 GB (0.00%)\n",
      "Percent of Reserved Allocated: 100.00%\n",
      "\n"
     ]
    }
   ],
   "source": [
    "# model = GPTNeoXForCausalLM.from_pretrained(f\"EleutherAI/pythia-{mod_size}-deduped\")\n",
    "tokenizer = AutoTokenizer.from_pretrained(f\"EleutherAI/pythia-{mod_size}-deduped\")\n",
    "mem_stats()"
   ]
  },
  {
   "cell_type": "code",
   "execution_count": 7,
   "metadata": {
    "id": "4FcxSzpK3aJH"
   },
   "outputs": [],
   "source": [
    "def collate_fn(batch):\n",
    "    global models\n",
    "    tokens = [tokenizer.encode(example, return_tensors=\"pt\", truncation=True,max_length=models[0].config.max_position_embeddings) for example in batch]\n",
    "    max_length = max([t.size(1) for t in tokens])\n",
    "    tokens_padded = [torch.cat([t, t.new_zeros(t.size(0), max_length - t.size(1))], dim=1) for t in tokens]\n",
    "    tokens_padded = torch.cat(tokens_padded, dim=0)\n",
    "    return {\n",
    "        \"input_ids\":tokens_padded,\n",
    "        \"labels\":tokens_padded,\n",
    "        \"attention_mask\": torch.tensor(tokens_padded>0,dtype=int)\n",
    "    }"
   ]
  },
  {
   "cell_type": "code",
   "execution_count": 8,
   "metadata": {
    "id": "CPNpPnzy69c6"
   },
   "outputs": [],
   "source": [
    "def arr_split(chunks, N):\n",
    "  if N % 2 != 0:\n",
    "    print(\"Need even N!\")\n",
    "    return []\n",
    "  lists = [[] for i in range(N)]\n",
    "  \n",
    "  for i in range(N):\n",
    "    for j in range(i, int(i + N/2)):\n",
    "      lists[i] += chunks[j % N]\n",
    "  \n",
    "  return lists"
   ]
  },
  {
   "cell_type": "code",
   "execution_count": 9,
   "metadata": {
    "id": "YM4zbaNH2ZtV"
   },
   "outputs": [],
   "source": [
    "train_chunks = [training_dataset[i * len(training_dataset)//N : (i+1) * len(training_dataset) // N] for i in range(N)]\n",
    "test_chunks = [testing_dataset[i * len(testing_dataset)//N : (i+1) * len(testing_dataset) // N] for i in range(N)]"
   ]
  },
  {
   "cell_type": "code",
   "execution_count": 10,
   "metadata": {
    "id": "XU3S5IRT8Gex"
   },
   "outputs": [],
   "source": [
    "train_arr = arr_split(train_chunks, N)\n",
    "test_arr = arr_split(test_chunks, N)"
   ]
  },
  {
   "cell_type": "code",
   "execution_count": 11,
   "metadata": {
    "colab": {
     "base_uri": "https://localhost:8080/"
    },
    "id": "j6xCU-MO8NVI",
    "outputId": "ee1bd4c0-363d-47e7-d89d-34ae724217ac"
   },
   "outputs": [
    {
     "data": {
      "text/plain": [
       "116"
      ]
     },
     "execution_count": 11,
     "metadata": {},
     "output_type": "execute_result"
    }
   ],
   "source": [
    "# 80% overlap\n",
    "len(set(train_arr[0]).intersection(train_arr[1]))"
   ]
  },
  {
   "cell_type": "code",
   "execution_count": 12,
   "metadata": {
    "id": "yBastHOg3FRG"
   },
   "outputs": [],
   "source": [
    "# train_dls = [DataLoader(train_arr[i], batch_size = bs, collate_fn=collate_fn, shuffle = True) for i in range(N)]\n",
    "# test_dls = [DataLoader(test_arr[i], batch_size = bs, collate_fn=collate_fn, shuffle = True) for i in range(N)]\n"
   ]
  },
  {
   "cell_type": "markdown",
   "metadata": {
    "id": "EDN4jW6w2WKy"
   },
   "source": [
    "# Shadow Models"
   ]
  },
  {
   "cell_type": "code",
   "execution_count": 13,
   "metadata": {
    "colab": {
     "base_uri": "https://localhost:8080/"
    },
    "id": "5-S_422n44Eh",
    "outputId": "5bb109f5-4a89-46ac-fb5c-e9cdfd6894d1"
   },
   "outputs": [
    {
     "name": "stdout",
     "output_type": "stream",
     "text": [
      "cuda\n"
     ]
    }
   ],
   "source": [
    "# Set the device to use\n",
    "device = \"cuda\" if torch.cuda.is_available() else \"cpu\"\n",
    "print(device)"
   ]
  },
  {
   "cell_type": "code",
   "execution_count": 14,
   "metadata": {
    "id": "lIrw6Zz_2NUh"
   },
   "outputs": [
    {
     "name": "stdout",
     "output_type": "stream",
     "text": [
      "Total Memory: 15.77 GB\n",
      "Reserved Memory: 0.60 GB (3.80%)\n",
      "Remaining Memory: 15.17 GB (96.20%)\n",
      "---------------------------------\n",
      "Allocated Memory: 0.58 GB (3.66%)\n",
      "Percent of Reserved Allocated: 96.31%\n",
      "\n"
     ]
    }
   ],
   "source": [
    "models = [GPTNeoXForCausalLM.from_pretrained(f\"EleutherAI/pythia-{mod_size}-deduped\").to(device) for i in range(N)]\n",
    "mem_stats()"
   ]
  },
  {
   "cell_type": "code",
   "execution_count": 66,
   "metadata": {},
   "outputs": [],
   "source": [
    "def train(model, train_dataset, val_dataset, collate_fn, batch_size, epochs):\n",
    "  model = model.to(device)\n",
    "  model.config.use_cache = False\n",
    "  training_args = TrainingArguments(output_dir=\"fine-tuning\",\n",
    "                                    do_train=True,\n",
    "                                    do_eval=True,\n",
    "                                    num_train_epochs=epochs,\n",
    "                                    per_device_train_batch_size=batch_size,\n",
    "                                    per_device_eval_batch_size=batch_size,\n",
    "                                    evaluation_strategy=\"epoch\",\n",
    "                                    # logging_strategy=\"epoch\",\n",
    "                                    # save_strategy=\"epoch\",\n",
    "                                    gradient_accumulation_steps=1,\n",
    "                                    gradient_checkpointing=False,\n",
    "                                    # fp16=True,\n",
    "                                    optim=\"adafactor\",\n",
    "                                    )\n",
    "  trainer = Trainer(model=model,\n",
    "                    args=training_args,\n",
    "                    train_dataset=train_dataset,\n",
    "                    eval_dataset=val_dataset,\n",
    "                    tokenizer=tokenizer,\n",
    "                    data_collator=collate_fn,\n",
    "                    # callbacks = [CustomLoggingCallback()]\n",
    "                  )\n",
    "  trainer.train()\n",
    "  return model"
   ]
  },
  {
   "cell_type": "code",
   "execution_count": 67,
   "metadata": {
    "colab": {
     "base_uri": "https://localhost:8080/"
    },
    "id": "z_g1_CFdEiik",
    "outputId": "64f36229-cb14-421a-902e-02791b137ca7"
   },
   "outputs": [
    {
     "name": "stderr",
     "output_type": "stream",
     "text": [
      "PyTorch: setting up devices\n"
     ]
    },
    {
     "name": "stdout",
     "output_type": "stream",
     "text": [
      "Model #0\n",
      "PyTorch: setting up devices\n"
     ]
    },
    {
     "name": "stderr",
     "output_type": "stream",
     "text": [
      "The default value for the training argument `--report_to` will change in v5 (from all installed integrations to none). In v5, you will need to use `--report_to all` to get the same behavior as now. You should start updating your code and make this info disappear :-).\n"
     ]
    },
    {
     "name": "stdout",
     "output_type": "stream",
     "text": [
      "The default value for the training argument `--report_to` will change in v5 (from all installed integrations to none). In v5, you will need to use `--report_to all` to get the same behavior as now. You should start updating your code and make this info disappear :-).\n"
     ]
    },
    {
     "name": "stderr",
     "output_type": "stream",
     "text": [
      "***** Running training *****\n"
     ]
    },
    {
     "name": "stdout",
     "output_type": "stream",
     "text": [
      "***** Running training *****\n"
     ]
    },
    {
     "name": "stderr",
     "output_type": "stream",
     "text": [
      "  Num examples = 2,908\n"
     ]
    },
    {
     "name": "stdout",
     "output_type": "stream",
     "text": [
      "  Num examples = 2,908\n"
     ]
    },
    {
     "name": "stderr",
     "output_type": "stream",
     "text": [
      "  Num Epochs = 4\n"
     ]
    },
    {
     "name": "stdout",
     "output_type": "stream",
     "text": [
      "  Num Epochs = 4\n"
     ]
    },
    {
     "name": "stderr",
     "output_type": "stream",
     "text": [
      "  Instantaneous batch size per device = 4\n"
     ]
    },
    {
     "name": "stdout",
     "output_type": "stream",
     "text": [
      "  Instantaneous batch size per device = 4\n"
     ]
    },
    {
     "name": "stderr",
     "output_type": "stream",
     "text": [
      "  Total train batch size (w. parallel, distributed & accumulation) = 4\n"
     ]
    },
    {
     "name": "stdout",
     "output_type": "stream",
     "text": [
      "  Total train batch size (w. parallel, distributed & accumulation) = 4\n"
     ]
    },
    {
     "name": "stderr",
     "output_type": "stream",
     "text": [
      "  Gradient Accumulation steps = 1\n"
     ]
    },
    {
     "name": "stdout",
     "output_type": "stream",
     "text": [
      "  Gradient Accumulation steps = 1\n"
     ]
    },
    {
     "name": "stderr",
     "output_type": "stream",
     "text": [
      "  Total optimization steps = 2,908\n"
     ]
    },
    {
     "name": "stdout",
     "output_type": "stream",
     "text": [
      "  Total optimization steps = 2,908\n"
     ]
    },
    {
     "name": "stderr",
     "output_type": "stream",
     "text": [
      "  Number of trainable parameters = 70,426,624\n"
     ]
    },
    {
     "name": "stdout",
     "output_type": "stream",
     "text": [
      "  Number of trainable parameters = 70,426,624\n"
     ]
    },
    {
     "name": "stderr",
     "output_type": "stream",
     "text": [
      "/tmp/ipykernel_11868/1920141103.py:10: UserWarning: To copy construct from a tensor, it is recommended to use sourceTensor.clone().detach() or sourceTensor.clone().detach().requires_grad_(True), rather than torch.tensor(sourceTensor).\n",
      "  \"attention_mask\": torch.tensor(tokens_padded>0,dtype=int)\n"
     ]
    },
    {
     "data": {
      "text/html": [
       "\n",
       "    <div>\n",
       "      \n",
       "      <progress value='727' max='2908' style='width:300px; height:20px; vertical-align: middle;'></progress>\n",
       "      [ 727/2908 00:43 < 02:12, 16.49 it/s, Epoch 1.00/4]\n",
       "    </div>\n",
       "    <table border=\"1\" class=\"dataframe\">\n",
       "  <thead>\n",
       " <tr style=\"text-align: left;\">\n",
       "      <th>Epoch</th>\n",
       "      <th>Training Loss</th>\n",
       "      <th>Validation Loss</th>\n",
       "    </tr>\n",
       "  </thead>\n",
       "  <tbody>\n",
       "  </tbody>\n",
       "</table><p>"
      ],
      "text/plain": [
       "<IPython.core.display.HTML object>"
      ]
     },
     "metadata": {},
     "output_type": "display_data"
    },
    {
     "name": "stderr",
     "output_type": "stream",
     "text": [
      "Saving model checkpoint to fine-tuning/checkpoint-500\n"
     ]
    },
    {
     "name": "stdout",
     "output_type": "stream",
     "text": [
      "Saving model checkpoint to fine-tuning/checkpoint-500\n"
     ]
    },
    {
     "name": "stderr",
     "output_type": "stream",
     "text": [
      "Configuration saved in fine-tuning/checkpoint-500/config.json\n"
     ]
    },
    {
     "name": "stdout",
     "output_type": "stream",
     "text": [
      "Configuration saved in fine-tuning/checkpoint-500/config.json\n"
     ]
    },
    {
     "name": "stderr",
     "output_type": "stream",
     "text": [
      "Configuration saved in fine-tuning/checkpoint-500/generation_config.json\n"
     ]
    },
    {
     "name": "stdout",
     "output_type": "stream",
     "text": [
      "Configuration saved in fine-tuning/checkpoint-500/generation_config.json\n"
     ]
    },
    {
     "name": "stderr",
     "output_type": "stream",
     "text": [
      "Model weights saved in fine-tuning/checkpoint-500/pytorch_model.bin\n"
     ]
    },
    {
     "name": "stdout",
     "output_type": "stream",
     "text": [
      "Model weights saved in fine-tuning/checkpoint-500/pytorch_model.bin\n"
     ]
    },
    {
     "name": "stderr",
     "output_type": "stream",
     "text": [
      "tokenizer config file saved in fine-tuning/checkpoint-500/tokenizer_config.json\n"
     ]
    },
    {
     "name": "stdout",
     "output_type": "stream",
     "text": [
      "tokenizer config file saved in fine-tuning/checkpoint-500/tokenizer_config.json\n"
     ]
    },
    {
     "name": "stderr",
     "output_type": "stream",
     "text": [
      "Special tokens file saved in fine-tuning/checkpoint-500/special_tokens_map.json\n"
     ]
    },
    {
     "name": "stdout",
     "output_type": "stream",
     "text": [
      "Special tokens file saved in fine-tuning/checkpoint-500/special_tokens_map.json\n",
      "Step: 727, Loss: 1.134600, Batch size: 4\n",
      "***** Running Evaluation *****\n"
     ]
    },
    {
     "name": "stderr",
     "output_type": "stream",
     "text": [
      "  Num examples = 2908\n"
     ]
    },
    {
     "name": "stdout",
     "output_type": "stream",
     "text": [
      "  Num examples = 2908\n"
     ]
    },
    {
     "name": "stderr",
     "output_type": "stream",
     "text": [
      "  Batch size = 4\n"
     ]
    },
    {
     "name": "stdout",
     "output_type": "stream",
     "text": [
      "  Batch size = 4\n"
     ]
    },
    {
     "ename": "KeyboardInterrupt",
     "evalue": "",
     "output_type": "error",
     "traceback": [
      "\u001b[0;31m---------------------------------------------------------------------------\u001b[0m",
      "\u001b[0;31mKeyboardInterrupt\u001b[0m                         Traceback (most recent call last)",
      "Cell \u001b[0;32mIn[67], line 4\u001b[0m\n\u001b[1;32m      2\u001b[0m \u001b[39mprint\u001b[39m(\u001b[39mf\u001b[39m\u001b[39m\"\u001b[39m\u001b[39mModel #\u001b[39m\u001b[39m{\u001b[39;00mi\u001b[39m}\u001b[39;00m\u001b[39m\"\u001b[39m)\n\u001b[1;32m      3\u001b[0m m\u001b[39m.\u001b[39mto(device)\n\u001b[0;32m----> 4\u001b[0m m \u001b[39m=\u001b[39m train(m, train_arr[i], test_arr[i], collate_fn, bs, epochs)\n\u001b[1;32m      5\u001b[0m \u001b[39m# train(m, train_dls[i], epochs)\u001b[39;00m\n\u001b[1;32m      6\u001b[0m m\u001b[39m.\u001b[39mto(\u001b[39m'\u001b[39m\u001b[39mcpu\u001b[39m\u001b[39m'\u001b[39m)\n",
      "Cell \u001b[0;32mIn[66], line 24\u001b[0m, in \u001b[0;36mtrain\u001b[0;34m(model, train_dataset, val_dataset, collate_fn, batch_size, epochs)\u001b[0m\n\u001b[1;32m      4\u001b[0m training_args \u001b[39m=\u001b[39m TrainingArguments(output_dir\u001b[39m=\u001b[39m\u001b[39m\"\u001b[39m\u001b[39mfine-tuning\u001b[39m\u001b[39m\"\u001b[39m,\n\u001b[1;32m      5\u001b[0m                                   num_train_epochs\u001b[39m=\u001b[39mepochs,\n\u001b[1;32m      6\u001b[0m                                   evaluation_strategy\u001b[39m=\u001b[39m\u001b[39m\"\u001b[39m\u001b[39mepoch\u001b[39m\u001b[39m\"\u001b[39m,\n\u001b[0;32m   (...)\u001b[0m\n\u001b[1;32m     14\u001b[0m                                   logging_steps\u001b[39m=\u001b[39m\u001b[39m1\u001b[39m\n\u001b[1;32m     15\u001b[0m                                   )\n\u001b[1;32m     16\u001b[0m trainer \u001b[39m=\u001b[39m Trainer(model\u001b[39m=\u001b[39mmodel,\n\u001b[1;32m     17\u001b[0m                   args\u001b[39m=\u001b[39mtraining_args,\n\u001b[1;32m     18\u001b[0m                   train_dataset\u001b[39m=\u001b[39mtrain_dataset,\n\u001b[0;32m   (...)\u001b[0m\n\u001b[1;32m     22\u001b[0m                   callbacks \u001b[39m=\u001b[39m [CustomLoggingCallback()]\n\u001b[1;32m     23\u001b[0m                 )\n\u001b[0;32m---> 24\u001b[0m trainer\u001b[39m.\u001b[39;49mtrain()\n\u001b[1;32m     25\u001b[0m \u001b[39mreturn\u001b[39;00m model\n",
      "File \u001b[0;32m/opt/conda/envs/unlearning/lib/python3.10/site-packages/transformers/trainer.py:1662\u001b[0m, in \u001b[0;36mTrainer.train\u001b[0;34m(self, resume_from_checkpoint, trial, ignore_keys_for_eval, **kwargs)\u001b[0m\n\u001b[1;32m   1657\u001b[0m     \u001b[39mself\u001b[39m\u001b[39m.\u001b[39mmodel_wrapped \u001b[39m=\u001b[39m \u001b[39mself\u001b[39m\u001b[39m.\u001b[39mmodel\n\u001b[1;32m   1659\u001b[0m inner_training_loop \u001b[39m=\u001b[39m find_executable_batch_size(\n\u001b[1;32m   1660\u001b[0m     \u001b[39mself\u001b[39m\u001b[39m.\u001b[39m_inner_training_loop, \u001b[39mself\u001b[39m\u001b[39m.\u001b[39m_train_batch_size, args\u001b[39m.\u001b[39mauto_find_batch_size\n\u001b[1;32m   1661\u001b[0m )\n\u001b[0;32m-> 1662\u001b[0m \u001b[39mreturn\u001b[39;00m inner_training_loop(\n\u001b[1;32m   1663\u001b[0m     args\u001b[39m=\u001b[39;49margs,\n\u001b[1;32m   1664\u001b[0m     resume_from_checkpoint\u001b[39m=\u001b[39;49mresume_from_checkpoint,\n\u001b[1;32m   1665\u001b[0m     trial\u001b[39m=\u001b[39;49mtrial,\n\u001b[1;32m   1666\u001b[0m     ignore_keys_for_eval\u001b[39m=\u001b[39;49mignore_keys_for_eval,\n\u001b[1;32m   1667\u001b[0m )\n",
      "File \u001b[0;32m/opt/conda/envs/unlearning/lib/python3.10/site-packages/transformers/trainer.py:2021\u001b[0m, in \u001b[0;36mTrainer._inner_training_loop\u001b[0;34m(self, batch_size, args, resume_from_checkpoint, trial, ignore_keys_for_eval)\u001b[0m\n\u001b[1;32m   2018\u001b[0m     \u001b[39mself\u001b[39m\u001b[39m.\u001b[39mcontrol\u001b[39m.\u001b[39mshould_training_stop \u001b[39m=\u001b[39m \u001b[39mTrue\u001b[39;00m\n\u001b[1;32m   2020\u001b[0m \u001b[39mself\u001b[39m\u001b[39m.\u001b[39mcontrol \u001b[39m=\u001b[39m \u001b[39mself\u001b[39m\u001b[39m.\u001b[39mcallback_handler\u001b[39m.\u001b[39mon_epoch_end(args, \u001b[39mself\u001b[39m\u001b[39m.\u001b[39mstate, \u001b[39mself\u001b[39m\u001b[39m.\u001b[39mcontrol)\n\u001b[0;32m-> 2021\u001b[0m \u001b[39mself\u001b[39;49m\u001b[39m.\u001b[39;49m_maybe_log_save_evaluate(tr_loss, model, trial, epoch, ignore_keys_for_eval)\n\u001b[1;32m   2023\u001b[0m \u001b[39mif\u001b[39;00m DebugOption\u001b[39m.\u001b[39mTPU_METRICS_DEBUG \u001b[39min\u001b[39;00m \u001b[39mself\u001b[39m\u001b[39m.\u001b[39margs\u001b[39m.\u001b[39mdebug:\n\u001b[1;32m   2024\u001b[0m     \u001b[39mif\u001b[39;00m is_torch_tpu_available():\n\u001b[1;32m   2025\u001b[0m         \u001b[39m# tpu-comment: Logging debug metrics for PyTorch/XLA (compile, execute times, ops, etc.)\u001b[39;00m\n",
      "File \u001b[0;32m/opt/conda/envs/unlearning/lib/python3.10/site-packages/transformers/trainer.py:2287\u001b[0m, in \u001b[0;36mTrainer._maybe_log_save_evaluate\u001b[0;34m(self, tr_loss, model, trial, epoch, ignore_keys_for_eval)\u001b[0m\n\u001b[1;32m   2285\u001b[0m             metrics\u001b[39m.\u001b[39mupdate(dataset_metrics)\n\u001b[1;32m   2286\u001b[0m     \u001b[39melse\u001b[39;00m:\n\u001b[0;32m-> 2287\u001b[0m         metrics \u001b[39m=\u001b[39m \u001b[39mself\u001b[39;49m\u001b[39m.\u001b[39;49mevaluate(ignore_keys\u001b[39m=\u001b[39;49mignore_keys_for_eval)\n\u001b[1;32m   2288\u001b[0m     \u001b[39mself\u001b[39m\u001b[39m.\u001b[39m_report_to_hp_search(trial, \u001b[39mself\u001b[39m\u001b[39m.\u001b[39mstate\u001b[39m.\u001b[39mglobal_step, metrics)\n\u001b[1;32m   2290\u001b[0m \u001b[39mif\u001b[39;00m \u001b[39mself\u001b[39m\u001b[39m.\u001b[39mcontrol\u001b[39m.\u001b[39mshould_save:\n",
      "File \u001b[0;32m/opt/conda/envs/unlearning/lib/python3.10/site-packages/transformers/trainer.py:2993\u001b[0m, in \u001b[0;36mTrainer.evaluate\u001b[0;34m(self, eval_dataset, ignore_keys, metric_key_prefix)\u001b[0m\n\u001b[1;32m   2990\u001b[0m start_time \u001b[39m=\u001b[39m time\u001b[39m.\u001b[39mtime()\n\u001b[1;32m   2992\u001b[0m eval_loop \u001b[39m=\u001b[39m \u001b[39mself\u001b[39m\u001b[39m.\u001b[39mprediction_loop \u001b[39mif\u001b[39;00m \u001b[39mself\u001b[39m\u001b[39m.\u001b[39margs\u001b[39m.\u001b[39muse_legacy_prediction_loop \u001b[39melse\u001b[39;00m \u001b[39mself\u001b[39m\u001b[39m.\u001b[39mevaluation_loop\n\u001b[0;32m-> 2993\u001b[0m output \u001b[39m=\u001b[39m eval_loop(\n\u001b[1;32m   2994\u001b[0m     eval_dataloader,\n\u001b[1;32m   2995\u001b[0m     description\u001b[39m=\u001b[39;49m\u001b[39m\"\u001b[39;49m\u001b[39mEvaluation\u001b[39;49m\u001b[39m\"\u001b[39;49m,\n\u001b[1;32m   2996\u001b[0m     \u001b[39m# No point gathering the predictions if there are no metrics, otherwise we defer to\u001b[39;49;00m\n\u001b[1;32m   2997\u001b[0m     \u001b[39m# self.args.prediction_loss_only\u001b[39;49;00m\n\u001b[1;32m   2998\u001b[0m     prediction_loss_only\u001b[39m=\u001b[39;49m\u001b[39mTrue\u001b[39;49;00m \u001b[39mif\u001b[39;49;00m \u001b[39mself\u001b[39;49m\u001b[39m.\u001b[39;49mcompute_metrics \u001b[39mis\u001b[39;49;00m \u001b[39mNone\u001b[39;49;00m \u001b[39melse\u001b[39;49;00m \u001b[39mNone\u001b[39;49;00m,\n\u001b[1;32m   2999\u001b[0m     ignore_keys\u001b[39m=\u001b[39;49mignore_keys,\n\u001b[1;32m   3000\u001b[0m     metric_key_prefix\u001b[39m=\u001b[39;49mmetric_key_prefix,\n\u001b[1;32m   3001\u001b[0m )\n\u001b[1;32m   3003\u001b[0m total_batch_size \u001b[39m=\u001b[39m \u001b[39mself\u001b[39m\u001b[39m.\u001b[39margs\u001b[39m.\u001b[39meval_batch_size \u001b[39m*\u001b[39m \u001b[39mself\u001b[39m\u001b[39m.\u001b[39margs\u001b[39m.\u001b[39mworld_size\n\u001b[1;32m   3004\u001b[0m \u001b[39mif\u001b[39;00m \u001b[39mf\u001b[39m\u001b[39m\"\u001b[39m\u001b[39m{\u001b[39;00mmetric_key_prefix\u001b[39m}\u001b[39;00m\u001b[39m_jit_compilation_time\u001b[39m\u001b[39m\"\u001b[39m \u001b[39min\u001b[39;00m output\u001b[39m.\u001b[39mmetrics:\n",
      "File \u001b[0;32m/opt/conda/envs/unlearning/lib/python3.10/site-packages/transformers/trainer.py:3174\u001b[0m, in \u001b[0;36mTrainer.evaluation_loop\u001b[0;34m(self, dataloader, description, prediction_loss_only, ignore_keys, metric_key_prefix)\u001b[0m\n\u001b[1;32m   3171\u001b[0m         batch_size \u001b[39m=\u001b[39m observed_batch_size\n\u001b[1;32m   3173\u001b[0m \u001b[39m# Prediction step\u001b[39;00m\n\u001b[0;32m-> 3174\u001b[0m loss, logits, labels \u001b[39m=\u001b[39m \u001b[39mself\u001b[39;49m\u001b[39m.\u001b[39;49mprediction_step(model, inputs, prediction_loss_only, ignore_keys\u001b[39m=\u001b[39;49mignore_keys)\n\u001b[1;32m   3175\u001b[0m inputs_decode \u001b[39m=\u001b[39m \u001b[39mself\u001b[39m\u001b[39m.\u001b[39m_prepare_input(inputs[\u001b[39m\"\u001b[39m\u001b[39minput_ids\u001b[39m\u001b[39m\"\u001b[39m]) \u001b[39mif\u001b[39;00m args\u001b[39m.\u001b[39minclude_inputs_for_metrics \u001b[39melse\u001b[39;00m \u001b[39mNone\u001b[39;00m\n\u001b[1;32m   3177\u001b[0m \u001b[39mif\u001b[39;00m is_torch_tpu_available():\n",
      "File \u001b[0;32m/opt/conda/envs/unlearning/lib/python3.10/site-packages/transformers/trainer.py:3429\u001b[0m, in \u001b[0;36mTrainer.prediction_step\u001b[0;34m(self, model, inputs, prediction_loss_only, ignore_keys)\u001b[0m\n\u001b[1;32m   3427\u001b[0m \u001b[39mif\u001b[39;00m has_labels \u001b[39mor\u001b[39;00m loss_without_labels:\n\u001b[1;32m   3428\u001b[0m     \u001b[39mwith\u001b[39;00m \u001b[39mself\u001b[39m\u001b[39m.\u001b[39mcompute_loss_context_manager():\n\u001b[0;32m-> 3429\u001b[0m         loss, outputs \u001b[39m=\u001b[39m \u001b[39mself\u001b[39;49m\u001b[39m.\u001b[39;49mcompute_loss(model, inputs, return_outputs\u001b[39m=\u001b[39;49m\u001b[39mTrue\u001b[39;49;00m)\n\u001b[1;32m   3430\u001b[0m     loss \u001b[39m=\u001b[39m loss\u001b[39m.\u001b[39mmean()\u001b[39m.\u001b[39mdetach()\n\u001b[1;32m   3432\u001b[0m     \u001b[39mif\u001b[39;00m \u001b[39misinstance\u001b[39m(outputs, \u001b[39mdict\u001b[39m):\n",
      "File \u001b[0;32m/opt/conda/envs/unlearning/lib/python3.10/site-packages/transformers/trainer.py:2731\u001b[0m, in \u001b[0;36mTrainer.compute_loss\u001b[0;34m(self, model, inputs, return_outputs)\u001b[0m\n\u001b[1;32m   2729\u001b[0m \u001b[39melse\u001b[39;00m:\n\u001b[1;32m   2730\u001b[0m     labels \u001b[39m=\u001b[39m \u001b[39mNone\u001b[39;00m\n\u001b[0;32m-> 2731\u001b[0m outputs \u001b[39m=\u001b[39m model(\u001b[39m*\u001b[39;49m\u001b[39m*\u001b[39;49minputs)\n\u001b[1;32m   2732\u001b[0m \u001b[39m# Save past state if it exists\u001b[39;00m\n\u001b[1;32m   2733\u001b[0m \u001b[39m# TODO: this needs to be fixed and made cleaner later.\u001b[39;00m\n\u001b[1;32m   2734\u001b[0m \u001b[39mif\u001b[39;00m \u001b[39mself\u001b[39m\u001b[39m.\u001b[39margs\u001b[39m.\u001b[39mpast_index \u001b[39m>\u001b[39m\u001b[39m=\u001b[39m \u001b[39m0\u001b[39m:\n",
      "File \u001b[0;32m/opt/conda/envs/unlearning/lib/python3.10/site-packages/torch/nn/modules/module.py:1501\u001b[0m, in \u001b[0;36mModule._call_impl\u001b[0;34m(self, *args, **kwargs)\u001b[0m\n\u001b[1;32m   1496\u001b[0m \u001b[39m# If we don't have any hooks, we want to skip the rest of the logic in\u001b[39;00m\n\u001b[1;32m   1497\u001b[0m \u001b[39m# this function, and just call forward.\u001b[39;00m\n\u001b[1;32m   1498\u001b[0m \u001b[39mif\u001b[39;00m \u001b[39mnot\u001b[39;00m (\u001b[39mself\u001b[39m\u001b[39m.\u001b[39m_backward_hooks \u001b[39mor\u001b[39;00m \u001b[39mself\u001b[39m\u001b[39m.\u001b[39m_backward_pre_hooks \u001b[39mor\u001b[39;00m \u001b[39mself\u001b[39m\u001b[39m.\u001b[39m_forward_hooks \u001b[39mor\u001b[39;00m \u001b[39mself\u001b[39m\u001b[39m.\u001b[39m_forward_pre_hooks\n\u001b[1;32m   1499\u001b[0m         \u001b[39mor\u001b[39;00m _global_backward_pre_hooks \u001b[39mor\u001b[39;00m _global_backward_hooks\n\u001b[1;32m   1500\u001b[0m         \u001b[39mor\u001b[39;00m _global_forward_hooks \u001b[39mor\u001b[39;00m _global_forward_pre_hooks):\n\u001b[0;32m-> 1501\u001b[0m     \u001b[39mreturn\u001b[39;00m forward_call(\u001b[39m*\u001b[39;49margs, \u001b[39m*\u001b[39;49m\u001b[39m*\u001b[39;49mkwargs)\n\u001b[1;32m   1502\u001b[0m \u001b[39m# Do not call functions when jit is used\u001b[39;00m\n\u001b[1;32m   1503\u001b[0m full_backward_hooks, non_full_backward_hooks \u001b[39m=\u001b[39m [], []\n",
      "File \u001b[0;32m/opt/conda/envs/unlearning/lib/python3.10/site-packages/transformers/models/gpt_neox/modeling_gpt_neox.py:662\u001b[0m, in \u001b[0;36mGPTNeoXForCausalLM.forward\u001b[0;34m(self, input_ids, attention_mask, position_ids, inputs_embeds, head_mask, past_key_values, labels, use_cache, output_attentions, output_hidden_states, return_dict)\u001b[0m\n\u001b[1;32m    621\u001b[0m \u001b[39m\u001b[39m\u001b[39mr\u001b[39m\u001b[39m\"\"\"\u001b[39;00m\n\u001b[1;32m    622\u001b[0m \u001b[39mpast_key_values (`tuple(tuple(torch.FloatTensor))`, *optional*, returned when `use_cache=True` is passed or when `config.use_cache=True`):\u001b[39;00m\n\u001b[1;32m    623\u001b[0m \u001b[39m    Tuple of `tuple(torch.FloatTensor)` of length `config.n_layers`, with each tuple having 2 tensors of shape\u001b[39;00m\n\u001b[0;32m   (...)\u001b[0m\n\u001b[1;32m    658\u001b[0m \u001b[39m>>> prediction_logits = outputs.logits\u001b[39;00m\n\u001b[1;32m    659\u001b[0m \u001b[39m```\"\"\"\u001b[39;00m\n\u001b[1;32m    660\u001b[0m return_dict \u001b[39m=\u001b[39m return_dict \u001b[39mif\u001b[39;00m return_dict \u001b[39mis\u001b[39;00m \u001b[39mnot\u001b[39;00m \u001b[39mNone\u001b[39;00m \u001b[39melse\u001b[39;00m \u001b[39mself\u001b[39m\u001b[39m.\u001b[39mconfig\u001b[39m.\u001b[39muse_return_dict\n\u001b[0;32m--> 662\u001b[0m outputs \u001b[39m=\u001b[39m \u001b[39mself\u001b[39;49m\u001b[39m.\u001b[39;49mgpt_neox(\n\u001b[1;32m    663\u001b[0m     input_ids,\n\u001b[1;32m    664\u001b[0m     attention_mask\u001b[39m=\u001b[39;49mattention_mask,\n\u001b[1;32m    665\u001b[0m     position_ids\u001b[39m=\u001b[39;49mposition_ids,\n\u001b[1;32m    666\u001b[0m     head_mask\u001b[39m=\u001b[39;49mhead_mask,\n\u001b[1;32m    667\u001b[0m     inputs_embeds\u001b[39m=\u001b[39;49minputs_embeds,\n\u001b[1;32m    668\u001b[0m     past_key_values\u001b[39m=\u001b[39;49mpast_key_values,\n\u001b[1;32m    669\u001b[0m     use_cache\u001b[39m=\u001b[39;49muse_cache,\n\u001b[1;32m    670\u001b[0m     output_attentions\u001b[39m=\u001b[39;49moutput_attentions,\n\u001b[1;32m    671\u001b[0m     output_hidden_states\u001b[39m=\u001b[39;49moutput_hidden_states,\n\u001b[1;32m    672\u001b[0m     return_dict\u001b[39m=\u001b[39;49mreturn_dict,\n\u001b[1;32m    673\u001b[0m )\n\u001b[1;32m    675\u001b[0m hidden_states \u001b[39m=\u001b[39m outputs[\u001b[39m0\u001b[39m]\n\u001b[1;32m    676\u001b[0m lm_logits \u001b[39m=\u001b[39m \u001b[39mself\u001b[39m\u001b[39m.\u001b[39membed_out(hidden_states)\n",
      "File \u001b[0;32m/opt/conda/envs/unlearning/lib/python3.10/site-packages/torch/nn/modules/module.py:1501\u001b[0m, in \u001b[0;36mModule._call_impl\u001b[0;34m(self, *args, **kwargs)\u001b[0m\n\u001b[1;32m   1496\u001b[0m \u001b[39m# If we don't have any hooks, we want to skip the rest of the logic in\u001b[39;00m\n\u001b[1;32m   1497\u001b[0m \u001b[39m# this function, and just call forward.\u001b[39;00m\n\u001b[1;32m   1498\u001b[0m \u001b[39mif\u001b[39;00m \u001b[39mnot\u001b[39;00m (\u001b[39mself\u001b[39m\u001b[39m.\u001b[39m_backward_hooks \u001b[39mor\u001b[39;00m \u001b[39mself\u001b[39m\u001b[39m.\u001b[39m_backward_pre_hooks \u001b[39mor\u001b[39;00m \u001b[39mself\u001b[39m\u001b[39m.\u001b[39m_forward_hooks \u001b[39mor\u001b[39;00m \u001b[39mself\u001b[39m\u001b[39m.\u001b[39m_forward_pre_hooks\n\u001b[1;32m   1499\u001b[0m         \u001b[39mor\u001b[39;00m _global_backward_pre_hooks \u001b[39mor\u001b[39;00m _global_backward_hooks\n\u001b[1;32m   1500\u001b[0m         \u001b[39mor\u001b[39;00m _global_forward_hooks \u001b[39mor\u001b[39;00m _global_forward_pre_hooks):\n\u001b[0;32m-> 1501\u001b[0m     \u001b[39mreturn\u001b[39;00m forward_call(\u001b[39m*\u001b[39;49margs, \u001b[39m*\u001b[39;49m\u001b[39m*\u001b[39;49mkwargs)\n\u001b[1;32m   1502\u001b[0m \u001b[39m# Do not call functions when jit is used\u001b[39;00m\n\u001b[1;32m   1503\u001b[0m full_backward_hooks, non_full_backward_hooks \u001b[39m=\u001b[39m [], []\n",
      "File \u001b[0;32m/opt/conda/envs/unlearning/lib/python3.10/site-packages/transformers/models/gpt_neox/modeling_gpt_neox.py:553\u001b[0m, in \u001b[0;36mGPTNeoXModel.forward\u001b[0;34m(self, input_ids, attention_mask, position_ids, head_mask, inputs_embeds, past_key_values, use_cache, output_attentions, output_hidden_states, return_dict)\u001b[0m\n\u001b[1;32m    545\u001b[0m     outputs \u001b[39m=\u001b[39m torch\u001b[39m.\u001b[39mutils\u001b[39m.\u001b[39mcheckpoint\u001b[39m.\u001b[39mcheckpoint(\n\u001b[1;32m    546\u001b[0m         create_custom_forward(layer),\n\u001b[1;32m    547\u001b[0m         hidden_states,\n\u001b[0;32m   (...)\u001b[0m\n\u001b[1;32m    550\u001b[0m         head_mask[i],\n\u001b[1;32m    551\u001b[0m     )\n\u001b[1;32m    552\u001b[0m \u001b[39melse\u001b[39;00m:\n\u001b[0;32m--> 553\u001b[0m     outputs \u001b[39m=\u001b[39m layer(\n\u001b[1;32m    554\u001b[0m         hidden_states,\n\u001b[1;32m    555\u001b[0m         attention_mask\u001b[39m=\u001b[39;49mattention_mask,\n\u001b[1;32m    556\u001b[0m         position_ids\u001b[39m=\u001b[39;49mposition_ids,\n\u001b[1;32m    557\u001b[0m         head_mask\u001b[39m=\u001b[39;49mhead_mask[i],\n\u001b[1;32m    558\u001b[0m         layer_past\u001b[39m=\u001b[39;49mlayer_past,\n\u001b[1;32m    559\u001b[0m         use_cache\u001b[39m=\u001b[39;49muse_cache,\n\u001b[1;32m    560\u001b[0m         output_attentions\u001b[39m=\u001b[39;49moutput_attentions,\n\u001b[1;32m    561\u001b[0m     )\n\u001b[1;32m    562\u001b[0m hidden_states \u001b[39m=\u001b[39m outputs[\u001b[39m0\u001b[39m]\n\u001b[1;32m    563\u001b[0m \u001b[39mif\u001b[39;00m use_cache \u001b[39mis\u001b[39;00m \u001b[39mTrue\u001b[39;00m:\n",
      "File \u001b[0;32m/opt/conda/envs/unlearning/lib/python3.10/site-packages/torch/nn/modules/module.py:1501\u001b[0m, in \u001b[0;36mModule._call_impl\u001b[0;34m(self, *args, **kwargs)\u001b[0m\n\u001b[1;32m   1496\u001b[0m \u001b[39m# If we don't have any hooks, we want to skip the rest of the logic in\u001b[39;00m\n\u001b[1;32m   1497\u001b[0m \u001b[39m# this function, and just call forward.\u001b[39;00m\n\u001b[1;32m   1498\u001b[0m \u001b[39mif\u001b[39;00m \u001b[39mnot\u001b[39;00m (\u001b[39mself\u001b[39m\u001b[39m.\u001b[39m_backward_hooks \u001b[39mor\u001b[39;00m \u001b[39mself\u001b[39m\u001b[39m.\u001b[39m_backward_pre_hooks \u001b[39mor\u001b[39;00m \u001b[39mself\u001b[39m\u001b[39m.\u001b[39m_forward_hooks \u001b[39mor\u001b[39;00m \u001b[39mself\u001b[39m\u001b[39m.\u001b[39m_forward_pre_hooks\n\u001b[1;32m   1499\u001b[0m         \u001b[39mor\u001b[39;00m _global_backward_pre_hooks \u001b[39mor\u001b[39;00m _global_backward_hooks\n\u001b[1;32m   1500\u001b[0m         \u001b[39mor\u001b[39;00m _global_forward_hooks \u001b[39mor\u001b[39;00m _global_forward_pre_hooks):\n\u001b[0;32m-> 1501\u001b[0m     \u001b[39mreturn\u001b[39;00m forward_call(\u001b[39m*\u001b[39;49margs, \u001b[39m*\u001b[39;49m\u001b[39m*\u001b[39;49mkwargs)\n\u001b[1;32m   1502\u001b[0m \u001b[39m# Do not call functions when jit is used\u001b[39;00m\n\u001b[1;32m   1503\u001b[0m full_backward_hooks, non_full_backward_hooks \u001b[39m=\u001b[39m [], []\n",
      "File \u001b[0;32m/opt/conda/envs/unlearning/lib/python3.10/site-packages/transformers/models/gpt_neox/modeling_gpt_neox.py:335\u001b[0m, in \u001b[0;36mGPTNeoXLayer.forward\u001b[0;34m(self, hidden_states, attention_mask, position_ids, head_mask, use_cache, layer_past, output_attentions)\u001b[0m\n\u001b[1;32m    330\u001b[0m outputs \u001b[39m=\u001b[39m attention_layer_outputs[\u001b[39m1\u001b[39m:]\n\u001b[1;32m    332\u001b[0m \u001b[39mif\u001b[39;00m \u001b[39mself\u001b[39m\u001b[39m.\u001b[39muse_parallel_residual:\n\u001b[1;32m    333\u001b[0m     \u001b[39m# pseudocode:\u001b[39;00m\n\u001b[1;32m    334\u001b[0m     \u001b[39m# x = x + attn(ln1(x)) + mlp(ln2(x))\u001b[39;00m\n\u001b[0;32m--> 335\u001b[0m     mlp_output \u001b[39m=\u001b[39m \u001b[39mself\u001b[39;49m\u001b[39m.\u001b[39;49mmlp(\u001b[39mself\u001b[39;49m\u001b[39m.\u001b[39;49mpost_attention_layernorm(hidden_states))\n\u001b[1;32m    336\u001b[0m     hidden_states \u001b[39m=\u001b[39m mlp_output \u001b[39m+\u001b[39m attn_output \u001b[39m+\u001b[39m hidden_states\n\u001b[1;32m    337\u001b[0m \u001b[39melse\u001b[39;00m:\n\u001b[1;32m    338\u001b[0m     \u001b[39m# pseudocode:\u001b[39;00m\n\u001b[1;32m    339\u001b[0m     \u001b[39m# x = x + attn(ln1(x))\u001b[39;00m\n\u001b[1;32m    340\u001b[0m     \u001b[39m# x = x + mlp(ln2(x))\u001b[39;00m\n",
      "File \u001b[0;32m/opt/conda/envs/unlearning/lib/python3.10/site-packages/torch/nn/modules/module.py:1501\u001b[0m, in \u001b[0;36mModule._call_impl\u001b[0;34m(self, *args, **kwargs)\u001b[0m\n\u001b[1;32m   1496\u001b[0m \u001b[39m# If we don't have any hooks, we want to skip the rest of the logic in\u001b[39;00m\n\u001b[1;32m   1497\u001b[0m \u001b[39m# this function, and just call forward.\u001b[39;00m\n\u001b[1;32m   1498\u001b[0m \u001b[39mif\u001b[39;00m \u001b[39mnot\u001b[39;00m (\u001b[39mself\u001b[39m\u001b[39m.\u001b[39m_backward_hooks \u001b[39mor\u001b[39;00m \u001b[39mself\u001b[39m\u001b[39m.\u001b[39m_backward_pre_hooks \u001b[39mor\u001b[39;00m \u001b[39mself\u001b[39m\u001b[39m.\u001b[39m_forward_hooks \u001b[39mor\u001b[39;00m \u001b[39mself\u001b[39m\u001b[39m.\u001b[39m_forward_pre_hooks\n\u001b[1;32m   1499\u001b[0m         \u001b[39mor\u001b[39;00m _global_backward_pre_hooks \u001b[39mor\u001b[39;00m _global_backward_hooks\n\u001b[1;32m   1500\u001b[0m         \u001b[39mor\u001b[39;00m _global_forward_hooks \u001b[39mor\u001b[39;00m _global_forward_pre_hooks):\n\u001b[0;32m-> 1501\u001b[0m     \u001b[39mreturn\u001b[39;00m forward_call(\u001b[39m*\u001b[39;49margs, \u001b[39m*\u001b[39;49m\u001b[39m*\u001b[39;49mkwargs)\n\u001b[1;32m   1502\u001b[0m \u001b[39m# Do not call functions when jit is used\u001b[39;00m\n\u001b[1;32m   1503\u001b[0m full_backward_hooks, non_full_backward_hooks \u001b[39m=\u001b[39m [], []\n",
      "File \u001b[0;32m/opt/conda/envs/unlearning/lib/python3.10/site-packages/transformers/models/gpt_neox/modeling_gpt_neox.py:297\u001b[0m, in \u001b[0;36mGPTNeoXMLP.forward\u001b[0;34m(self, hidden_states)\u001b[0m\n\u001b[1;32m    295\u001b[0m hidden_states \u001b[39m=\u001b[39m \u001b[39mself\u001b[39m\u001b[39m.\u001b[39mdense_h_to_4h(hidden_states)\n\u001b[1;32m    296\u001b[0m hidden_states \u001b[39m=\u001b[39m \u001b[39mself\u001b[39m\u001b[39m.\u001b[39mact(hidden_states)\n\u001b[0;32m--> 297\u001b[0m hidden_states \u001b[39m=\u001b[39m \u001b[39mself\u001b[39;49m\u001b[39m.\u001b[39;49mdense_4h_to_h(hidden_states)\n\u001b[1;32m    298\u001b[0m \u001b[39mreturn\u001b[39;00m hidden_states\n",
      "File \u001b[0;32m/opt/conda/envs/unlearning/lib/python3.10/site-packages/torch/nn/modules/module.py:1501\u001b[0m, in \u001b[0;36mModule._call_impl\u001b[0;34m(self, *args, **kwargs)\u001b[0m\n\u001b[1;32m   1496\u001b[0m \u001b[39m# If we don't have any hooks, we want to skip the rest of the logic in\u001b[39;00m\n\u001b[1;32m   1497\u001b[0m \u001b[39m# this function, and just call forward.\u001b[39;00m\n\u001b[1;32m   1498\u001b[0m \u001b[39mif\u001b[39;00m \u001b[39mnot\u001b[39;00m (\u001b[39mself\u001b[39m\u001b[39m.\u001b[39m_backward_hooks \u001b[39mor\u001b[39;00m \u001b[39mself\u001b[39m\u001b[39m.\u001b[39m_backward_pre_hooks \u001b[39mor\u001b[39;00m \u001b[39mself\u001b[39m\u001b[39m.\u001b[39m_forward_hooks \u001b[39mor\u001b[39;00m \u001b[39mself\u001b[39m\u001b[39m.\u001b[39m_forward_pre_hooks\n\u001b[1;32m   1499\u001b[0m         \u001b[39mor\u001b[39;00m _global_backward_pre_hooks \u001b[39mor\u001b[39;00m _global_backward_hooks\n\u001b[1;32m   1500\u001b[0m         \u001b[39mor\u001b[39;00m _global_forward_hooks \u001b[39mor\u001b[39;00m _global_forward_pre_hooks):\n\u001b[0;32m-> 1501\u001b[0m     \u001b[39mreturn\u001b[39;00m forward_call(\u001b[39m*\u001b[39;49margs, \u001b[39m*\u001b[39;49m\u001b[39m*\u001b[39;49mkwargs)\n\u001b[1;32m   1502\u001b[0m \u001b[39m# Do not call functions when jit is used\u001b[39;00m\n\u001b[1;32m   1503\u001b[0m full_backward_hooks, non_full_backward_hooks \u001b[39m=\u001b[39m [], []\n",
      "File \u001b[0;32m/opt/conda/envs/unlearning/lib/python3.10/site-packages/torch/nn/modules/linear.py:114\u001b[0m, in \u001b[0;36mLinear.forward\u001b[0;34m(self, input)\u001b[0m\n\u001b[1;32m    113\u001b[0m \u001b[39mdef\u001b[39;00m \u001b[39mforward\u001b[39m(\u001b[39mself\u001b[39m, \u001b[39minput\u001b[39m: Tensor) \u001b[39m-\u001b[39m\u001b[39m>\u001b[39m Tensor:\n\u001b[0;32m--> 114\u001b[0m     \u001b[39mreturn\u001b[39;00m F\u001b[39m.\u001b[39;49mlinear(\u001b[39minput\u001b[39;49m, \u001b[39mself\u001b[39;49m\u001b[39m.\u001b[39;49mweight, \u001b[39mself\u001b[39;49m\u001b[39m.\u001b[39;49mbias)\n",
      "\u001b[0;31mKeyboardInterrupt\u001b[0m: "
     ]
    }
   ],
   "source": [
    "for i, m in enumerate(models):\n",
    "  print(f\"Model #{i}\")\n",
    "  m.to(device)\n",
    "  m = train(m, train_arr[i], test_arr[i], collate_fn, bs, epochs)\n",
    "  # train(m, train_dls[i], epochs)\n",
    "  m.to('cpu')\n",
    "  torch.cuda.empty_cache()\n",
    "\n",
    "  "
   ]
  },
  {
   "cell_type": "markdown",
   "metadata": {
    "id": "gWUmqmguLGkf"
   },
   "source": [
    "# Save Models"
   ]
  },
  {
   "cell_type": "code",
   "execution_count": null,
   "metadata": {
    "id": "C3pWx2sKb0nD"
   },
   "outputs": [],
   "source": [
    "for i, model in enumerate(models):\n",
    "  model_save_name = f'model_{i}.pt'\n",
    "  path = f\"/content/gdrive/My Drive/{model_save_name}\" \n",
    "  model.save_pretrained(path)"
   ]
  },
  {
   "cell_type": "markdown",
   "metadata": {
    "id": "ENHs6nGEQBXq"
   },
   "source": [
    "# Load Models\n",
    "(If not saving them)"
   ]
  },
  {
   "cell_type": "code",
   "execution_count": null,
   "metadata": {
    "id": "3y0pZOF9-ku7"
   },
   "outputs": [],
   "source": [
    "import math\n",
    "from torch.nn import CrossEntropyLoss\n",
    "\n",
    "def compute_ce_loss(model, tokenizer, string):\n",
    "  input_ids = tokenizer.encode(string, return_tensors=\"pt\")\n",
    "\n",
    "  with torch.no_grad():\n",
    "    outputs = model(input_ids)\n",
    "    logits = outputs.logits\n",
    "\n",
    "  loss_fn = CrossEntropyLoss()\n",
    "  input_len = input_ids.shape[-1] - 1\n",
    "  input_ids_without_first_token = input_ids[:, 1:]\n",
    "  logits_without_last_token = logits[:, :-1, :]\n",
    "  loss = loss_fn(logits_without_last_token.view(-1, logits.size(-1)), input_ids_without_first_token.view(-1))\n",
    "  return loss\n",
    "\n",
    "def compute_confidence(ce_loss):\n",
    "  conf = math.exp(-1 * ce_loss)\n",
    "  return math.log(conf / (1-conf))"
   ]
  },
  {
   "cell_type": "code",
   "execution_count": null,
   "metadata": {
    "id": "Pmmcj2aL57WD"
   },
   "outputs": [],
   "source": [
    "# Normality Testing\n",
    "# \"empirically\" normally dist. \n",
    "\n",
    "new_model = GPTNeoXForCausalLM.from_pretrained(\"/content/gdrive/My Drive/model_10.pt\", local_files_only=True)"
   ]
  },
  {
   "cell_type": "code",
   "execution_count": null,
   "metadata": {
    "id": "5_g2FSQp8zT-"
   },
   "outputs": [],
   "source": [
    "# Likelihood ratio attacks\n",
    "default_tokenizer = AutoTokenizer.from_pretrained( \"EleutherAI/pythia-160m-deduped\")\n",
    "string = \"Hello! I love bitcoin and artificial intelligence. Fentanyl and oxycodon, along with frequent invokations of JFK, are titivating\""
   ]
  },
  {
   "cell_type": "code",
   "execution_count": null,
   "metadata": {
    "colab": {
     "base_uri": "https://localhost:8080/"
    },
    "id": "sGOE5mhddPiM",
    "outputId": "2018e9e7-63ea-4c31-86b8-15cc2cd63bea"
   },
   "outputs": [
    {
     "name": "stdout",
     "output_type": "stream",
     "text": [
      "Model Output: 8.479928970336914 -8.479721355338926\n"
     ]
    }
   ],
   "source": [
    "new_model.eval()\n",
    "ce_loss = compute_ce_loss(new_model, default_tokenizer, string)\n",
    "conf = compute_confidence(ce_loss)\n",
    "print(f\"Model Output: {ce_loss} {conf}\")"
   ]
  },
  {
   "cell_type": "markdown",
   "metadata": {
    "id": "bM9K_Cc4Qt0s"
   },
   "source": [
    "# Viz"
   ]
  },
  {
   "cell_type": "code",
   "execution_count": null,
   "metadata": {
    "id": "68aPyJTqa7mJ"
   },
   "outputs": [],
   "source": [
    "def get_in_models(chunk_no, N):\n",
    "  \"\"\"\n",
    "  Returns a list of models that should be used for inference for a given chunk\n",
    "  \"\"\"\n",
    "  ins = []\n",
    "  outs = []\n",
    "  for i in range(N):\n",
    "    lower = i\n",
    "    upper = int(i+N/2)\n",
    "    innit = False\n",
    "    for j in range(lower, upper):\n",
    "      if chunk_no == j % N:\n",
    "        innit = True\n",
    "    if innit:\n",
    "      ins.append(i)\n",
    "    else:\n",
    "      outs.append(i)\n",
    "  return (ins, outs)"
   ]
  },
  {
   "cell_type": "code",
   "execution_count": null,
   "metadata": {
    "colab": {
     "base_uri": "https://localhost:8080/"
    },
    "id": "Ap6tQ5-RQuRI",
    "outputId": "628bfbe2-471a-4384-86f7-8afe86ba4076"
   },
   "outputs": [
    {
     "name": "stdout",
     "output_type": "stream",
     "text": [
      "0\n",
      " - 0\n",
      " - 1\n",
      " - 8\n",
      " - 9\n",
      " - 10\n",
      " - 11\n",
      " - 2\n",
      " - 3\n",
      " - 4\n",
      " - 5\n",
      " - 6\n",
      " - 7\n",
      "1\n",
      " - 0\n",
      " - 1\n",
      " - 8\n",
      " - 9\n",
      " - 10\n",
      " - 11\n",
      " - 2\n",
      " - 3\n",
      " - 4\n",
      " - 5\n",
      " - 6\n",
      " - 7\n",
      "2\n",
      " - 0\n",
      " - 1\n",
      " - 8\n",
      " - 9\n",
      " - 10\n",
      " - 11\n",
      " - 2\n",
      " - 3\n",
      " - 4\n",
      " - 5\n",
      " - 6\n",
      " - 7\n",
      "3\n",
      " - 0\n",
      " - 1\n",
      " - 8\n",
      " - 9\n",
      " - 10\n",
      " - 11\n",
      " - 2\n",
      " - 3\n",
      " - 4\n",
      " - 5\n",
      " - 6\n",
      " - 7\n",
      "4\n",
      " - 0\n",
      " - 1\n",
      " - 8\n",
      " - 9\n",
      " - 10\n",
      " - 11\n",
      " - 2\n",
      " - 3\n",
      " - 4\n",
      " - 5\n",
      " - 6\n",
      " - 7\n",
      "5\n",
      " - 0\n",
      " - 1\n",
      " - 8\n",
      " - 9\n",
      " - 10\n",
      " - 11\n",
      " - 2\n",
      " - 3\n",
      " - 4\n",
      " - 5\n",
      " - 6\n",
      " - 7\n",
      "6\n",
      " -- 0\n",
      " -- 1\n",
      " -- 8\n",
      " -- 9\n",
      " -- 10\n",
      " -- 11\n",
      " -- 2\n",
      " -- 3\n",
      " -- 4\n",
      " -- 5\n",
      " -- 6\n",
      " -- 7\n",
      "7\n",
      " - 0\n",
      " - 1\n",
      " - 8\n",
      " - 9\n",
      " - 10\n",
      " - 11\n",
      " - 2\n",
      " - 3\n",
      " - 4\n",
      " - 5\n",
      " - 6\n",
      " - 7\n",
      "8\n",
      " - 0\n",
      " - 1\n",
      " - 8\n",
      " - 9\n",
      " - 10\n",
      " - 11\n",
      " - 2\n",
      " - 3\n",
      " - 4\n",
      " - 5\n",
      " - 6\n",
      " - 7\n",
      "9\n",
      " -- 0\n",
      " -- 1\n",
      " -- 8\n",
      " -- 9\n",
      " -- 10\n",
      " -- 11\n",
      " -- 2\n",
      " -- 3\n",
      " -- 4\n",
      " -- 5\n",
      " -- 6\n",
      " -- 7\n",
      "10\n",
      " - 0\n",
      " - 1\n",
      " - 8\n",
      " - 9\n",
      " - 10\n",
      " - 11\n",
      " - 2\n",
      " - 3\n",
      " - 4\n",
      " - 5\n",
      " - 6\n",
      " - 7\n",
      "11\n",
      " -- 0\n",
      " -- 1\n",
      " -- 8\n",
      " -- 9\n",
      " -- 10\n",
      " -- 11\n",
      " -- 2\n",
      " -- 3\n",
      " -- 4\n",
      " -- 5\n",
      " -- 6\n",
      " -- 7\n",
      "12\n",
      " - 0\n",
      " - 1\n",
      " - 8\n",
      " - 9\n",
      " - 10\n",
      " - 11\n",
      " - 2\n",
      " - 3\n",
      " - 4\n",
      " - 5\n",
      " - 6\n",
      " - 7\n",
      "13\n",
      " - 0\n",
      " - 1\n",
      " - 8\n",
      " - 9\n",
      " - 10\n",
      " - 11\n",
      " - 2\n",
      " - 3\n",
      " - 4\n",
      " - 5\n",
      " - 6\n",
      " - 7\n",
      "14\n",
      " - 0\n",
      " - 1\n",
      " - 8\n",
      " - 9\n",
      " - 10\n",
      " - 11\n",
      " - 2\n",
      " - 3\n",
      " - 4\n",
      " - 5\n",
      " - 6\n",
      " - 7\n",
      "15\n",
      " - 0\n",
      " - 1\n",
      " - 8\n",
      " - 9\n",
      " - 10\n",
      " - 11\n",
      " - 2\n",
      " - 3\n",
      " - 4\n",
      " - 5\n",
      " - 6\n",
      " - 7\n",
      "16\n",
      " - 0\n",
      " - 1\n",
      " - 8\n",
      " - 9\n",
      " - 10\n",
      " - 11\n",
      " - 2\n",
      " - 3\n",
      " - 4\n",
      " - 5\n",
      " - 6\n",
      " - 7\n",
      "17\n",
      " -- 0\n",
      " -- 1\n",
      " -- 8\n",
      " -- 9\n",
      " -- 10\n",
      " -- 11\n",
      " -- 2\n",
      " -- 3\n",
      " -- 4\n",
      " -- 5\n",
      " -- 6\n",
      " -- 7\n",
      "18\n",
      " - 0\n",
      " - 1\n",
      " - 8\n",
      " - 9\n",
      " - 10\n",
      " - 11\n",
      " - 2\n",
      " - 3\n",
      " - 4\n",
      " - 5\n",
      " - 6\n",
      " - 7\n",
      "19\n",
      " -- 0\n",
      " -- 1\n",
      " -- 8\n",
      " -- 9\n",
      " -- 10\n",
      " -- 11\n",
      " -- 2\n",
      " -- 3\n",
      " -- 4\n",
      " -- 5\n",
      " -- 6\n",
      " -- 7\n",
      "20\n",
      " - 0\n",
      " - 1\n",
      " - 8\n",
      " - 9\n",
      " - 10\n",
      " - 11\n",
      " - 2\n",
      " - 3\n",
      " - 4\n",
      " - 5\n",
      " - 6\n",
      " - 7\n",
      "21\n",
      " - 0\n",
      " - 1\n",
      " - 8\n",
      " - 9\n",
      " - 10\n",
      " - 11\n",
      " - 2\n",
      " - 3\n",
      " - 4\n",
      " - 5\n",
      " - 6\n",
      " - 7\n",
      "22\n",
      " -- 0\n",
      " -- 1\n",
      " -- 8\n",
      " -- 9\n",
      " -- 10\n",
      " -- 11\n",
      " -- 2\n",
      " -- 3\n",
      " -- 4\n",
      " -- 5\n",
      " -- 6\n",
      " -- 7\n",
      "23\n",
      " - 0\n",
      " - 1\n",
      " - 8\n",
      " - 9\n",
      " - 10\n",
      " - 11\n",
      " - 2\n",
      " - 3\n",
      " - 4\n",
      " - 5\n",
      " - 6\n",
      " - 7\n",
      "24\n",
      " -- 0\n",
      " -- 1\n",
      " -- 8\n",
      " -- 9\n",
      " -- 10\n",
      " -- 11\n",
      " -- 2\n",
      " -- 3\n",
      " -- 4\n",
      " -- 5\n",
      " -- 6\n",
      " -- 7\n",
      "25\n",
      " - 0\n",
      " - 1\n",
      " - 8\n",
      " - 9\n",
      " - 10\n",
      " - 11\n",
      " - 2\n",
      " - 3\n",
      " - 4\n",
      " - 5\n",
      " - 6\n",
      " - 7\n",
      "26\n",
      " - 0\n",
      " - 1\n",
      " - 8\n",
      " - 9\n",
      " - 10\n",
      " - 11\n",
      " - 2\n",
      " - 3\n",
      " - 4\n",
      " - 5\n",
      " - 6\n",
      " - 7\n",
      "27\n",
      " - 0\n",
      " - 1\n",
      " - 8\n",
      " - 9\n",
      " - 10\n",
      " - 11\n",
      " - 2\n",
      " - 3\n",
      " - 4\n",
      " - 5\n",
      " - 6\n",
      " - 7\n",
      "28\n",
      " -- 0\n",
      " -- 1\n",
      " -- 8\n",
      " -- 9\n",
      " -- 10\n",
      " -- 11\n",
      " -- 2\n",
      " -- 3\n",
      " -- 4\n",
      " -- 5\n",
      " -- 6\n",
      " -- 7\n",
      "29\n",
      " - 0\n",
      " - 1\n",
      " - 8\n",
      " - 9\n",
      " - 10\n",
      " - 11\n",
      " - 2\n",
      " - 3\n",
      " - 4\n",
      " - 5\n",
      " - 6\n",
      " - 7\n"
     ]
    }
   ],
   "source": [
    "import matplotlib.pyplot as plt\n",
    "from torch.utils.data import DataLoader, SubsetRandomSampler\n",
    "import random\n",
    "\n",
    "# Define your 30 sets of 12 numbers\n",
    "chunk = []\n",
    "chunkno = 1\n",
    "ins, outs = get_in_models(chunkno, N)\n",
    "\n",
    "inconfidences = [[] for i in range(30)]\n",
    "outconfidences = [[] for i in range(30)]\n",
    "\n",
    "# Get In Confidences\n",
    "for i, b in enumerate(random.sample(train_chunks[chunkno], 30)):\n",
    "  print(f\"{i}\")\n",
    "  for index in ins:\n",
    "    # try:\n",
    "    #   ce_loss = compute_ce_loss(models[index], default_tokenizer, b)\n",
    "    #   conf = compute_confidence(ce_loss)\n",
    "    #   inconfidences[i].append(conf)\n",
    "    #   print(f\" - {index}\")\n",
    "    # except:\n",
    "    ce_loss = compute_ce_loss(models[index], default_tokenizer, b[:2048])\n",
    "    conf = compute_confidence(ce_loss)\n",
    "    inconfidences[i].append(conf)\n",
    "    print(f\" -- {index}\")\n",
    "\n",
    "  for index in outs:\n",
    "    # try:\n",
    "    #   ce_loss = compute_ce_loss(models[index], default_tokenizer, b)\n",
    "    #   conf = compute_confidence(ce_loss)\n",
    "    #   outconfidences[i].append(conf)\n",
    "    #   print(f\" - {index}\")\n",
    "    # except:\n",
    "    ce_loss = compute_ce_loss(models[index], default_tokenizer, b[:2048])\n",
    "    conf = compute_confidence(ce_loss)\n",
    "    inconfidences[i].append(conf)\n",
    "    print(f\" -- {index}\")\n"
   ]
  },
  {
   "cell_type": "code",
   "execution_count": null,
   "metadata": {
    "colab": {
     "base_uri": "https://localhost:8080/"
    },
    "id": "no8vEn3D0Sbq",
    "outputId": "889e4b04-5cfc-496b-9c55-95990b64ecd1"
   },
   "outputs": [
    {
     "data": {
      "text/plain": [
       "[[-5.008516755007468,\n",
       "  -4.642556059993249,\n",
       "  -5.149636507841942,\n",
       "  -4.276712242079647,\n",
       "  -4.507794429312644,\n",
       "  -4.097030041246043],\n",
       " [-4.74170363680411,\n",
       "  -5.058258242172654,\n",
       "  -5.761728480704437,\n",
       "  -5.039497155001716,\n",
       "  -5.090347651713408,\n",
       "  -4.9854503598342745],\n",
       " [-4.374619294362083,\n",
       "  -4.643322494629266,\n",
       "  -4.964574245900876,\n",
       "  -4.493790475908574,\n",
       "  -4.459352276924914,\n",
       "  -4.276808933933826],\n",
       " [-5.784305678332781,\n",
       "  -6.295394314033934,\n",
       "  -6.069884850499335,\n",
       "  -5.349111634769479,\n",
       "  -5.325273934629069,\n",
       "  -5.312268218615236],\n",
       " [-4.892034183756799,\n",
       "  -5.7639685256244535,\n",
       "  -5.756262953731349,\n",
       "  -5.0260116167528635,\n",
       "  -4.471346156746507,\n",
       "  -4.748248858810809],\n",
       " [-3.0781388524512114,\n",
       "  -3.29038085935437,\n",
       "  -3.6509506452495617,\n",
       "  -2.9696100838939143,\n",
       "  -3.091816396546448,\n",
       "  -2.891121151347303],\n",
       " [],\n",
       " [-3.5829961526683287,\n",
       "  -4.040697899293972,\n",
       "  -4.173824744739535,\n",
       "  -3.656241927967994,\n",
       "  -3.6080785837244727,\n",
       "  -3.723221700878654],\n",
       " [-5.499891739085198,\n",
       "  -6.255186724910647,\n",
       "  -7.310384462645186,\n",
       "  -6.662953794108519,\n",
       "  -6.184338209033836,\n",
       "  -6.4527579001211235],\n",
       " [],\n",
       " [-5.339247625886728,\n",
       "  -5.604022186171076,\n",
       "  -5.879373752632511,\n",
       "  -5.409600479465729,\n",
       "  -5.10449841195185,\n",
       "  -5.147878751969315],\n",
       " [],\n",
       " [-4.469430486784445,\n",
       "  -4.7888405373265375,\n",
       "  -4.974935855599071,\n",
       "  -4.575851898917587,\n",
       "  -4.730735421666384,\n",
       "  -4.776932803043063],\n",
       " [-4.887394722628323,\n",
       "  -5.193238574682914,\n",
       "  -6.096944939046119,\n",
       "  -5.528622028424669,\n",
       "  -5.230838369267835,\n",
       "  -5.010827567130493],\n",
       " [-6.220003322634582,\n",
       "  -5.778479409498147,\n",
       "  -7.745126939336136,\n",
       "  -6.203899296765364,\n",
       "  -5.751869321206187,\n",
       "  -6.8227515355440325],\n",
       " [-5.170125407111563,\n",
       "  -5.327016624681064,\n",
       "  -6.223104620082864,\n",
       "  -5.522381694002589,\n",
       "  -5.351200514693914,\n",
       "  -5.151212477899478],\n",
       " [-4.043597030773444,\n",
       "  -4.128581519243681,\n",
       "  -4.932256860920012,\n",
       "  -4.107964353973652,\n",
       "  -4.19327565232213,\n",
       "  -3.9425361222488315],\n",
       " [],\n",
       " [-5.226231875565334,\n",
       "  -5.55068290746522,\n",
       "  -5.410686781376103,\n",
       "  -5.166694691485952,\n",
       "  -5.412731486212388,\n",
       "  -5.49617010655457],\n",
       " [],\n",
       " [-5.934331029645382,\n",
       "  -6.204063660316551,\n",
       "  -7.045757280588658,\n",
       "  -5.969583975632564,\n",
       "  -5.793490892580246,\n",
       "  -5.455701494903516],\n",
       " [-4.711338118540536,\n",
       "  -4.71307544829949,\n",
       "  -5.133355117609015,\n",
       "  -4.313319917544108,\n",
       "  -4.234456595007883,\n",
       "  -4.1861560752380855],\n",
       " [],\n",
       " [-4.841212682767824,\n",
       "  -4.873291344291806,\n",
       "  -7.635658496261367,\n",
       "  -5.1333704663745445,\n",
       "  -6.988323725143677,\n",
       "  -4.707099806237664],\n",
       " [],\n",
       " [-3.911089893754491,\n",
       "  -3.984199622994799,\n",
       "  -3.988730622711531,\n",
       "  -3.5752379542677253,\n",
       "  -3.691954562349715,\n",
       "  -3.6495717576582485],\n",
       " [-4.087566245745901,\n",
       "  -4.172916906161202,\n",
       "  -4.320457247210723,\n",
       "  -3.9072648356317825,\n",
       "  -3.694529555303046,\n",
       "  -3.625044300350425],\n",
       " [-5.930528686463774,\n",
       "  -6.910615863995936,\n",
       "  -6.496533152569116,\n",
       "  -6.527651925282019,\n",
       "  -5.801375891219425,\n",
       "  -6.59745539728978],\n",
       " [],\n",
       " [-4.959393162404064,\n",
       "  -5.581876286387426,\n",
       "  -5.4154198927919435,\n",
       "  -5.464994822385605,\n",
       "  -5.206603742057316,\n",
       "  -5.068365865015104]]"
      ]
     },
     "execution_count": 75,
     "metadata": {},
     "output_type": "execute_result"
    }
   ],
   "source": [
    "outconfidences"
   ]
  },
  {
   "cell_type": "markdown",
   "metadata": {},
   "source": [
    "# Visualizing Figure"
   ]
  },
  {
   "cell_type": "code",
   "execution_count": null,
   "metadata": {
    "id": "ac3N68Dm1-BZ"
   },
   "outputs": [],
   "source": [
    "import copy\n",
    "inconf_copy = copy.deepcopy(inconfidences)\n",
    "outconf_copy = copy.deepcopy(outconfidences)\n",
    "\n",
    "inconf = []\n",
    "outconf = []\n",
    "\n",
    "for i in range(len(inconf_copy)):\n",
    "  if len(inconf_copy[i]) == 0 or len(outconf_copy[i]) == 0:\n",
    "    continue\n",
    "  else:\n",
    "    inconf.append(inconf_copy[i])\n",
    "    outconf.append(outconf_copy[i])\n",
    "\n",
    "inconf = inconf[:20]\n",
    "outconf = outconf[:20]"
   ]
  },
  {
   "cell_type": "code",
   "execution_count": null,
   "metadata": {
    "colab": {
     "base_uri": "https://localhost:8080/",
     "height": 570
    },
    "id": "hxPrm_YyvULB",
    "outputId": "adf09422-bc1a-42f6-e2f5-3bb743d1cc62"
   },
   "outputs": [
    {
     "data": {
      "image/png": "[encoded data removed]",
      "text/plain": [
       "<Figure size 2000x1600 with 20 Axes>"
      ]
     },
     "metadata": {},
     "output_type": "display_data"
    }
   ],
   "source": [
    "# Create a figure with a specified size\n",
    "fig, axs = plt.subplots(nrows=4, ncols=5, figsize=(20, 16))\n",
    "num_bins = 20\n",
    "\n",
    "# Loop through the 30 lists in A and B\n",
    "for i in range(20):\n",
    "    # Determine the position of the subplot in the 10x3 grid\n",
    "    row = i // 5\n",
    "    col = i % 5\n",
    "\n",
    "    # Create the histograms for A[i] and B[i]\n",
    "    axs[row, col].hist(inconf[i], bins=num_bins, color='red', alpha=0.5, label='IN models')\n",
    "    axs[row, col].hist(outconf[i], bins=num_bins, color='blue', alpha=0.5, label='OUT models')\n",
    "    \n",
    "    # Set the title for the subplot\n",
    "    axs[row, col].set_title(f'Graph {i+1}')\n",
    "    \n",
    "    # Add a legend to the subplot\n",
    "    axs[row, col].legend(loc='upper right')\n",
    "    axs[row, col].set_xlabel('Logit-scaled conf')\n",
    "    axs[row, col].set_ylabel('# of models')\n",
    "\n",
    "# Adjust the layout to avoid overlapping labels\n",
    "plt.tight_layout()\n",
    "\n",
    "# Save the figure as a file\n",
    "plt.savefig('histograms.png')\n",
    "\n",
    "# Display the figure\n",
    "plt.show()\n",
    "\n",
    "\n",
    "\n"
   ]
  }
 ],
 "metadata": {
  "accelerator": "GPU",
  "colab": {
   "provenance": []
  },
  "gpuClass": "premium",
  "kernelspec": {
   "display_name": "Python 3 (ipykernel)",
   "language": "python",
   "name": "python3"
  },
  "language_info": {
   "codemirror_mode": {
    "name": "ipython",
    "version": 3
   },
   "file_extension": ".py",
   "mimetype": "text/x-python",
   "name": "python",
   "nbconvert_exporter": "python",
   "pygments_lexer": "ipython3",
   "version": "3.10.10"
  }
 },
 "nbformat": 4,
 "nbformat_minor": 1
}
