{
 "cells": [
  {
   "cell_type": "code",
   "execution_count": 1,
   "id": "33048a3a",
   "metadata": {},
   "outputs": [],
   "source": [
    "import torch\n",
    "import copy\n",
    "from torch.utils.data import DataLoader\n",
    "import json\n",
    "from datasets import load_dataset\n",
    "from evaluate import load as load_metric\n",
    "from transformers import GPTNeoXForCausalLM, AutoTokenizer\n",
    "from transformers import Trainer, TrainingArguments, EarlyStoppingCallback\n",
    "from transformers.optimization import AdamW\n",
    "import numpy as np\n",
    "import matplotlib.pyplot as plt\n",
    "import sklearn\n",
    "import random\n",
    "import time\n",
    "import os\n",
    "import sys\n",
    "from common_code import *"
   ]
  },
  {
   "cell_type": "code",
   "execution_count": 2,
   "id": "ce33b834",
   "metadata": {},
   "outputs": [],
   "source": [
    "# Hyperparameters\n",
    "epochs = 12 # epochs to train (unless validation loss rises)\n",
    "bs = 4\n",
    "learn = 5e-5\n",
    "early_stop_patience = 1 # >= 1 (if val loss increases, runs early_stop_patience more epochs, then stops)\n",
    "mod_size = \"70m\"\n",
    "\n",
    "model_title = f\"pythia-{mod_size}-deduped\"\n",
    "model_name = \"EleutherAI/\" + model_title\n",
    "model_revision = \"step143000\"\n",
    "model_cache_dir = \"./\"+ model_title +\"/\"+model_revision\n",
    "\n",
    "device = \"cuda\" if torch.cuda.is_available() else \"cpu\""
   ]
  },
  {
   "cell_type": "code",
   "execution_count": 3,
   "id": "4343bdc7",
   "metadata": {
    "scrolled": true
   },
   "outputs": [
    {
     "name": "stderr",
     "output_type": "stream",
     "text": [
      "Using pad_token, but it is not set yet.\n"
     ]
    },
    {
     "name": "stdout",
     "output_type": "stream",
     "text": [
      "Total Memory: 15.77 GB\n",
      "Reserved Memory: 0.16 GB (1.02%)\n",
      "Remaining Memory: 15.61 GB (98.98%)\n",
      "---------------------------------\n",
      "Allocated Memory: 0.16 GB (1.01%)\n",
      "Percent of Reserved Allocated: 99.44%\n",
      "\n"
     ]
    }
   ],
   "source": [
    "model = GPTNeoXForCausalLM.from_pretrained(\n",
    "  model_name,\n",
    "  revision=model_revision,\n",
    "  cache_dir=model_cache_dir,\n",
    ")\n",
    "\n",
    "tokenizer = AutoTokenizer.from_pretrained(\n",
    "  model_name,\n",
    "  revision=model_revision,\n",
    "  cache_dir=model_cache_dir,\n",
    ")\n",
    "# if tokenizer.pad_token is None:\n",
    "#     tokenizer.add_special_tokens({'pad_token': '[PAD]'})\n",
    "#     model.resize_token_embeddings(len(tokenizer))\n",
    "# tokenizer.save_pretrained(f\"loss_ratio/pythia-{mod_size}\")\n",
    "  \n",
    "model.half()\n",
    "model.eval()\n",
    "model.to(device)\n",
    "mem_stats()"
   ]
  },
  {
   "cell_type": "code",
   "execution_count": 4,
   "id": "44ec7ddc",
   "metadata": {},
   "outputs": [
    {
     "name": "stderr",
     "output_type": "stream",
     "text": [
      "No config specified, defaulting to: the_pile_val/all\n",
      "Found cached dataset the_pile_val (/home/ec2-user/.cache/huggingface/datasets/the_pile_val/all/0.0.0/33c9237089c5fb09f83b2ab7ac73d703de97fc4d122e4b82a7777d85b0919e30)\n",
      "Loading cached shuffled indices for dataset at /home/ec2-user/.cache/huggingface/datasets/the_pile_val/all/0.0.0/33c9237089c5fb09f83b2ab7ac73d703de97fc4d122e4b82a7777d85b0919e30/cache-0289bfade3adba36.arrow\n"
     ]
    }
   ],
   "source": [
    "dataset = list(dict.fromkeys(entry[\"text\"] for entry in load_dataset(\"wk1/the_pile_val.py\", split=\"validation\").shuffle(seed=229)))\n",
    "dataset = dataset[:len(dataset)//40]\n",
    "train_dataset = dataset[:len(dataset)//2]\n",
    "val_dataset = dataset[len(dataset)//2:]\n",
    "print(len(train_dataset))"
   ]
  },
  {
   "cell_type": "code",
   "execution_count": 5,
   "id": "8bbc377e",
   "metadata": {},
   "outputs": [],
   "source": [
    "## Collate functions for loading dataset\n",
    "def collate_fn(batch):\n",
    "    tokens = [tokenizer.encode(example, return_tensors=\"pt\", truncation=True,max_length=model.config.max_position_embeddings) for example in batch]\n",
    "    max_length = max([t.size(1) for t in tokens])\n",
    "    tokens_padded = [torch.cat([t, t.new_zeros(t.size(0), max_length - t.size(1))], dim=1) for t in tokens]\n",
    "    tokens_padded = torch.cat(tokens_padded, dim=0)\n",
    "    return {\n",
    "        \"input_ids\":tokens_padded,\n",
    "        \"labels\":tokens_padded,\n",
    "        \"attention_mask\": torch.tensor(tokens_padded>0,dtype=int)\n",
    "    }\n",
    "def train(model, train_dataset, val_dataset, collate_fn, batch_size, epochs):\n",
    "    model.config.use_cache = False\n",
    "    training_args = TrainingArguments(output_dir=\"fine-tuning\",\n",
    "                                        do_train=True,\n",
    "                                        do_eval=True,\n",
    "                                        num_train_epochs=epochs,\n",
    "                                        per_device_train_batch_size=batch_size,\n",
    "                                        per_device_eval_batch_size=batch_size,\n",
    "                                        evaluation_strategy=\"epoch\",\n",
    "                                        logging_strategy=\"epoch\",\n",
    "                                        save_strategy=\"epoch\",\n",
    "                                        gradient_accumulation_steps=1,\n",
    "                                        gradient_checkpointing=False,\n",
    "                                        load_best_model_at_end = True,\n",
    "                                        optim=\"adafactor\",\n",
    "                                        )\n",
    "    trainer = Trainer(model=model,\n",
    "                    args=training_args,\n",
    "                    train_dataset=train_dataset,\n",
    "                    eval_dataset=val_dataset,\n",
    "                    tokenizer=tokenizer,\n",
    "                    data_collator=collate_fn,\n",
    "                    callbacks=[EarlyStoppingCallback(early_stop_patience, 0.0)] # if val loss improve for >1 iterations, end. \n",
    "                    )\n",
    "    trainer.train()\n",
    "    return model"
   ]
  },
  {
   "cell_type": "code",
   "execution_count": 7,
   "id": "8534281a",
   "metadata": {},
   "outputs": [
    {
     "name": "stderr",
     "output_type": "stream",
     "text": [
      "/tmp/ipykernel_21016/810807226.py:10: UserWarning: To copy construct from a tensor, it is recommended to use sourceTensor.clone().detach() or sourceTensor.clone().detach().requires_grad_(True), rather than torch.tensor(sourceTensor).\n",
      "  \"attention_mask\": torch.tensor(tokens_padded>0,dtype=int)\n"
     ]
    },
    {
     "data": {
      "text/html": [
       "\n",
       "    <div>\n",
       "      \n",
       "      <progress value='1340' max='8040' style='width:300px; height:20px; vertical-align: middle;'></progress>\n",
       "      [1340/8040 05:37 < 28:11, 3.96 it/s, Epoch 2/12]\n",
       "    </div>\n",
       "    <table border=\"1\" class=\"dataframe\">\n",
       "  <thead>\n",
       " <tr style=\"text-align: left;\">\n",
       "      <th>Epoch</th>\n",
       "      <th>Training Loss</th>\n",
       "      <th>Validation Loss</th>\n",
       "    </tr>\n",
       "  </thead>\n",
       "  <tbody>\n",
       "    <tr>\n",
       "      <td>1</td>\n",
       "      <td>5.467300</td>\n",
       "      <td>2.716797</td>\n",
       "    </tr>\n",
       "    <tr>\n",
       "      <td>2</td>\n",
       "      <td>2.562200</td>\n",
       "      <td>2.753906</td>\n",
       "    </tr>\n",
       "  </tbody>\n",
       "</table><p>"
      ],
      "text/plain": [
       "<IPython.core.display.HTML object>"
      ]
     },
     "metadata": {},
     "output_type": "display_data"
    },
    {
     "name": "stderr",
     "output_type": "stream",
     "text": [
      "/tmp/ipykernel_21016/810807226.py:10: UserWarning: To copy construct from a tensor, it is recommended to use sourceTensor.clone().detach() or sourceTensor.clone().detach().requires_grad_(True), rather than torch.tensor(sourceTensor).\n",
      "  \"attention_mask\": torch.tensor(tokens_padded>0,dtype=int)\n"
     ]
    }
   ],
   "source": [
    "train(model, train_dataset, val_dataset, collate_fn, bs, epochs)\n",
    "model.save_pretrained(f\"loss_ratio/pythia-{mod_size}\", from_pt=True) \n",
    "del model\n",
    "torch.cuda.empty_cache()"
   ]
  },
  {
   "cell_type": "code",
   "execution_count": 6,
   "id": "4658c417",
   "metadata": {},
   "outputs": [
    {
     "name": "stderr",
     "output_type": "stream",
     "text": [
      "/tmp/ipykernel_1502/810807226.py:10: UserWarning: To copy construct from a tensor, it is recommended to use sourceTensor.clone().detach() or sourceTensor.clone().detach().requires_grad_(True), rather than torch.tensor(sourceTensor).\n",
      "  \"attention_mask\": torch.tensor(tokens_padded>0,dtype=int)\n"
     ]
    }
   ],
   "source": [
    "model = GPTNeoXForCausalLM.from_pretrained(f\"./loss_ratio/pythia-{mod_size}\")\n",
    "train_dl = DataLoader(train_dataset, batch_size = 1, collate_fn=collate_fn)\n",
    "val_dl = DataLoader(val_dataset, batch_size = 1, collate_fn=collate_fn)\n",
    "train_result_ft = compute_dataloader_cross_entropy_v2(model,train_dl,device)\n",
    "val_result_ft = compute_dataloader_cross_entropy_v2(model,val_dl,device)\n",
    "del model\n",
    "torch.cuda.empty_cache()\n",
    "model = GPTNeoXForCausalLM.from_pretrained(\n",
    "  model_name,\n",
    "  revision=model_revision,\n",
    "  cache_dir=model_cache_dir,\n",
    ")\n",
    "train_result_base = compute_dataloader_cross_entropy_v2(model,train_dl,device)\n",
    "val_result_base = compute_dataloader_cross_entropy_v2(model,val_dl,device)"
   ]
  },
  {
   "cell_type": "code",
   "execution_count": 30,
   "id": "e3dde6e8",
   "metadata": {},
   "outputs": [
    {
     "data": {
      "image/png": "[encoded data removed]",
      "text/plain": [
       "<Figure size 640x480 with 1 Axes>"
      ]
     },
     "metadata": {},
     "output_type": "display_data"
    }
   ],
   "source": [
    "# Generate ROC curve \n",
    "train_ratios = (train_result_ft/train_result_base)[~torch.any((train_result_ft/train_result_base).isnan(),dim=1)]\n",
    "val_ratios = (val_result_ft/val_result_base)[~torch.any((val_result_ft/val_result_base).isnan(),dim=1)]\n",
    "fpr, tpr, thresholds = roc_curve(torch.cat((torch.zeros_like(train_ratios),torch.ones_like(val_ratios))).flatten(),\n",
    "                                 torch.cat((train_ratios,val_ratios)).flatten())\n",
    "roc_auc = auc(fpr, tpr)\n",
    "plt.figure()\n",
    "plt.loglog(fpr, tpr, color='darkorange', label='ROC curve (area = %0.2f)' % roc_auc)\n",
    "plt.plot([0, 1], [0, 1], color='navy', linestyle='--')\n",
    "plt.title(f\"Pythia-{mod_size} Simple LiRa ROC\")\n",
    "plt.legend(loc=\"lower right\")\n",
    "plt.xlabel('False Positive Rate')\n",
    "plt.ylabel('True Positive Rate')\n",
    "plt.show()"
   ]
  }
 ],
 "metadata": {
  "kernelspec": {
   "display_name": "unlearning",
   "language": "python",
   "name": "unlearning"
  },
  "language_info": {
   "codemirror_mode": {
    "name": "ipython",
    "version": 3
   },
   "file_extension": ".py",
   "mimetype": "text/x-python",
   "name": "python",
   "nbconvert_exporter": "python",
   "pygments_lexer": "ipython3",
   "version": "3.10.10"
  }
 },
 "nbformat": 4,
 "nbformat_minor": 5
}
