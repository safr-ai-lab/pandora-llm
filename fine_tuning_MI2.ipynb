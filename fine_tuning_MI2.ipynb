{
 "cells": [
  {
   "attachments": {},
   "cell_type": "markdown",
   "id": "dce3e3df",
   "metadata": {},
   "source": [
    "# Fine-Tuning MI"
   ]
  },
  {
   "cell_type": "code",
   "execution_count": 1,
   "id": "25b4292f",
   "metadata": {},
   "outputs": [],
   "source": [
    "import torch\n",
    "from torch.utils.data import DataLoader\n",
    "import json\n",
    "from datasets import load_dataset\n",
    "from transformers import GPTNeoXForCausalLM, AutoTokenizer\n",
    "from transformers.optimization import AdamW"
   ]
  },
  {
   "cell_type": "code",
   "execution_count": 2,
   "id": "17115c2e",
   "metadata": {},
   "outputs": [],
   "source": [
    "## Memory statistics. I had to be careful with cuda memory \n",
    "def mem_stats():\n",
    "    t = torch.cuda.get_device_properties(0).total_memory / 1024**3\n",
    "    r = torch.cuda.memory_reserved(0) / 1024**3\n",
    "    a = torch.cuda.memory_allocated(0) / 1024**3\n",
    "    print(f\"Total Memory: {t:.2f} GB\\n\"\n",
    "          f\"Reserved Memory: {r:.2f} GB ({(100*(r/t)):.2f}%)\\n\"\n",
    "          f\"Remaining Memory: {t-r:.2f} GB ({(100*(t-r)/t):.2f}%)\\n\"\n",
    "          f\"---------------------------------\\n\"\n",
    "          f\"Allocated Memory: {a:.2f} GB ({(100*(a/t)):.2f}%)\\n\"\n",
    "          f\"Percent of Reserved Allocated: {(100*(a+1e-9)/(r+1e-9)):.2f}%\\n\")"
   ]
  },
  {
   "cell_type": "code",
   "execution_count": 3,
   "id": "a8e76099",
   "metadata": {},
   "outputs": [
    {
     "name": "stdout",
     "output_type": "stream",
     "text": [
      "Total Memory: 15.77 GB\n",
      "Reserved Memory: 2.74 GB (17.40%)\n",
      "Remaining Memory: 13.03 GB (82.60%)\n",
      "---------------------------------\n",
      "Allocated Memory: 2.73 GB (17.30%)\n",
      "Percent of Reserved Allocated: 99.44%\n",
      "\n"
     ]
    }
   ],
   "source": [
    "## Model and tokenizer\n",
    "model = GPTNeoXForCausalLM.from_pretrained(\n",
    "  \"EleutherAI/pythia-1.4B-deduped\",\n",
    "  revision=\"step143000\",\n",
    "  cache_dir=\"./pythia-1.4B-deduped/step143000\",\n",
    ")\n",
    "\n",
    "tokenizer = AutoTokenizer.from_pretrained(\n",
    "  \"EleutherAI/pythia-1.4B-deduped\",\n",
    "  revision=\"step143000\",\n",
    "  cache_dir=\"./pythia-1.4B-deduped/step143000\",\n",
    ")\n",
    "\n",
    "model_name = \"EleutherAI/pythia-1.4B-deduped\"\n",
    "model_revision = \"step143000\"\n",
    "model_cache_dir = \"./pythia-1.4B-deduped/step143000\"\n",
    "\n",
    "device = \"cuda\" if torch.cuda.is_available() else \"cpu\"\n",
    "\n",
    "# model.half()\n",
    "model.eval()\n",
    "model.to(device)\n",
    "mem_stats()"
   ]
  },
  {
   "cell_type": "code",
   "execution_count": 5,
   "id": "9b4f6faf",
   "metadata": {},
   "outputs": [
    {
     "name": "stderr",
     "output_type": "stream",
     "text": [
      "No config specified, defaulting to: the_pile_val/all\n",
      "Found cached dataset the_pile_val (/home/ubuntu/.cache/huggingface/datasets/the_pile_val/all/0.0.0/33c9237089c5fb09f83b2ab7ac73d703de97fc4d122e4b82a7777d85b0919e30)\n"
     ]
    },
    {
     "name": "stdout",
     "output_type": "stream",
     "text": [
      "1073\n"
     ]
    }
   ],
   "source": [
    "# Just a simple deduping for now...can look into how EleutherAI did it when we scale it up\n",
    "dataset = list(set(entry[\"text\"] for entry in load_dataset(\"wk1/the_pile_val.py\", split=\"validation[:1%]\")))\n",
    "training_dataset = dataset[:len(dataset)//2]\n",
    "validation_dataset = dataset[len(dataset)//2:]\n",
    "print(len(training_dataset))"
   ]
  },
  {
   "cell_type": "code",
   "execution_count": 8,
   "id": "22d9b9d9",
   "metadata": {},
   "outputs": [],
   "source": [
    "from transformers import Trainer, TrainingArguments\n",
    "def collate_fn(batch):\n",
    "    tokens = [tokenizer.encode(example, return_tensors=\"pt\", truncation=True,max_length=model.config.max_position_embeddings) for example in batch]\n",
    "    max_length = max([t.size(1) for t in tokens])\n",
    "    tokens_padded = [torch.cat([t, t.new_zeros(t.size(0), max_length - t.size(1))], dim=1) for t in tokens]\n",
    "    tokens_padded = torch.cat(tokens_padded, dim=0)\n",
    "    return {\n",
    "        \"input_ids\":tokens_padded,\n",
    "        \"labels\":tokens_padded,\n",
    "        \"attention_mask\": torch.tensor(tokens_padded>0,dtype=int)\n",
    "    }\n",
    "model.config.use_cache = False\n",
    "training_args = TrainingArguments(output_dir=\"fine-tuning\",\n",
    "                                  num_train_epochs=1,\n",
    "                                  evaluation_strategy=\"steps\",\n",
    "                                  per_device_train_batch_size=1,\n",
    "                                  per_device_eval_batch_size=1,\n",
    "                                  gradient_accumulation_steps=10,\n",
    "                                  gradient_checkpointing=True,\n",
    "                                  # fp16=True,\n",
    "                                  optim=\"adafactor\",\n",
    "                                  )\n",
    "trainer = Trainer(model=model,\n",
    "                  args=training_args,\n",
    "                  train_dataset=training_dataset,\n",
    "                #   eval_dataset=validation_dataset,\n",
    "                  tokenizer=tokenizer,\n",
    "                  data_collator=collate_fn,\n",
    "                )"
   ]
  },
  {
   "cell_type": "code",
   "execution_count": 9,
   "id": "4f9f41cb",
   "metadata": {},
   "outputs": [
    {
     "name": "stderr",
     "output_type": "stream",
     "text": [
      "/tmp/ipykernel_17400/3829036104.py:10: UserWarning: To copy construct from a tensor, it is recommended to use sourceTensor.clone().detach() or sourceTensor.clone().detach().requires_grad_(True), rather than torch.tensor(sourceTensor).\n",
      "  \"attention_mask\": torch.tensor(tokens_padded>0,dtype=int)\n"
     ]
    },
    {
     "data": {
      "text/html": [
       "\n",
       "    <div>\n",
       "      \n",
       "      <progress value='107' max='107' style='width:300px; height:20px; vertical-align: middle;'></progress>\n",
       "      [107/107 05:33, Epoch 0.99/1]\n",
       "    </div>\n",
       "    <table border=\"1\" class=\"dataframe\">\n",
       "  <thead>\n",
       " <tr style=\"text-align: left;\">\n",
       "      <th>Step</th>\n",
       "      <th>Training Loss</th>\n",
       "      <th>Validation Loss</th>\n",
       "    </tr>\n",
       "  </thead>\n",
       "  <tbody>\n",
       "  </tbody>\n",
       "</table><p>"
      ],
      "text/plain": [
       "<IPython.core.display.HTML object>"
      ]
     },
     "metadata": {},
     "output_type": "display_data"
    },
    {
     "data": {
      "text/plain": [
       "TrainOutput(global_step=107, training_loss=2.3412080568687936, metrics={'train_runtime': 338.6594, 'train_samples_per_second': 3.168, 'train_steps_per_second': 0.316, 'total_flos': 6047069677338624.0, 'train_loss': 2.3412080568687936, 'epoch': 1.0})"
      ]
     },
     "execution_count": 9,
     "metadata": {},
     "output_type": "execute_result"
    }
   ],
   "source": [
    "trainer.train()"
   ]
  },
  {
   "cell_type": "code",
   "execution_count": 15,
   "id": "0dda115c",
   "metadata": {},
   "outputs": [
    {
     "name": "stdout",
     "output_type": "stream",
     "text": [
      "Total Memory: 15.77 GB\n",
      "Reserved Memory: 8.29 GB (52.53%)\n",
      "Remaining Memory: 7.49 GB (47.47%)\n",
      "---------------------------------\n",
      "Allocated Memory: 2.75 GB (17.44%)\n",
      "Percent of Reserved Allocated: 33.20%\n",
      "\n"
     ]
    }
   ],
   "source": [
    "bs = 8\n",
    "## Dataloader \n",
    "def collate_fn(batch):\n",
    "    tokens = [tokenizer.encode(example, return_tensors=\"pt\", truncation=True,max_length=model.config.max_position_embeddings) for example in batch]\n",
    "    max_length = max([t.size(1) for t in tokens])\n",
    "    tokens_padded = [torch.cat([t, t.new_zeros(t.size(0), max_length - t.size(1))], dim=1) for t in tokens]\n",
    "    tokens_padded = torch.cat(tokens_padded, dim=0)\n",
    "    return tokens_padded\n",
    "training_dataloader = DataLoader(training_dataset, batch_size = bs, collate_fn=collate_fn, shuffle = True)\n",
    "validation_dataloader = DataLoader(validation_dataset, batch_size = bs, collate_fn=collate_fn, shuffle = True)\n",
    "mem_stats()"
   ]
  },
  {
   "cell_type": "code",
   "execution_count": 24,
   "id": "a88ca709",
   "metadata": {},
   "outputs": [],
   "source": [
    "nbatches = 200 ## Number of batches to gather data on. Number of data points is ns * nbatches\n",
    "samplelength = 20 ## How long are the sequences we take from the training and validation sets."
   ]
  },
  {
   "cell_type": "code",
   "execution_count": 29,
   "id": "78322c6a",
   "metadata": {},
   "outputs": [
    {
     "name": "stdout",
     "output_type": "stream",
     "text": [
      "Training batch no.  0\n",
      "Memory after training\n",
      "Total Memory: 15.77 GB\n",
      "Reserved Memory: 2.79 GB (17.70%)\n",
      "Remaining Memory: 12.98 GB (82.30%)\n",
      "---------------------------------\n",
      "Allocated Memory: 2.75 GB (17.44%)\n",
      "Percent of Reserved Allocated: 98.55%\n",
      "\n",
      "\n",
      "Training batch no.  20\n",
      "Memory after training\n",
      "Total Memory: 15.77 GB\n",
      "Reserved Memory: 2.79 GB (17.70%)\n",
      "Remaining Memory: 12.98 GB (82.30%)\n",
      "---------------------------------\n",
      "Allocated Memory: 2.75 GB (17.44%)\n",
      "Percent of Reserved Allocated: 98.55%\n",
      "\n",
      "\n",
      "Training batch no.  40\n",
      "Memory after training\n",
      "Total Memory: 15.77 GB\n",
      "Reserved Memory: 2.79 GB (17.70%)\n",
      "Remaining Memory: 12.98 GB (82.30%)\n",
      "---------------------------------\n",
      "Allocated Memory: 2.75 GB (17.44%)\n",
      "Percent of Reserved Allocated: 98.55%\n",
      "\n",
      "\n",
      "Training batch no.  60\n",
      "Memory after training\n",
      "Total Memory: 15.77 GB\n",
      "Reserved Memory: 2.79 GB (17.70%)\n",
      "Remaining Memory: 12.98 GB (82.30%)\n",
      "---------------------------------\n",
      "Allocated Memory: 2.75 GB (17.44%)\n",
      "Percent of Reserved Allocated: 98.55%\n",
      "\n",
      "\n",
      "Training batch no.  80\n",
      "Memory after training\n",
      "Total Memory: 15.77 GB\n",
      "Reserved Memory: 2.79 GB (17.70%)\n",
      "Remaining Memory: 12.98 GB (82.30%)\n",
      "---------------------------------\n",
      "Allocated Memory: 2.75 GB (17.44%)\n",
      "Percent of Reserved Allocated: 98.55%\n",
      "\n",
      "\n",
      "Training batch no.  100\n",
      "Memory after training\n",
      "Total Memory: 15.77 GB\n",
      "Reserved Memory: 2.79 GB (17.70%)\n",
      "Remaining Memory: 12.98 GB (82.30%)\n",
      "---------------------------------\n",
      "Allocated Memory: 2.75 GB (17.44%)\n",
      "Percent of Reserved Allocated: 98.55%\n",
      "\n",
      "\n",
      "Training batch no.  120\n",
      "Memory after training\n",
      "Total Memory: 15.77 GB\n",
      "Reserved Memory: 2.79 GB (17.70%)\n",
      "Remaining Memory: 12.98 GB (82.30%)\n",
      "---------------------------------\n",
      "Allocated Memory: 2.75 GB (17.44%)\n",
      "Percent of Reserved Allocated: 98.55%\n",
      "\n",
      "\n"
     ]
    }
   ],
   "source": [
    "## Training dataset information\n",
    "training_sum_perplexity = torch.zeros((nbatches, bs))\n",
    "for batchno, training_x in enumerate(training_dataloader):\n",
    "    if batchno >= nbatches:\n",
    "        break\n",
    "    with torch.no_grad():       \n",
    "        ## Get predictions on training data                       \n",
    "        training_x = training_x[:,:samplelength].to(device).detach()\n",
    "        mask  = (training_x>0).detach()     \n",
    "\n",
    "        model.train(False)\n",
    "        logits_training = model(input_ids=training_x, attention_mask = mask)\n",
    "\n",
    "        ## Find sum of log likelihood of each sequence\n",
    "        for batch in range(bs):\n",
    "            seq_logits = torch.zeros((len(training_x[0])))\n",
    "            \n",
    "            ## Find sum of log likelihood of each sequence\n",
    "            for idx, w in enumerate(training_x[min(batch,training_x.shape[0]-1),]):\n",
    "                if training_x[min(batch,training_x.shape[0]-1),idx] == 0:\n",
    "                    break\n",
    "                seq_logits[idx] = logits_training.logits[min(batch,training_x.shape[0]-1),idx,w]\n",
    "            \n",
    "            ## Case for when we reach the end of the sequence\n",
    "            if training_x[min(batch,training_x.shape[0]-1),idx] != 0:\n",
    "                idx += 1\n",
    "\n",
    "            ## Compute perplexity\n",
    "            training_sum_perplexity[batchno, min(batch,training_x.shape[0]-1)]= torch.sum(seq_logits[:idx]-torch.log(1+torch.exp(seq_logits[:idx])))/idx\n",
    "\n",
    "            ## Clean up \n",
    "            del seq_logits\n",
    "            torch.cuda.empty_cache()\n",
    "            torch.cuda.synchronize()\n",
    "\n",
    "        ## Cleaning up\n",
    "        del training_x, mask, logits_training\n",
    "        torch.cuda.empty_cache()\n",
    "        torch.cuda.synchronize()\n",
    "    if batchno % 20 == 0:\n",
    "        print(\"Training batch no. \", batchno)  \n",
    "        print(\"Memory after training\")\n",
    "        mem_stats()\n",
    "        print()"
   ]
  },
  {
   "cell_type": "code",
   "execution_count": 30,
   "id": "52dd3461",
   "metadata": {},
   "outputs": [
    {
     "name": "stdout",
     "output_type": "stream",
     "text": [
      "Training batch no.  0\n",
      "Memory after training\n",
      "Total Memory: 15.77 GB\n",
      "Reserved Memory: 2.79 GB (17.70%)\n",
      "Remaining Memory: 12.98 GB (82.30%)\n",
      "---------------------------------\n",
      "Allocated Memory: 2.75 GB (17.44%)\n",
      "Percent of Reserved Allocated: 98.55%\n",
      "\n",
      "\n",
      "Training batch no.  20\n",
      "Memory after training\n",
      "Total Memory: 15.77 GB\n",
      "Reserved Memory: 2.79 GB (17.70%)\n",
      "Remaining Memory: 12.98 GB (82.30%)\n",
      "---------------------------------\n",
      "Allocated Memory: 2.75 GB (17.44%)\n",
      "Percent of Reserved Allocated: 98.55%\n",
      "\n",
      "\n",
      "Training batch no.  40\n",
      "Memory after training\n",
      "Total Memory: 15.77 GB\n",
      "Reserved Memory: 2.79 GB (17.70%)\n",
      "Remaining Memory: 12.98 GB (82.30%)\n",
      "---------------------------------\n",
      "Allocated Memory: 2.75 GB (17.44%)\n",
      "Percent of Reserved Allocated: 98.55%\n",
      "\n",
      "\n",
      "Training batch no.  60\n",
      "Memory after training\n",
      "Total Memory: 15.77 GB\n",
      "Reserved Memory: 2.79 GB (17.70%)\n",
      "Remaining Memory: 12.98 GB (82.30%)\n",
      "---------------------------------\n",
      "Allocated Memory: 2.75 GB (17.44%)\n",
      "Percent of Reserved Allocated: 98.55%\n",
      "\n",
      "\n",
      "Training batch no.  80\n",
      "Memory after training\n",
      "Total Memory: 15.77 GB\n",
      "Reserved Memory: 2.79 GB (17.70%)\n",
      "Remaining Memory: 12.98 GB (82.30%)\n",
      "---------------------------------\n",
      "Allocated Memory: 2.75 GB (17.44%)\n",
      "Percent of Reserved Allocated: 98.55%\n",
      "\n",
      "\n",
      "Training batch no.  100\n",
      "Memory after training\n",
      "Total Memory: 15.77 GB\n",
      "Reserved Memory: 2.79 GB (17.70%)\n",
      "Remaining Memory: 12.98 GB (82.30%)\n",
      "---------------------------------\n",
      "Allocated Memory: 2.75 GB (17.44%)\n",
      "Percent of Reserved Allocated: 98.55%\n",
      "\n",
      "\n",
      "Training batch no.  120\n",
      "Memory after training\n",
      "Total Memory: 15.77 GB\n",
      "Reserved Memory: 2.79 GB (17.70%)\n",
      "Remaining Memory: 12.98 GB (82.30%)\n",
      "---------------------------------\n",
      "Allocated Memory: 2.75 GB (17.44%)\n",
      "Percent of Reserved Allocated: 98.55%\n",
      "\n",
      "\n"
     ]
    }
   ],
   "source": [
    "validation_sum_perplexity = torch.zeros((nbatches, bs))\n",
    "for batchno, validation_x in enumerate(validation_dataloader):\n",
    "    if batchno >= nbatches:\n",
    "        break\n",
    "    with torch.no_grad():               \n",
    "        ## Get predictions on validation data                 \n",
    "        validation_x = validation_x[:,:samplelength].to(device).detach()\n",
    "        mask  = (validation_x>0).detach()                                     \n",
    "\n",
    "        model.train(False)\n",
    "        logits_validation = model(input_ids=validation_x, attention_mask = mask)\n",
    "\n",
    "        ## Find sum of log likelihood of each sequence\n",
    "        for batch in range(bs):\n",
    "            seq_logits = torch.zeros((len(validation_x[0])))\n",
    "\n",
    "            ## Find logits of each word in the sequence\n",
    "            for idx, w in enumerate(validation_x[min(batch,validation_x.shape[0]-1),]):\n",
    "                if validation_x[min(batch,validation_x.shape[0]-1),idx] == 0:\n",
    "                    break\n",
    "                seq_logits[idx] = logits_validation.logits[min(batch,validation_x.shape[0]-1),idx,w]\n",
    "            if validation_x[min(batch,validation_x.shape[0]-1),idx] != 0:\n",
    "                idx += 1\n",
    "            validation_sum_perplexity[batchno, min(batch,validation_x.shape[0]-1)]= torch.sum(seq_logits[:idx]-torch.log(1+torch.exp(seq_logits[:idx])))/idx\n",
    "\n",
    "            ## Clean up \n",
    "            del seq_logits\n",
    "            torch.cuda.empty_cache()\n",
    "            torch.cuda.synchronize()\n",
    "\n",
    "\n",
    "        ## Cleaning up\n",
    "        del validation_x, mask, logits_validation\n",
    "        torch.cuda.empty_cache()\n",
    "        torch.cuda.synchronize()\n",
    "    if batchno % 20 == 0:\n",
    "        print(\"Training batch no. \", batchno)  \n",
    "        print(\"Memory after training\")\n",
    "        mem_stats()\n",
    "        print()"
   ]
  },
  {
   "cell_type": "code",
   "execution_count": 31,
   "id": "35754426",
   "metadata": {},
   "outputs": [
    {
     "data": {
      "image/png": "[encoded data removed]",
      "text/plain": [
       "<Figure size 640x480 with 1 Axes>"
      ]
     },
     "metadata": {},
     "output_type": "display_data"
    }
   ],
   "source": [
    "import matplotlib.pyplot as plt\n",
    "import numpy as np\n",
    "\n",
    "# generate two sets of random values\n",
    "with torch.no_grad():\n",
    "    valuestraining   = torch.flatten(training_sum_perplexity) \n",
    "    valuesvalidation = torch.flatten(validation_sum_perplexity)\n",
    "\n",
    "# create a figure and axis object\n",
    "fig, ax = plt.subplots()\n",
    "\n",
    "# plot a histogram of the first set of values with 20 bins\n",
    "ax.hist(valuestraining, bins=20, alpha=0.5, label='training')\n",
    "\n",
    "# plot a histogram of the second set of values with 20 bins\n",
    "ax.hist(valuesvalidation, bins=20, alpha=0.5, label='validation')\n",
    "\n",
    "# add a legend to the plot\n",
    "ax.legend(loc='upper right')\n",
    "\n",
    "# add labels and a title to the plot\n",
    "ax.set_xlabel('Value')\n",
    "ax.set_ylabel('Frequency')\n",
    "ax.set_title('Histogram of Two Classes of Values')\n",
    "\n",
    "# show the plot\n",
    "plt.show()"
   ]
  },
  {
   "cell_type": "code",
   "execution_count": 32,
   "id": "88bc2a87",
   "metadata": {},
   "outputs": [
    {
     "name": "stdout",
     "output_type": "stream",
     "text": [
      "tensor(-2.0163) tensor(0.)\n"
     ]
    },
    {
     "data": {
      "image/png": "[encoded data removed]",
      "text/plain": [
       "<Figure size 640x480 with 1 Axes>"
      ]
     },
     "metadata": {},
     "output_type": "display_data"
    }
   ],
   "source": [
    "from sklearn.metrics import roc_curve, auc\n",
    "\n",
    "## Scale all values to be between 0 and 1\n",
    "st = min(valuestraining.min(),valuesvalidation.min())\n",
    "end = max(valuestraining.max(),valuesvalidation.max())\n",
    "print(st,end)\n",
    "\n",
    "y_scores =  torch.cat((valuestraining, valuesvalidation))\n",
    "y_scores = y_scores-min(y_scores)\n",
    "y_scores = y_scores/max(y_scores)\n",
    "y_true   = [1 for _ in range(len(valuestraining))] + [0 for _ in range(len(valuesvalidation))]\n",
    "\n",
    "fpr, tpr, thresholds = roc_curve(y_true, y_scores)\n",
    "\n",
    "# Calculate the area under the ROC curve (AUC)\n",
    "roc_auc = auc(fpr, tpr)\n",
    "\n",
    "# Plot the ROC curve\n",
    "plt.plot(fpr, tpr, color='darkorange', label='ROC curve (area = %0.2f)' % roc_auc)\n",
    "plt.plot([0, 1], [0, 1], color='navy', linestyle='--')\n",
    "plt.xlim([0.0, 1.0])\n",
    "plt.ylim([0.0, 1.05])\n",
    "plt.xlabel('False Positive Rate')\n",
    "plt.ylabel('True Positive Rate')\n",
    "plt.title('Receiver Operating Characteristic (ROC) Curve')\n",
    "plt.legend(loc=\"lower right\")\n",
    "plt.savefig(\"test.png\")"
   ]
  }
 ],
 "metadata": {
  "kernelspec": {
   "display_name": "Python 3 (ipykernel)",
   "language": "python",
   "name": "python3"
  },
  "language_info": {
   "codemirror_mode": {
    "name": "ipython",
    "version": 3
   },
   "file_extension": ".py",
   "mimetype": "text/x-python",
   "name": "python",
   "nbconvert_exporter": "python",
   "pygments_lexer": "ipython3",
   "version": "3.10.10"
  }
 },
 "nbformat": 4,
 "nbformat_minor": 5
}
